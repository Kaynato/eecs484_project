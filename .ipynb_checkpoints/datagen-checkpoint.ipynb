{
 "cells": [
  {
   "cell_type": "markdown",
   "metadata": {},
   "source": [
    "# Data creation for Cubic Bezier Curve Identification Network"
   ]
  },
  {
   "cell_type": "code",
   "execution_count": 23,
   "metadata": {
    "collapsed": true
   },
   "outputs": [],
   "source": [
    "import glob\n",
    "import os\n",
    "import sys\n",
    "\n",
    "from tqdm import tqdm\n",
    "import numpy as np\n",
    "from PIL import Image\n",
    "\n",
    "import matplotlib.pyplot as plt\n",
    "%matplotlib inline"
   ]
  },
  {
   "cell_type": "code",
   "execution_count": 2,
   "metadata": {
    "collapsed": true
   },
   "outputs": [],
   "source": []
  },
  {
   "cell_type": "code",
   "execution_count": 3,
   "metadata": {
    "collapsed": false
   },
   "outputs": [],
   "source": [
    "DIMS = (64, 64)\n",
    "STEPS = 100.00\n",
    "MIN_WIDTH = 1.0 / 2.0\n",
    "MAX_WIDTH = 3.0 / 2.0\n",
    "SINGLE_BATCH = 100\n",
    "\n",
    "# Numerical stability\n",
    "RHO = 64"
   ]
  },
  {
   "cell_type": "code",
   "execution_count": 46,
   "metadata": {
    "collapsed": false
   },
   "outputs": [],
   "source": [
    "SAVE_DIR = './data/'\n",
    "\n",
    "if not os.path.isdir(SAVE_DIR):\n",
    "    print('Cannot find save directory; creating it now.')\n",
    "    os.mkdir(SAVE_DIR)\n",
    "    \n",
    "MASK_DIR = os.path.join(SAVE_DIR, 'masks')\n",
    "COORD_DIR = os.path.join(SAVE_DIR, 'coords')\n",
    "WIDTH_DIR = os.path.join(SAVE_DIR, 'widths')\n",
    "\n",
    "if not os.path.isdir(MASK_DIR):\n",
    "    os.mkdir(MASK_DIR)\n",
    "    \n",
    "if not os.path.isdir(COORD_DIR):\n",
    "    os.mkdir(COORD_DIR)\n",
    "    \n",
    "if not os.path.isdir(WIDTH_DIR):\n",
    "    os.mkdir(WIDTH_DIR)\n"
   ]
  },
  {
   "cell_type": "code",
   "execution_count": 17,
   "metadata": {
    "collapsed": false
   },
   "outputs": [
    {
     "name": "stderr",
     "output_type": "stream",
     "text": [
      "F:\\ProgramData\\Anaconda3\\lib\\site-packages\\ipykernel\\__main__.py:1: VisibleDeprecationWarning: using a non-integer number instead of an integer will result in an error in the future\n",
      "  if __name__ == '__main__':\n",
      "F:\\ProgramData\\Anaconda3\\lib\\site-packages\\ipykernel\\__main__.py:2: VisibleDeprecationWarning: using a non-integer number instead of an integer will result in an error in the future\n",
      "  from ipykernel import kernelapp as app\n",
      "F:\\ProgramData\\Anaconda3\\lib\\site-packages\\ipykernel\\__main__.py:3: VisibleDeprecationWarning: using a non-integer number instead of an integer will result in an error in the future\n",
      "  app.launch_new_instance()\n"
     ]
    }
   ],
   "source": [
    "tplusp = np.zeros((3, STEPS), dtype='float32') # t^n\n",
    "tminus = np.zeros((3, STEPS), dtype='float32') # (1-t)^n\n",
    "coeffs = np.zeros((4, STEPS), dtype='float32') # (1-t)^n\n",
    "\n",
    "tplusp[0] = np.r_[0:100] / (STEPS - 1)\n",
    "tminus[0] = 1 - tplusp[0]\n",
    "\n",
    "for i in range(1, 3):\n",
    "    np.multiply(tplusp[i - 1], tplusp[0], out=tplusp[i])\n",
    "    np.multiply(tminus[i - 1], tminus[0], out=tminus[i])\n",
    "    \n",
    "coeffs[0] = tminus[2]\n",
    "coeffs[1] = 3 * tminus[1] * tplusp[0]\n",
    "coeffs[2] = 3 * tminus[0] * tplusp[1]\n",
    "coeffs[3] = tplusp[2]\n",
    "\n",
    "idyx = np.zeros(DIMS + (2,) , dtype='float32')\n",
    "idyx[..., 0] = np.c_[:DIMS[0]]\n",
    "idyx[..., 1] = np.r_[:DIMS[1]]\n",
    "\n"
   ]
  },
  {
   "cell_type": "code",
   "execution_count": 26,
   "metadata": {
    "collapsed": false
   },
   "outputs": [],
   "source": [
    "def generate_data(batch):\n",
    "    \n",
    "    # all 4 bezier coords (pre-sum)\n",
    "    bez_points = np.zeros((SINGLE_BATCH, 4, 2, STEPS), dtype='float32')\n",
    "\n",
    "    # yx per step\n",
    "    bez_coords = np.zeros((SINGLE_BATCH, 2, STEPS), dtype='float32')\n",
    "\n",
    "    # dy dx per step\n",
    "    point_deltas = np.zeros((SINGLE_BATCH,) + DIMS + (2, 100), dtype='float32')\n",
    "\n",
    "    # dist per step\n",
    "    point_dists = np.zeros((SINGLE_BATCH,) + DIMS + (100,), dtype='float32')\n",
    "\n",
    "    # img\n",
    "    bez_masks = np.zeros((SINGLE_BATCH,) + DIMS, dtype='float32')\n",
    "\n",
    "    \n",
    "    # CUBIC BEZIER RANDOM PARAMETERS\n",
    "    bez_params = np.random.ranf(size=(SINGLE_BATCH, 4, 2))\n",
    "    bez_params[..., 0] *= DIMS[0]\n",
    "    bez_params[..., 1] *= DIMS[1]\n",
    "\n",
    "    bez_widths = np.random.ranf(size=(SINGLE_BATCH, 1))\n",
    "    bez_widths *= MAX_WIDTH - MIN_WIDTH\n",
    "    bez_widths += MIN_WIDTH\n",
    "\n",
    "    # Reorder top left first\n",
    "    for i, param in enumerate(bez_params):\n",
    "        if param[0, 0] > param[-1, 0]:\n",
    "            bez_params[i] = param[::-1]\n",
    "            \n",
    "    # broadcast and operate\n",
    "    b_coeffs = coeffs[None, :, None, :]\n",
    "    b_params = bez_params[:, :, :, None]\n",
    "    np.multiply(b_params, b_coeffs, out=bez_points)\n",
    "\n",
    "    # Sum for point yx\n",
    "    np.sum(bez_points, axis=1, out=bez_coords)\n",
    "\n",
    "    # 2-dist to indices\n",
    "    b_coord = bez_coords[:, None, None, :, :]\n",
    "    b_idyx = idyx[None, ..., None]\n",
    "    np.subtract(b_coord, b_idyx, out=point_deltas)\n",
    "    np.divide(point_deltas, RHO, out=point_deltas)\n",
    "    np.square(point_deltas, out=point_deltas)\n",
    "    np.sum(point_deltas, axis=3, out=point_dists)\n",
    "\n",
    "    # Combine all steps\n",
    "    bez_widthsq = np.square(bez_widths / RHO)[..., None, None]\n",
    "    np.less_equal(point_dists, bez_widthsq, out=point_dists)\n",
    "    np.sum(point_dists, axis=3, out=bez_masks)\n",
    "    np.greater_equal(bez_masks, 1, out=bez_masks)\n",
    "    \n",
    "    return {\n",
    "        'masks': bez_masks.astype('uint8'),\n",
    "        'coords': bez_coords,\n",
    "        'widths': bez_widths\n",
    "    }"
   ]
  },
  {
   "cell_type": "code",
   "execution_count": 49,
   "metadata": {
    "collapsed": false
   },
   "outputs": [],
   "source": [
    "max_iter = 100\n",
    "max_iter_digits = int(np.log10(max_iter))\n",
    "numberer = '{{:0{}}}.npy'.format(max_iter_digits)"
   ]
  },
  {
   "cell_type": "code",
   "execution_count": 50,
   "metadata": {
    "collapsed": false
   },
   "outputs": [
    {
     "name": "stderr",
     "output_type": "stream",
     "text": [
      "  0%|                                                  | 0/100 [00:00<?, ?it/s]F:\\ProgramData\\Anaconda3\\lib\\site-packages\\ipykernel\\__main__.py:4: VisibleDeprecationWarning: using a non-integer number instead of an integer will result in an error in the future\n",
      "F:\\ProgramData\\Anaconda3\\lib\\site-packages\\ipykernel\\__main__.py:7: VisibleDeprecationWarning: using a non-integer number instead of an integer will result in an error in the future\n",
      "100%|████████████████████████████████████████| 100/100 [00:37<00:00,  2.72it/s]\n"
     ]
    }
   ],
   "source": [
    "for i in tqdm(range(0, max_iter)):\n",
    "    for key, item in generate_data(batch=SINGLE_BATCH).items():\n",
    "        dest = os.path.join(SAVE_DIR, key, numberer.format(i))\n",
    "        np.save(arr=item, file=open(dest, mode='bw+'), allow_pickle=False)"
   ]
  },
  {
   "cell_type": "code",
   "execution_count": null,
   "metadata": {
    "collapsed": false,
    "scrolled": true
   },
   "outputs": [],
   "source": []
  },
  {
   "cell_type": "code",
   "execution_count": null,
   "metadata": {
    "collapsed": false
   },
   "outputs": [],
   "source": []
  },
  {
   "cell_type": "code",
   "execution_count": 67,
   "metadata": {
    "collapsed": false
   },
   "outputs": [
    {
     "data": {
      "image/png": "[encoded data removed]",
      "text/plain": [
       "<matplotlib.figure.Figure at 0xdfc566c390>"
      ]
     },
     "metadata": {},
     "output_type": "display_data"
    }
   ],
   "source": [
    "def check_bezier(masks, coords, i):\n",
    "    f, (ax1, ax2) = plt.subplots(1, 2, figsize=(16, 8))\n",
    "    ax1.imshow(masks[i], origin='lower', cmap=plt.cm.gray_r)\n",
    "    ax2.plot(coords[i, 1], coords[i, 0])\n",
    "    ax2.axis((0, DIMS[1], 0, DIMS[0]))\n",
    "    ax2.set_aspect('equal')\n",
    "    plt.show()\n",
    "                   \n",
    "check_bezier(bez_masks, bez_coords, 5)"
   ]
  },
  {
   "cell_type": "code",
   "execution_count": null,
   "metadata": {
    "collapsed": true
   },
   "outputs": [],
   "source": []
  }
 ],
 "metadata": {
  "kernelspec": {
   "display_name": "Python 3",
   "language": "python",
   "name": "python3"
  },
  "language_info": {
   "codemirror_mode": {
    "name": "ipython",
    "version": 3
   },
   "file_extension": ".py",
   "mimetype": "text/x-python",
   "name": "python",
   "nbconvert_exporter": "python",
   "pygments_lexer": "ipython3",
   "version": "3.6.0"
  }
 },
 "nbformat": 4,
 "nbformat_minor": 2
}
