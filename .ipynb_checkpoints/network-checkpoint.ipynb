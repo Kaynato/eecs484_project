{
 "cells": [
  {
   "cell_type": "code",
   "execution_count": 1,
   "metadata": {
    "collapsed": true
   },
   "outputs": [],
   "source": [
    "\"\"\"\n",
    "Quick and Compact Bezier Curve Detection with Fast Meta CNNs\n",
    "\"\"\"\n",
    "\n",
    "import glob\n",
    "import pickle\n",
    "import os\n",
    "import sys\n",
    "import random\n",
    "\n",
    "import numpy as np\n",
    "import tensorflow as tf\n",
    "\n",
    "import tensorpack as tp\n",
    "from tensorpack.tfutils.summary import add_moving_summary\n",
    "from tensorpack.tfutils.scope_utils import auto_reuse_variable_scope\n",
    "import tensorpack.tfutils.symbolic_functions as symbf"
   ]
  },
  {
   "cell_type": "code",
   "execution_count": 2,
   "metadata": {
    "collapsed": true
   },
   "outputs": [],
   "source": [
    "DIMS = (64, 64)\n",
    "BATCH = 100\n",
    "EX_PER_FILE = 100\n",
    "\n",
    "NET_OPTION = 'fwb'\n",
    "USE_IDYX = True"
   ]
  },
  {
   "cell_type": "code",
   "execution_count": 3,
   "metadata": {
    "collapsed": false
   },
   "outputs": [],
   "source": [
    "SAVE_DIR = './data/'\n",
    "MASK_DIR = os.path.join(SAVE_DIR, 'masks')\n",
    "PARAM_DIR = os.path.join(SAVE_DIR, 'params')\n",
    "WIDTH_DIR = os.path.join(SAVE_DIR, 'widths')\n",
    "\n",
    "# Special dataflow\n",
    "class LineDataFlow(tp.RNGDataFlow):\n",
    "    \n",
    "    def __init__(self, filenames, do_shuffle):\n",
    "        self.filenames = filenames\n",
    "        self.do_shuffle = do_shuffle\n",
    "        \n",
    "    def size(self):\n",
    "        return len(self.filenames) * EX_PER_FILE\n",
    "    \n",
    "    def get_data(self):\n",
    "        for name in self.filenames:\n",
    "            masks = np.load(os.path.join(MASK_DIR, name))\n",
    "            params = np.load(os.path.join(PARAM_DIR, name))\n",
    "            widths = np.load(os.path.join(WIDTH_DIR, name))\n",
    "            \n",
    "            idx = np.r_[:masks.shape[0]]\n",
    "            if self.do_shuffle:\n",
    "                np.random.shuffle(idx)\n",
    "            for i in idx:\n",
    "                yield [masks[i], params[i], widths[i]]"
   ]
  },
  {
   "cell_type": "code",
   "execution_count": 4,
   "metadata": {
    "collapsed": false
   },
   "outputs": [],
   "source": [
    "all_files = ['{:02}.npy'.format(i) for i in range(100)]\n",
    "filesets = {\n",
    "    'train': all_files[:70],\n",
    "    'val': all_files[70:80],\n",
    "    'test': all_files[80:]\n",
    "    }"
   ]
  },
  {
   "cell_type": "code",
   "execution_count": 5,
   "metadata": {
    "collapsed": false
   },
   "outputs": [],
   "source": [
    "def get_data(fileset, group):\n",
    "    ds = LineDataFlow(fileset, do_shuffle=group == 'train')\n",
    "    ds = tp.BatchData(ds, BATCH)\n",
    "    return ds"
   ]
  },
  {
   "cell_type": "code",
   "execution_count": 12,
   "metadata": {
    "collapsed": false
   },
   "outputs": [],
   "source": [
    "# base feature count width\n",
    "NF = 16\n",
    "\n",
    "INITS = {\n",
    "    'TNC': tf.truncated_normal_initializer(stddev=0.02),\n",
    "    'VSI': tf.contrib.layers.variance_scaling_initializer(factor=1.0, mode='FAN_AVG', uniform=True)\n",
    "}\n",
    "\n",
    "def visualize_conv_activations(activation, name):\n",
    "    \"\"\"Visualize activations for convolution layers.\n",
    "\n",
    "    Remarks:\n",
    "        This tries to place all activations into a square.\n",
    "\n",
    "    Args:\n",
    "        activation: tensor with the activation [B,H,W,C]\n",
    "        name: label for tensorboard\n",
    "\n",
    "    Returns:\n",
    "        image of almost all activations\n",
    "    \"\"\"\n",
    "    import math\n",
    "    with tf.name_scope('visualize_act_' + name):\n",
    "        _, h, w, c = activation.get_shape().as_list()\n",
    "        rows = []\n",
    "        c_per_row = int(math.sqrt(c))\n",
    "        for y in range(0, c - c_per_row, c_per_row):\n",
    "            row = activation[:, :, :, y:y + c_per_row]  # [?, H, W, 32] --> [?, H, W, 5]\n",
    "            cols = tf.unstack(row, axis=3)              # [?, H, W, 5] --> 5 * [?, H, W]\n",
    "            row = tf.concat(cols, 1)\n",
    "            rows.append(row)\n",
    "\n",
    "        viz = tf.concat(rows, 2)\n",
    "    tf.summary.image('visualize_act_' + name, tf.expand_dims(viz, -1))\n",
    "\n",
    "def coord_to_points(arr, coords, coords_, idy, idx):\n",
    "    # coord quadruplets only\n",
    "    arr_B = arr * 255.0\n",
    "    # Blue = mask\n",
    "    \n",
    "    with tf.name_scope('viz_points'):\n",
    "        # Label coords (bigger) - green\n",
    "        arr_G = tf.zeros_like(arr)\n",
    "        for coord in tf.split(coords, 4, axis=1): # -> (B, yx)\n",
    "            coord = tf.reshape(coord, [-1, 1, 1, 2])\n",
    "            dysq = tf.square(idy - coord[..., 0] * DIMS[0])\n",
    "            dxsq = tf.square(idx - coord[..., 1] * DIMS[1])\n",
    "            raster = tf.less_equal(dysq + dxsq, 2.0)\n",
    "            raster = tf.expand_dims(raster, axis=3)\n",
    "            arr_G += tf.cast(raster, tf.float32)\n",
    "            \n",
    "        # Guessed coords (smaller) - red\n",
    "        arr_R = tf.zeros_like(arr)\n",
    "        for coord in tf.split(coords_, 4, axis=1): # -> (B, yx)\n",
    "            coord = tf.reshape(coord, [-1, 1, 1, 2])\n",
    "            dysq = tf.square(idy - coord[..., 0] * DIMS[0])\n",
    "            dxsq = tf.square(idx - coord[..., 1] * DIMS[1])\n",
    "            raster = tf.less_equal(dysq + dxsq, 1.5)\n",
    "            raster = tf.expand_dims(raster, axis=3)\n",
    "            arr_R += tf.cast(raster, tf.float32)\n",
    "    \n",
    "        return tf.concat([arr_R * 255, arr_G * 255, arr_B], axis=3)\n",
    "\n",
    "class Model(tp.ModelDesc):\n",
    "    \n",
    "    def _get_inputs(self):\n",
    "        return [tp.InputDesc(tf.float32, (None,) + DIMS, 'mask'),\n",
    "                tp.InputDesc(tf.float32, (None, 4, 2), 'param'),\n",
    "                tp.InputDesc(tf.float32, (None, 1), 'width')\n",
    "                ]\n",
    "\n",
    "    def networkVGG(self, x, idy, idx):\n",
    "        \"\"\"\n",
    "        VGG Net. Baseline A.\n",
    "        \"\"\"\n",
    "        with tp.argscope(tp.Conv2D, kernel_shape=3, stride=1, nl=tf.nn.elu):\n",
    "            c0 = tp.Conv2D('conv0', x, NF)\n",
    "            \n",
    "            if USE_IDYX:\n",
    "                l = tf.concat([c0 * idy / DIMS[0], c0 * idx / DIMS[1]], axis=3)\n",
    "            \n",
    "            p0 = tp.MaxPooling('pool0', c0, 2) # -> 32x\n",
    "            c1 = tp.Conv2D('conv1', p0, NF * 2)\n",
    "            c2 = tp.Conv2D('conv2', c1, NF * 4)\n",
    "            p1 = tp.MaxPooling('pool1', c2, 2) # -> 16x\n",
    "            c3 = tp.Conv2D('conv3', p1, NF * 4)\n",
    "            c4 = tp.Conv2D('conv4', c3, NF * 8)\n",
    "            p2 = tp.MaxPooling('pool2', c4, 2) # -> 8x\n",
    "            f1 = tp.FullyConnected('fc0', p2, 512)\n",
    "            l  = tp.Dropout('drop', f1, 0.5)\n",
    "            \n",
    "            # Eh, dims are symmetric anyway\n",
    "            param = tp.FullyConnected('fc_param', l, 8, nl=tf.identity)\n",
    "            param = tf.reshape(param, [-1, 4, 2])\n",
    "            \n",
    "            width = tp.FullyConnected('fc_width', l, 1, nl=tf.identity)\n",
    "\n",
    "            visualize_conv_activations(c0, 'c0')\n",
    "            visualize_conv_activations(c2, 'c2')\n",
    "            visualize_conv_activations(c4, 'c4')\n",
    "            \n",
    "        return param, width\n",
    "    \n",
    "    def networkSeq1(self, x, idy, idx):\n",
    "        \"\"\"\n",
    "        Sequential network with factorized filters.\n",
    "        Get outer points first, then inner points.\n",
    "        \"\"\"\n",
    "        with tp.argscope(tp.Conv2D, kernel_shape=3, stride=1, nl=tf.nn.elu):\n",
    "            # Broad filter across first\n",
    "            c0y = tp.Conv2D('conv0y',   x, NF, kernel_shape=[7, 1])\n",
    "            c0x = tp.Conv2D('conv0x', c0y, NF, kernel_shape=[1, 7])\n",
    "            c1  = tp.Conv2D('conv1',  c0x, NF, kernel_shape=[3, 3])\n",
    "            \n",
    "            if USE_IDYX:\n",
    "                yx = tf.concat([c1, c1 * idy / DIMS[0], c1 * idx / DIMS[1]], axis=3)\n",
    "            \n",
    "            # Outer control points' heatmap\n",
    "            c_outer = tp.Conv2D('conv2o', yx, 4)\n",
    "            outer = tp.GlobalAvgPooling('gap_outer', c_outer) # -> 4\n",
    "            outer = tf.reshape(outer, [-1, 2, 2])\n",
    "            point_1, point_4 = tf.split(outer, 2, axis=1)\n",
    "\n",
    "            # Width\n",
    "            c_width = tp.Conv2D('conv2w', c1, 4)\n",
    "            width = tp.FullyConnected('fc_width', c_width, 1, nl=tf.identity)\n",
    "\n",
    "            # Use outer point heatmap and yx to discover inner points\n",
    "            remix = tf.concat([c_outer, yx], axis=3)\n",
    "            c2 = tp.Conv2D('conv2i', remix, NF * 2)\n",
    "            c3 = tp.Conv2D('conv3', c2, NF * 4)\n",
    "            p2 = tp.AvgPooling('pool2', c3, 2) # -> 32x\n",
    "            c_inner = tp.Conv2D('conv4', p2, NF * 4)\n",
    "            g_inner = tp.GlobalAvgPooling('gap_inner', c_inner) # -> 1 x 4NF\n",
    "            inner = tp.FullyConnected('fc_param', g_inner, 4, nl=tf.identity)\n",
    "            inner = tf.reshape(inner, [-1, 2, 2])\n",
    "            point_2, point_3 = tf.split(inner, 2, axis=1)\n",
    "\n",
    "            param = tf.concat([point_1, point_2, point_3, point_4], axis=1)\n",
    "\n",
    "            visualize_conv_activations(yx, 'yx')\n",
    "            visualize_conv_activations(c2, 'c2')\n",
    "            visualize_conv_activations(c_outer, 'c_outer')\n",
    "            visualize_conv_activations(c_inner, 'c_inner')\n",
    "            visualize_conv_activations(c_width, 'c_width')\n",
    "            \n",
    "        return param, width\n",
    "    \n",
    "    def networkSeq2(self, x, idy, idx):\n",
    "        \"\"\"\n",
    "        Sequential network with factorized filters.\n",
    "        Get outer points first, then inner points.\n",
    "        \"\"\"\n",
    "        with tp.argscope(tp.Conv2D, kernel_shape=3, stride=1, nl=tf.nn.elu):\n",
    "            # Broad filter across first\n",
    "            c0y = tp.Conv2D('conv0y',   x, NF, kernel_shape=[7, 1])\n",
    "            c0x = tp.Conv2D('conv0x', c0y, NF, kernel_shape=[1, 7])\n",
    "            c1  = tp.Conv2D('conv1',  c0x, NF, kernel_shape=[5, 5])\n",
    "            cw  = tp.Conv2D('conv1b',  c1, NF, kernel_shape=[5, 5], nl=tf.sigmoid)\n",
    "            \n",
    "            if USE_IDYX:\n",
    "                yx = tf.concat([c1, cw * idy / DIMS[0], cw * idx / DIMS[1]], axis=3)\n",
    "            \n",
    "            # Outer control points' heatmap\n",
    "            l       = tp.Conv2D('conv2o0', yx, 4 * NF)\n",
    "            l       = tp.Conv2D('conv2o1',  l, 4 * NF)\n",
    "            c_outer = tp.Conv2D('conv2o2',  l, 4, nl=tf.sigmoid)\n",
    "            outer = tp.GlobalAvgPooling('gap_outer', c_outer) # -> 4\n",
    "            outer = tf.reshape(outer, [-1, 2, 2])\n",
    "\n",
    "            # Width\n",
    "            c_width = tp.Conv2D('conv2w', c1, 4)\n",
    "            width = tp.FullyConnected('fc_width', c_width, 1, nl=tf.identity)\n",
    "\n",
    "            # Use outer point heatmap and yx to discover inner points\n",
    "            remix = tf.concat([c_outer, yx], axis=3)\n",
    "            c2 = tp.Conv2D('conv2i', remix, NF * 2)\n",
    "            c3 = tp.Conv2D('conv3', c2, NF * 4)\n",
    "            p2 = tp.AvgPooling('pool2', c3, 2) # -> 32x\n",
    "            c4 = tp.Conv2D('conv4', p2, NF * 4)\n",
    "            c_inner = tp.Conv2D('conv5', c4, NF * 4, nl=tf.sigmoid)\n",
    "            g_inner = tp.GlobalAvgPooling('gap_inner', c_inner) # -> 1 x 4NF\n",
    "            inner = tp.FullyConnected('fc_param', g_inner, 4, nl=tf.identity)\n",
    "            inner = tf.reshape(inner, [-1, 2, 2])\n",
    "\n",
    "            point_1, point_4 = tf.split(outer, 2, axis=1)\n",
    "            point_2, point_3 = tf.split(inner, 2, axis=1)\n",
    "            param = tf.concat([point_1, point_2, point_3, point_4], axis=1)\n",
    "\n",
    "            visualize_conv_activations(cw, 'yx')\n",
    "            visualize_conv_activations(yx, 'yx')\n",
    "            visualize_conv_activations(c2, 'c2')\n",
    "            visualize_conv_activations(c_outer, 'c_outer')\n",
    "            visualize_conv_activations(c_inner, 'c_inner')\n",
    "            visualize_conv_activations(c_width, 'c_width')\n",
    "            \n",
    "        return param, width\n",
    "\n",
    "    def networkFWB(self, x, idy, idx):\n",
    "        \"\"\"\n",
    "        Normal deep feedforward with combinations of indexing and mask in beginning.\n",
    "        \"\"\"\n",
    "        with tp.argscope(tp.Conv2D, kernel_shape=3, stride=1, nl=tf.nn.elu):\n",
    "\n",
    "            # +/- mask * idyx\n",
    "            cyp =  x * idy / DIMS[0]\n",
    "            cym = -x * idy / DIMS[0]\n",
    "            cxp =  x * idx / DIMS[1]\n",
    "            cxm = -x * idx / DIMS[1]\n",
    "            l = tf.concat([cxp, cxm, cyp, cym], axis=3)\n",
    "            c0 = tp.Conv2D('conv0', l, NF * 2, kernel_shape=7)\n",
    "            p0 = tp.AvgPooling('pool0', l, 2) # -> 32x\n",
    "            c1 = tp.Conv2D('conv1', p0, NF * 2)\n",
    "            c2 = tp.Conv2D('conv2', c1, NF * 4)\n",
    "            p1 = tp.AvgPooling('pool1', c2, 2) # -> 16x\n",
    "            c3 = tp.Conv2D('conv3', p1, NF * 4)\n",
    "            c4 = tp.Conv2D('conv4', c3, NF * 8)\n",
    "            p2 = tp.AvgPooling('pool2', c4, 2) # -> 8x\n",
    "            c5 = tp.Conv2D('conv5', p2, NF * 8)\n",
    "            c6 = tp.Conv2D('conv6', c5, NF * 16)\n",
    "            p3 = tp.AvgPooling('pool2', c6, 2) # -> 4x\n",
    "            f1 = tp.FullyConnected('fc0', p3, 256)\n",
    "            l  = tp.Dropout('drop', f1, 0.5)\n",
    "\n",
    "            param = tp.FullyConnected('fc_param', l, 8, nl=tf.sigmoid) * 1.1\n",
    "            param = tf.reshape(param, [-1, 4, 2]) - 0.05\n",
    "            \n",
    "            width = tp.FullyConnected('fc_width', l, 1, nl=tf.sigmoid) * 2.0\n",
    "\n",
    "            visualize_conv_activations(c0, 'c0')\n",
    "            visualize_conv_activations(c2, 'c2')\n",
    "            visualize_conv_activations(c4, 'c4')\n",
    "            \n",
    "        return param, width\n",
    "    \n",
    "    def _build_graph(self, inputs):\n",
    "        mask, param, width = inputs\n",
    "        \n",
    "        with tf.name_scope('indexing'):\n",
    "            np_idx = np.c_[:DIMS[0]] + np.zeros((1, DIMS[0]))\n",
    "            np_idx = np_idx[None, ...]\n",
    "            np_idy = np.r_[:DIMS[1]] + np.zeros((DIMS[0], 1))\n",
    "            np_idy = np_idy[None, ...]\n",
    "            idy = tf.convert_to_tensor(np_idy, dtype='float32')\n",
    "            idx = tf.convert_to_tensor(np_idx, dtype='float32')\n",
    "        \n",
    "        # Standardize\n",
    "        with tf.name_scope('prepare_input'):\n",
    "            mask = tf.expand_dims(mask, axis=3)\n",
    "            x = 0.5 - mask\n",
    "            \n",
    "            param = param / DIMS[0]\n",
    "        \n",
    "        net_options = {\n",
    "            'vgg': self.networkVGG,\n",
    "            'seq1': self.networkSeq1,\n",
    "            'seq2': self.networkSeq2,\n",
    "            'fwb': self.networkFWB\n",
    "        }\n",
    "        with tp.argscope([tp.Conv2D], W_init=INITS['VSI']):\n",
    "            with tf.variable_scope('encoder'):\n",
    "                param_, width_ = net_options[NET_OPTION](x,\n",
    "                                                         tf.expand_dims(idy, axis=3),\n",
    "                                                         tf.expand_dims(idx, axis=3))\n",
    "        \n",
    "        with tf.name_scope('outputs'):\n",
    "            param_ = tf.identity(param_, name='params')\n",
    "            width_ = tf.identity(width_, name='widths')\n",
    "            \n",
    "        with tf.name_scope('loss'):\n",
    "            # MSE losses (reduce to 0-1)\n",
    "            p_loss = tf.reduce_mean(tf.square(param_ - param), axis=(1, 2))\n",
    "            tf.summary.histogram(values=p_loss, name='summary-params')\n",
    "            p_loss = tf.reduce_mean(p_loss, name='params')\n",
    "            \n",
    "            w_loss = tf.reduce_mean(tf.square(width_ - width), axis=(1))\n",
    "            tf.summary.histogram(values=w_loss, name='summary-widths')\n",
    "            w_loss = tf.reduce_mean(w_loss, name='widths')\n",
    "            \n",
    "            add_moving_summary(p_loss, w_loss)\n",
    "            cost = 4 * p_loss + w_loss\n",
    "            \n",
    "            reg_loss = tf.multiply(1e-5, tp.regularize_cost('fc.*/W', tf.nn.l2_loss),\n",
    "                                   name='regularize_loss')\n",
    "            self.cost = tf.add_n([reg_loss, cost], name='total_cost')\n",
    "            add_moving_summary(self.cost)\n",
    "            \n",
    "        # Expose to circumvent naming / folder issue\n",
    "        p_loss = tf.identity(p_loss, name='loss_params')\n",
    "        \n",
    "        if tp.tfutils.get_current_tower_context().is_training:\n",
    "            tf.summary.image('mask', mask, max_outputs=10)\n",
    "            tf.summary.image('points', coord_to_points(mask, param, param_, idx, idy), max_outputs=10)\n",
    "\n",
    "    def _get_optimizer(self):\n",
    "        lr = symbf.get_scalar_var('learning_rate', 4e-4, summary=True)\n",
    "        return tf.train.AdamOptimizer(lr, beta1=0.5, epsilon=1e-3)"
   ]
  },
  {
   "cell_type": "code",
   "execution_count": 13,
   "metadata": {
    "collapsed": false
   },
   "outputs": [
    {
     "name": "stdout",
     "output_type": "stream",
     "text": [
      "[1218 22:01:32 @logger.py:73] Argv: F:\\ProgramData\\Anaconda3\\lib\\site-packages\\ipykernel\\__main__.py -f C:\\Users\\Brian\\AppData\\Roaming\\jupyter\\runtime\\kernel-7f4207aa-8820-459c-bb30-7108b61de232.json\n"
     ]
    }
   ],
   "source": [
    "LOAD = None\n",
    "\n",
    "dataflows = {group: get_data(fileset, group) for group, fileset in filesets.items()}\n",
    "\n",
    "tp.logger.set_logger_dir('./train_log/linenetFwbVSI2')"
   ]
  },
  {
   "cell_type": "code",
   "execution_count": 14,
   "metadata": {
    "collapsed": false
   },
   "outputs": [
    {
     "name": "stdout",
     "output_type": "stream",
     "text": [
      "[1218 22:01:35 @input_source.py:232] Setting up the queue for CPU prefetching ...\n",
      "[1218 22:01:35 @regularize.py:18] Apply regularizer for network/fc0/W:0\n",
      "[1218 22:01:35 @regularize.py:18] Apply regularizer for network/fc_param/W:0\n",
      "[1218 22:01:35 @regularize.py:18] Apply regularizer for network/fc_width/W:0\n",
      "[1218 22:01:36 @model_utils.py:49] Model Parameters: \n",
      "name                  shape                 dim\n",
      "--------------------  ----------------  -------\n",
      "network/conv0/W:0     [7, 7, 4, 32]        6272\n",
      "network/conv0/b:0     [32]                   32\n",
      "network/conv1/W:0     [3, 3, 4, 32]        1152\n",
      "network/conv1/b:0     [32]                   32\n",
      "network/conv2/W:0     [3, 3, 32, 64]      18432\n",
      "network/conv2/b:0     [64]                   64\n",
      "network/conv3/W:0     [3, 3, 64, 64]      36864\n",
      "network/conv3/b:0     [64]                   64\n",
      "network/conv4/W:0     [3, 3, 64, 128]     73728\n",
      "network/conv4/b:0     [128]                 128\n",
      "network/conv5/W:0     [3, 3, 128, 128]   147456\n",
      "network/conv5/b:0     [128]                 128\n",
      "network/conv6/W:0     [3, 3, 128, 256]   294912\n",
      "network/conv6/b:0     [256]                 256\n",
      "network/fc0/W:0       [4096, 256]       1048576\n",
      "network/fc0/b:0       [256]                 256\n",
      "network/fc_param/W:0  [256, 8]             2048\n",
      "network/fc_param/b:0  [8]                     8\n",
      "network/fc_width/W:0  [256, 1]              256\n",
      "network/fc_width/b:0  [1]                     1\n",
      "Total #vars=20, #param=1630665 (6.22 MB assuming all float32)\n",
      "[1218 22:01:36 @base.py:123] Setup callbacks graph ...\n",
      "[1218 22:01:36 @base.py:185] Building predictor graph towerp0 on gpu=0 ...\n",
      "[1218 22:01:38 @base.py:127] Creating the session ...\n",
      "[1218 22:01:39 @sesscreate.py:34] Global variables initialized.\n",
      "[1218 22:01:39 @base.py:131] Initializing the session ...\n",
      "[1218 22:01:39 @base.py:138] Graph Finalized.\n",
      "[1218 22:01:39 @concurrency.py:36] Starting EnqueueThread ...\n",
      "[1218 22:01:39 @base.py:175] Start Epoch 1 ...\n"
     ]
    },
    {
     "name": "stderr",
     "output_type": "stream",
     "text": [
      "100%|#############################################|70/70[00:01<00:00,49.90it/s]\n"
     ]
    },
    {
     "name": "stdout",
     "output_type": "stream",
     "text": [
      "[1218 22:01:40 @base.py:183] Epoch 1 (global_step 70) finished, time:1.41 sec.\n",
      "[1218 22:01:42 @saver.py:76] Model saved to ./train_log/linenetFwbVSI2\\model-70.\n"
     ]
    },
    {
     "name": "stderr",
     "output_type": "stream",
     "text": [
      "100%|#############################################|10/10[00:00<00:00,74.43it/s]\n"
     ]
    },
    {
     "name": "stdout",
     "output_type": "stream",
     "text": [
      "[1218 22:01:42 @monitor.py:294] input_queue_size: 50\n",
      "[1218 22:01:42 @monitor.py:294] learning_rate: 0.0004\n",
      "[1218 22:01:42 @monitor.py:294] loss/params: 0.077122\n",
      "[1218 22:01:42 @monitor.py:294] loss/total_cost: 0.39156\n",
      "[1218 22:01:42 @monitor.py:294] loss/widths: 0.080405\n",
      "[1218 22:01:42 @monitor.py:294] validation_loss/params: 0.074038\n",
      "[1218 22:01:42 @monitor.py:294] validation_loss/widths: 0.080863\n",
      "[1218 22:01:42 @base.py:175] Start Epoch 2 ...\n"
     ]
    },
    {
     "name": "stderr",
     "output_type": "stream",
     "text": [
      "100%|#############################################|70/70[00:01<00:00,52.69it/s]\n"
     ]
    },
    {
     "name": "stdout",
     "output_type": "stream",
     "text": [
      "[1218 22:01:43 @base.py:183] Epoch 2 (global_step 140) finished, time:1.33 sec.\n",
      "[1218 22:01:44 @saver.py:76] Model saved to ./train_log/linenetFwbVSI2\\model-140.\n"
     ]
    },
    {
     "name": "stderr",
     "output_type": "stream",
     "text": [
      "100%|############################################|10/10[00:00<00:00,103.89it/s]\n"
     ]
    },
    {
     "name": "stdout",
     "output_type": "stream",
     "text": [
      "[1218 22:01:44 @monitor.py:294] input_queue_size: 50\n",
      "[1218 22:01:44 @monitor.py:294] learning_rate: 0.0004\n",
      "[1218 22:01:44 @monitor.py:294] loss/params: 0.074974\n",
      "[1218 22:01:44 @monitor.py:294] loss/total_cost: 0.3787\n",
      "[1218 22:01:44 @monitor.py:294] loss/widths: 0.076145\n",
      "[1218 22:01:44 @monitor.py:294] validation_loss/params: 0.071846\n",
      "[1218 22:01:44 @monitor.py:294] validation_loss/widths: 0.076586\n",
      "[1218 22:01:44 @base.py:175] Start Epoch 3 ...\n"
     ]
    },
    {
     "name": "stderr",
     "output_type": "stream",
     "text": [
      "100%|#############################################|70/70[00:01<00:00,51.91it/s]\n"
     ]
    },
    {
     "name": "stdout",
     "output_type": "stream",
     "text": [
      "[1218 22:01:45 @base.py:183] Epoch 3 (global_step 210) finished, time:1.35 sec.\n",
      "[1218 22:01:45 @saver.py:76] Model saved to ./train_log/linenetFwbVSI2\\model-210.\n"
     ]
    },
    {
     "name": "stderr",
     "output_type": "stream",
     "text": [
      "100%|#############################################|10/10[00:00<00:00,92.32it/s]\n"
     ]
    },
    {
     "name": "stdout",
     "output_type": "stream",
     "text": [
      "[1218 22:01:46 @monitor.py:294] input_queue_size: 50\n",
      "[1218 22:01:46 @monitor.py:294] learning_rate: 0.0004\n",
      "[1218 22:01:46 @monitor.py:294] loss/params: 0.069893\n",
      "[1218 22:01:46 @monitor.py:294] loss/total_cost: 0.35663\n",
      "[1218 22:01:46 @monitor.py:294] loss/widths: 0.074394\n",
      "[1218 22:01:46 @monitor.py:294] validation_loss/params: 0.065067\n",
      "[1218 22:01:46 @monitor.py:294] validation_loss/widths: 0.070226\n",
      "[1218 22:01:46 @base.py:175] Start Epoch 4 ...\n"
     ]
    },
    {
     "name": "stderr",
     "output_type": "stream",
     "text": [
      "100%|#############################################|70/70[00:01<00:00,52.18it/s]\n"
     ]
    },
    {
     "name": "stdout",
     "output_type": "stream",
     "text": [
      "[1218 22:01:47 @base.py:183] Epoch 4 (global_step 280) finished, time:1.35 sec.\n",
      "[1218 22:01:47 @saver.py:76] Model saved to ./train_log/linenetFwbVSI2\\model-280.\n"
     ]
    },
    {
     "name": "stderr",
     "output_type": "stream",
     "text": [
      "100%|############################################|10/10[00:00<00:00,108.41it/s]\n"
     ]
    },
    {
     "name": "stdout",
     "output_type": "stream",
     "text": [
      "[1218 22:01:47 @monitor.py:294] input_queue_size: 50\n",
      "[1218 22:01:47 @monitor.py:294] learning_rate: 0.0004\n",
      "[1218 22:01:47 @monitor.py:294] loss/params: 0.06447\n",
      "[1218 22:01:47 @monitor.py:294] loss/total_cost: 0.33104\n",
      "[1218 22:01:47 @monitor.py:294] loss/widths: 0.070491\n",
      "[1218 22:01:47 @monitor.py:294] validation_loss/params: 0.060666\n",
      "[1218 22:01:47 @monitor.py:294] validation_loss/widths: 0.065795\n",
      "[1218 22:01:47 @base.py:175] Start Epoch 5 ...\n"
     ]
    },
    {
     "name": "stderr",
     "output_type": "stream",
     "text": [
      "100%|#############################################|70/70[00:01<00:00,52.77it/s]\n"
     ]
    },
    {
     "name": "stdout",
     "output_type": "stream",
     "text": [
      "[1218 22:01:49 @base.py:183] Epoch 5 (global_step 350) finished, time:1.33 sec.\n",
      "[1218 22:01:49 @saver.py:76] Model saved to ./train_log/linenetFwbVSI2\\model-350.\n"
     ]
    },
    {
     "name": "stderr",
     "output_type": "stream",
     "text": [
      "100%|############################################|10/10[00:00<00:00,110.82it/s]\n"
     ]
    },
    {
     "name": "stdout",
     "output_type": "stream",
     "text": [
      "[1218 22:01:49 @monitor.py:294] input_queue_size: 50\n",
      "[1218 22:01:49 @monitor.py:294] learning_rate: 0.0004\n",
      "[1218 22:01:49 @monitor.py:294] loss/params: 0.062056\n",
      "[1218 22:01:49 @monitor.py:294] loss/total_cost: 0.31635\n",
      "[1218 22:01:49 @monitor.py:294] loss/widths: 0.065454\n",
      "[1218 22:01:49 @monitor.py:294] validation_loss/params: 0.058464\n",
      "[1218 22:01:49 @monitor.py:294] validation_loss/widths: 0.061353\n",
      "[1218 22:01:49 @base.py:175] Start Epoch 6 ...\n"
     ]
    },
    {
     "name": "stderr",
     "output_type": "stream",
     "text": [
      "100%|#############################################|70/70[00:01<00:00,52.65it/s]\n"
     ]
    },
    {
     "name": "stdout",
     "output_type": "stream",
     "text": [
      "[1218 22:01:51 @base.py:183] Epoch 6 (global_step 420) finished, time:1.33 sec.\n",
      "[1218 22:01:51 @saver.py:76] Model saved to ./train_log/linenetFwbVSI2\\model-420.\n"
     ]
    },
    {
     "name": "stderr",
     "output_type": "stream",
     "text": [
      "100%|#############################################|10/10[00:00<00:00,82.43it/s]\n"
     ]
    },
    {
     "name": "stdout",
     "output_type": "stream",
     "text": [
      "[1218 22:01:51 @monitor.py:294] input_queue_size: 50\n",
      "[1218 22:01:51 @monitor.py:294] learning_rate: 0.0004\n",
      "[1218 22:01:51 @monitor.py:294] loss/params: 0.060893\n",
      "[1218 22:01:51 @monitor.py:294] loss/total_cost: 0.30915\n",
      "[1218 22:01:51 @monitor.py:294] loss/widths: 0.062905\n",
      "[1218 22:01:51 @monitor.py:294] validation_loss/params: 0.05729\n",
      "[1218 22:01:51 @monitor.py:294] validation_loss/widths: 0.055258\n",
      "[1218 22:01:51 @base.py:175] Start Epoch 7 ...\n"
     ]
    },
    {
     "name": "stderr",
     "output_type": "stream",
     "text": [
      "100%|#############################################|70/70[00:01<00:00,52.81it/s]\n"
     ]
    },
    {
     "name": "stdout",
     "output_type": "stream",
     "text": [
      "[1218 22:01:52 @base.py:183] Epoch 7 (global_step 490) finished, time:1.33 sec.\n",
      "[1218 22:01:53 @saver.py:76] Model saved to ./train_log/linenetFwbVSI2\\model-490.\n"
     ]
    },
    {
     "name": "stderr",
     "output_type": "stream",
     "text": [
      "100%|#############################################|10/10[00:00<00:00,80.45it/s]\n"
     ]
    },
    {
     "name": "stdout",
     "output_type": "stream",
     "text": [
      "[1218 22:01:53 @monitor.py:294] input_queue_size: 50\n",
      "[1218 22:01:53 @monitor.py:294] learning_rate: 0.0004\n",
      "[1218 22:01:53 @monitor.py:294] loss/params: 0.059761\n",
      "[1218 22:01:53 @monitor.py:294] loss/total_cost: 0.30052\n",
      "[1218 22:01:53 @monitor.py:294] loss/widths: 0.058806\n",
      "[1218 22:01:53 @monitor.py:294] validation_loss/params: 0.056228\n",
      "[1218 22:01:53 @monitor.py:294] validation_loss/widths: 0.053243\n",
      "[1218 22:01:53 @base.py:175] Start Epoch 8 ...\n"
     ]
    },
    {
     "name": "stderr",
     "output_type": "stream",
     "text": [
      "100%|#############################################|70/70[00:01<00:00,52.22it/s]\n"
     ]
    },
    {
     "name": "stdout",
     "output_type": "stream",
     "text": [
      "[1218 22:01:55 @base.py:183] Epoch 8 (global_step 560) finished, time:1.35 sec.\n",
      "[1218 22:01:55 @saver.py:76] Model saved to ./train_log/linenetFwbVSI2\\model-560.\n"
     ]
    },
    {
     "name": "stderr",
     "output_type": "stream",
     "text": [
      "100%|#############################################|10/10[00:00<00:00,75.56it/s]\n"
     ]
    },
    {
     "name": "stdout",
     "output_type": "stream",
     "text": [
      "[1218 22:01:55 @monitor.py:294] input_queue_size: 50\n",
      "[1218 22:01:55 @monitor.py:294] learning_rate: 0.0004\n",
      "[1218 22:01:55 @monitor.py:294] loss/params: 0.059288\n",
      "[1218 22:01:55 @monitor.py:294] loss/total_cost: 0.29758\n",
      "[1218 22:01:55 @monitor.py:294] loss/widths: 0.057758\n",
      "[1218 22:01:55 @monitor.py:294] validation_loss/params: 0.055709\n",
      "[1218 22:01:55 @monitor.py:294] validation_loss/widths: 0.049642\n",
      "[1218 22:01:55 @base.py:175] Start Epoch 9 ...\n"
     ]
    },
    {
     "name": "stderr",
     "output_type": "stream",
     "text": [
      "100%|#############################################|70/70[00:01<00:00,50.70it/s]\n"
     ]
    },
    {
     "name": "stdout",
     "output_type": "stream",
     "text": [
      "[1218 22:01:57 @base.py:183] Epoch 9 (global_step 630) finished, time:1.38 sec.\n",
      "[1218 22:01:57 @saver.py:76] Model saved to ./train_log/linenetFwbVSI2\\model-630.\n"
     ]
    },
    {
     "name": "stderr",
     "output_type": "stream",
     "text": [
      "100%|############################################|10/10[00:00<00:00,113.34it/s]\n"
     ]
    },
    {
     "name": "stdout",
     "output_type": "stream",
     "text": [
      "[1218 22:01:57 @monitor.py:294] input_queue_size: 50\n",
      "[1218 22:01:57 @monitor.py:294] learning_rate: 0.0004\n",
      "[1218 22:01:57 @monitor.py:294] loss/params: 0.058486\n",
      "[1218 22:01:57 @monitor.py:294] loss/total_cost: 0.29217\n",
      "[1218 22:01:57 @monitor.py:294] loss/widths: 0.055549\n",
      "[1218 22:01:57 @monitor.py:294] validation_loss/params: 0.055172\n",
      "[1218 22:01:57 @monitor.py:294] validation_loss/widths: 0.046153\n",
      "[1218 22:01:57 @base.py:175] Start Epoch 10 ...\n"
     ]
    },
    {
     "name": "stderr",
     "output_type": "stream",
     "text": [
      "100%|#############################################|70/70[00:01<00:00,52.85it/s]\n"
     ]
    },
    {
     "name": "stdout",
     "output_type": "stream",
     "text": [
      "[1218 22:01:58 @base.py:183] Epoch 10 (global_step 700) finished, time:1.33 sec.\n",
      "[1218 22:01:59 @saver.py:76] Model saved to ./train_log/linenetFwbVSI2\\model-700.\n"
     ]
    },
    {
     "name": "stderr",
     "output_type": "stream",
     "text": [
      "100%|############################################|10/10[00:00<00:00,100.74it/s]\n"
     ]
    },
    {
     "name": "stdout",
     "output_type": "stream",
     "text": [
      "[1218 22:01:59 @monitor.py:294] input_queue_size: 50\n",
      "[1218 22:01:59 @monitor.py:294] learning_rate: 0.0004\n",
      "[1218 22:01:59 @monitor.py:294] loss/params: 0.057974\n",
      "[1218 22:01:59 @monitor.py:294] loss/total_cost: 0.2864\n",
      "[1218 22:01:59 @monitor.py:294] loss/widths: 0.051832\n",
      "[1218 22:01:59 @monitor.py:294] validation_loss/params: 0.055457\n",
      "[1218 22:01:59 @monitor.py:294] validation_loss/widths: 0.052162\n",
      "[1218 22:01:59 @base.py:175] Start Epoch 11 ...\n"
     ]
    },
    {
     "name": "stderr",
     "output_type": "stream",
     "text": [
      "100%|#############################################|70/70[00:01<00:00,51.87it/s]\n"
     ]
    },
    {
     "name": "stdout",
     "output_type": "stream",
     "text": [
      "[1218 22:02:00 @base.py:183] Epoch 11 (global_step 770) finished, time:1.35 sec.\n",
      "[1218 22:02:01 @saver.py:76] Model saved to ./train_log/linenetFwbVSI2\\model-770.\n"
     ]
    },
    {
     "name": "stderr",
     "output_type": "stream",
     "text": [
      "100%|#############################################|10/10[00:00<00:00,72.29it/s]\n"
     ]
    },
    {
     "name": "stdout",
     "output_type": "stream",
     "text": [
      "[1218 22:02:01 @monitor.py:294] input_queue_size: 50\n",
      "[1218 22:02:01 @monitor.py:294] learning_rate: 0.0004\n",
      "[1218 22:02:01 @monitor.py:294] loss/params: 0.057955\n",
      "[1218 22:02:01 @monitor.py:294] loss/total_cost: 0.28786\n",
      "[1218 22:02:01 @monitor.py:294] loss/widths: 0.053363\n",
      "[1218 22:02:01 @monitor.py:294] validation_loss/params: 0.05475\n",
      "[1218 22:02:01 @monitor.py:294] validation_loss/widths: 0.049793\n",
      "[1218 22:02:01 @base.py:175] Start Epoch 12 ...\n"
     ]
    },
    {
     "name": "stderr",
     "output_type": "stream",
     "text": [
      "100%|#############################################|70/70[00:01<00:00,52.45it/s]\n"
     ]
    },
    {
     "name": "stdout",
     "output_type": "stream",
     "text": [
      "[1218 22:02:02 @base.py:183] Epoch 12 (global_step 840) finished, time:1.34 sec.\n",
      "[1218 22:02:03 @saver.py:76] Model saved to ./train_log/linenetFwbVSI2\\model-840.\n"
     ]
    },
    {
     "name": "stderr",
     "output_type": "stream",
     "text": [
      "100%|#############################################|10/10[00:00<00:00,80.42it/s]\n"
     ]
    },
    {
     "name": "stdout",
     "output_type": "stream",
     "text": [
      "[1218 22:02:03 @monitor.py:294] input_queue_size: 50\n",
      "[1218 22:02:03 @monitor.py:294] learning_rate: 0.0004\n",
      "[1218 22:02:03 @monitor.py:294] loss/params: 0.056966\n",
      "[1218 22:02:03 @monitor.py:294] loss/total_cost: 0.27309\n",
      "[1218 22:02:03 @monitor.py:294] loss/widths: 0.042555\n",
      "[1218 22:02:03 @monitor.py:294] validation_loss/params: 0.054645\n",
      "[1218 22:02:03 @monitor.py:294] validation_loss/widths: 0.038206\n",
      "[1218 22:02:03 @base.py:175] Start Epoch 13 ...\n"
     ]
    },
    {
     "name": "stderr",
     "output_type": "stream",
     "text": [
      "100%|#############################################|70/70[00:01<00:00,52.69it/s]\n"
     ]
    },
    {
     "name": "stdout",
     "output_type": "stream",
     "text": [
      "[1218 22:02:04 @base.py:183] Epoch 13 (global_step 910) finished, time:1.33 sec.\n",
      "[1218 22:02:05 @saver.py:76] Model saved to ./train_log/linenetFwbVSI2\\model-910.\n"
     ]
    },
    {
     "name": "stderr",
     "output_type": "stream",
     "text": [
      "100%|############################################|10/10[00:00<00:00,113.33it/s]\n"
     ]
    },
    {
     "name": "stdout",
     "output_type": "stream",
     "text": [
      "[1218 22:02:05 @monitor.py:294] input_queue_size: 50\n",
      "[1218 22:02:05 @monitor.py:294] learning_rate: 0.0004\n",
      "[1218 22:02:05 @monitor.py:294] loss/params: 0.056457\n",
      "[1218 22:02:05 @monitor.py:294] loss/total_cost: 0.26853\n",
      "[1218 22:02:05 @monitor.py:294] loss/widths: 0.040029\n",
      "[1218 22:02:05 @monitor.py:294] validation_loss/params: 0.054723\n",
      "[1218 22:02:05 @monitor.py:294] validation_loss/widths: 0.040684\n",
      "[1218 22:02:05 @base.py:175] Start Epoch 14 ...\n"
     ]
    },
    {
     "name": "stderr",
     "output_type": "stream",
     "text": [
      "100%|#############################################|70/70[00:01<00:00,52.57it/s]\n"
     ]
    },
    {
     "name": "stdout",
     "output_type": "stream",
     "text": [
      "[1218 22:02:06 @base.py:183] Epoch 14 (global_step 980) finished, time:1.33 sec.\n",
      "[1218 22:02:06 @saver.py:76] Model saved to ./train_log/linenetFwbVSI2\\model-980.\n"
     ]
    },
    {
     "name": "stderr",
     "output_type": "stream",
     "text": [
      "100%|############################################|10/10[00:00<00:00,104.99it/s]\n"
     ]
    },
    {
     "name": "stdout",
     "output_type": "stream",
     "text": [
      "[1218 22:02:07 @monitor.py:294] input_queue_size: 50\n",
      "[1218 22:02:07 @monitor.py:294] learning_rate: 0.0004\n",
      "[1218 22:02:07 @monitor.py:294] loss/params: 0.056427\n",
      "[1218 22:02:07 @monitor.py:294] loss/total_cost: 0.26575\n",
      "[1218 22:02:07 @monitor.py:294] loss/widths: 0.037371\n",
      "[1218 22:02:07 @monitor.py:294] validation_loss/params: 0.054037\n",
      "[1218 22:02:07 @monitor.py:294] validation_loss/widths: 0.029201\n",
      "[1218 22:02:07 @base.py:175] Start Epoch 15 ...\n"
     ]
    },
    {
     "name": "stderr",
     "output_type": "stream",
     "text": [
      "100%|#############################################|70/70[00:01<00:00,51.37it/s]\n"
     ]
    },
    {
     "name": "stdout",
     "output_type": "stream",
     "text": [
      "[1218 22:02:08 @base.py:183] Epoch 15 (global_step 1050) finished, time:1.37 sec.\n",
      "[1218 22:02:08 @saver.py:76] Model saved to ./train_log/linenetFwbVSI2\\model-1050.\n"
     ]
    },
    {
     "name": "stderr",
     "output_type": "stream",
     "text": [
      "100%|############################################|10/10[00:00<00:00,101.77it/s]\n"
     ]
    },
    {
     "name": "stdout",
     "output_type": "stream",
     "text": [
      "[1218 22:02:09 @monitor.py:294] input_queue_size: 50\n",
      "[1218 22:02:09 @monitor.py:294] learning_rate: 0.0004\n",
      "[1218 22:02:09 @monitor.py:294] loss/params: 0.056033\n",
      "[1218 22:02:09 @monitor.py:294] loss/total_cost: 0.25893\n",
      "[1218 22:02:09 @monitor.py:294] loss/widths: 0.032122\n",
      "[1218 22:02:09 @monitor.py:294] validation_loss/params: 0.053625\n",
      "[1218 22:02:09 @monitor.py:294] validation_loss/widths: 0.024567\n",
      "[1218 22:02:09 @base.py:175] Start Epoch 16 ...\n"
     ]
    },
    {
     "name": "stderr",
     "output_type": "stream",
     "text": [
      "100%|#############################################|70/70[00:01<00:00,52.18it/s]\n"
     ]
    },
    {
     "name": "stdout",
     "output_type": "stream",
     "text": [
      "[1218 22:02:10 @base.py:183] Epoch 16 (global_step 1120) finished, time:1.35 sec.\n",
      "[1218 22:02:10 @saver.py:76] Model saved to ./train_log/linenetFwbVSI2\\model-1120.\n"
     ]
    },
    {
     "name": "stderr",
     "output_type": "stream",
     "text": [
      "100%|#############################################|10/10[00:00<00:00,99.73it/s]\n"
     ]
    },
    {
     "name": "stdout",
     "output_type": "stream",
     "text": [
      "[1218 22:02:10 @monitor.py:294] input_queue_size: 50\n",
      "[1218 22:02:10 @monitor.py:294] learning_rate: 0.0004\n",
      "[1218 22:02:10 @monitor.py:294] loss/params: 0.055726\n",
      "[1218 22:02:10 @monitor.py:294] loss/total_cost: 0.25316\n",
      "[1218 22:02:10 @monitor.py:294] loss/widths: 0.027588\n",
      "[1218 22:02:10 @monitor.py:294] validation_loss/params: 0.053641\n",
      "[1218 22:02:10 @monitor.py:294] validation_loss/widths: 0.021189\n",
      "[1218 22:02:10 @base.py:175] Start Epoch 17 ...\n"
     ]
    },
    {
     "name": "stderr",
     "output_type": "stream",
     "text": [
      "100%|#############################################|70/70[00:01<00:00,52.22it/s]\n"
     ]
    },
    {
     "name": "stdout",
     "output_type": "stream",
     "text": [
      "[1218 22:02:12 @base.py:183] Epoch 17 (global_step 1190) finished, time:1.35 sec.\n",
      "[1218 22:02:12 @saver.py:76] Model saved to ./train_log/linenetFwbVSI2\\model-1190.\n"
     ]
    },
    {
     "name": "stderr",
     "output_type": "stream",
     "text": [
      "100%|#############################################|10/10[00:00<00:00,89.87it/s]\n"
     ]
    },
    {
     "name": "stdout",
     "output_type": "stream",
     "text": [
      "[1218 22:02:12 @monitor.py:294] input_queue_size: 50\n",
      "[1218 22:02:12 @monitor.py:294] learning_rate: 0.0004\n",
      "[1218 22:02:12 @monitor.py:294] loss/params: 0.055121\n",
      "[1218 22:02:12 @monitor.py:294] loss/total_cost: 0.24745\n",
      "[1218 22:02:12 @monitor.py:294] loss/widths: 0.024299\n",
      "[1218 22:02:12 @monitor.py:294] validation_loss/params: 0.052574\n",
      "[1218 22:02:12 @monitor.py:294] validation_loss/widths: 0.021759\n",
      "[1218 22:02:12 @base.py:175] Start Epoch 18 ...\n"
     ]
    },
    {
     "name": "stderr",
     "output_type": "stream",
     "text": [
      "100%|#############################################|70/70[00:01<00:00,52.65it/s]\n"
     ]
    },
    {
     "name": "stdout",
     "output_type": "stream",
     "text": [
      "[1218 22:02:14 @base.py:183] Epoch 18 (global_step 1260) finished, time:1.33 sec.\n",
      "[1218 22:02:14 @saver.py:76] Model saved to ./train_log/linenetFwbVSI2\\model-1260.\n"
     ]
    },
    {
     "name": "stderr",
     "output_type": "stream",
     "text": [
      "100%|#############################################|10/10[00:00<00:00,85.98it/s]\n"
     ]
    },
    {
     "name": "stdout",
     "output_type": "stream",
     "text": [
      "[1218 22:02:14 @monitor.py:294] input_queue_size: 50\n",
      "[1218 22:02:14 @monitor.py:294] learning_rate: 0.0004\n",
      "[1218 22:02:14 @monitor.py:294] loss/params: 0.054684\n",
      "[1218 22:02:14 @monitor.py:294] loss/total_cost: 0.2458\n",
      "[1218 22:02:14 @monitor.py:294] loss/widths: 0.024398\n",
      "[1218 22:02:14 @monitor.py:294] validation_loss/params: 0.051752\n",
      "[1218 22:02:14 @monitor.py:294] validation_loss/widths: 0.019132\n",
      "[1218 22:02:14 @base.py:175] Start Epoch 19 ...\n"
     ]
    },
    {
     "name": "stderr",
     "output_type": "stream",
     "text": [
      "100%|#############################################|70/70[00:01<00:00,51.37it/s]\n"
     ]
    },
    {
     "name": "stdout",
     "output_type": "stream",
     "text": [
      "[1218 22:02:16 @base.py:183] Epoch 19 (global_step 1330) finished, time:1.37 sec.\n",
      "[1218 22:02:16 @saver.py:76] Model saved to ./train_log/linenetFwbVSI2\\model-1330.\n"
     ]
    },
    {
     "name": "stderr",
     "output_type": "stream",
     "text": [
      "100%|############################################|10/10[00:00<00:00,113.34it/s]\n"
     ]
    },
    {
     "name": "stdout",
     "output_type": "stream",
     "text": [
      "[1218 22:02:16 @monitor.py:294] input_queue_size: 50\n",
      "[1218 22:02:16 @monitor.py:294] learning_rate: 0.0004\n",
      "[1218 22:02:16 @monitor.py:294] loss/params: 0.05412\n",
      "[1218 22:02:16 @monitor.py:294] loss/total_cost: 0.2406\n",
      "[1218 22:02:16 @monitor.py:294] loss/widths: 0.021457\n",
      "[1218 22:02:16 @monitor.py:294] validation_loss/params: 0.051886\n",
      "[1218 22:02:16 @monitor.py:294] validation_loss/widths: 0.017224\n",
      "[1218 22:02:16 @base.py:175] Start Epoch 20 ...\n"
     ]
    },
    {
     "name": "stderr",
     "output_type": "stream",
     "text": [
      "100%|#############################################|70/70[00:01<00:00,52.14it/s]\n"
     ]
    },
    {
     "name": "stdout",
     "output_type": "stream",
     "text": [
      "[1218 22:02:17 @base.py:183] Epoch 20 (global_step 1400) finished, time:1.35 sec.\n",
      "[1218 22:02:18 @saver.py:76] Model saved to ./train_log/linenetFwbVSI2\\model-1400.\n"
     ]
    },
    {
     "name": "stderr",
     "output_type": "stream",
     "text": [
      "100%|############################################|10/10[00:00<00:00,113.33it/s]\n"
     ]
    },
    {
     "name": "stdout",
     "output_type": "stream",
     "text": [
      "[1218 22:02:18 @monitor.py:294] input_queue_size: 50\n",
      "[1218 22:02:18 @monitor.py:294] learning_rate: 0.0004\n",
      "[1218 22:02:18 @monitor.py:294] loss/params: 0.053578\n",
      "[1218 22:02:18 @monitor.py:294] loss/total_cost: 0.23687\n",
      "[1218 22:02:18 @monitor.py:294] loss/widths: 0.019889\n",
      "[1218 22:02:18 @monitor.py:294] validation_loss/params: 0.051491\n",
      "[1218 22:02:18 @monitor.py:294] validation_loss/widths: 0.01763\n",
      "[1218 22:02:18 @base.py:175] Start Epoch 21 ...\n"
     ]
    },
    {
     "name": "stderr",
     "output_type": "stream",
     "text": [
      "100%|#############################################|70/70[00:01<00:00,52.85it/s]\n"
     ]
    },
    {
     "name": "stdout",
     "output_type": "stream",
     "text": [
      "[1218 22:02:19 @base.py:183] Epoch 21 (global_step 1470) finished, time:1.33 sec.\n",
      "[1218 22:02:20 @saver.py:76] Model saved to ./train_log/linenetFwbVSI2\\model-1470.\n"
     ]
    },
    {
     "name": "stderr",
     "output_type": "stream",
     "text": [
      "100%|#############################################|10/10[00:00<00:00,72.80it/s]\n"
     ]
    },
    {
     "name": "stdout",
     "output_type": "stream",
     "text": [
      "[1218 22:02:20 @monitor.py:294] input_queue_size: 50\n",
      "[1218 22:02:20 @monitor.py:294] learning_rate: 0.0004\n",
      "[1218 22:02:20 @monitor.py:294] loss/params: 0.052425\n",
      "[1218 22:02:20 @monitor.py:294] loss/total_cost: 0.23232\n",
      "[1218 22:02:20 @monitor.py:294] loss/widths: 0.019951\n",
      "[1218 22:02:20 @monitor.py:294] validation_loss/params: 0.050915\n",
      "[1218 22:02:20 @monitor.py:294] validation_loss/widths: 0.017216\n",
      "[1218 22:02:20 @base.py:175] Start Epoch 22 ...\n"
     ]
    },
    {
     "name": "stderr",
     "output_type": "stream",
     "text": [
      "100%|#############################################|70/70[00:01<00:00,53.09it/s]\n"
     ]
    },
    {
     "name": "stdout",
     "output_type": "stream",
     "text": [
      "[1218 22:02:21 @base.py:183] Epoch 22 (global_step 1540) finished, time:1.32 sec.\n",
      "[1218 22:02:22 @saver.py:76] Model saved to ./train_log/linenetFwbVSI2\\model-1540.\n"
     ]
    },
    {
     "name": "stderr",
     "output_type": "stream",
     "text": [
      "100%|#############################################|10/10[00:00<00:00,99.74it/s]\n"
     ]
    },
    {
     "name": "stdout",
     "output_type": "stream",
     "text": [
      "[1218 22:02:22 @monitor.py:294] input_queue_size: 50\n",
      "[1218 22:02:22 @monitor.py:294] learning_rate: 0.0004\n",
      "[1218 22:02:22 @monitor.py:294] loss/params: 0.051691\n",
      "[1218 22:02:22 @monitor.py:294] loss/total_cost: 0.22801\n",
      "[1218 22:02:22 @monitor.py:294] loss/widths: 0.018574\n",
      "[1218 22:02:22 @monitor.py:294] validation_loss/params: 0.049196\n",
      "[1218 22:02:22 @monitor.py:294] validation_loss/widths: 0.01887\n",
      "[1218 22:02:22 @base.py:175] Start Epoch 23 ...\n"
     ]
    },
    {
     "name": "stderr",
     "output_type": "stream",
     "text": [
      "100%|#############################################|70/70[00:01<00:00,52.65it/s]\n"
     ]
    },
    {
     "name": "stdout",
     "output_type": "stream",
     "text": [
      "[1218 22:02:23 @base.py:183] Epoch 23 (global_step 1610) finished, time:1.33 sec.\n",
      "[1218 22:02:23 @saver.py:76] Model saved to ./train_log/linenetFwbVSI2\\model-1610.\n"
     ]
    },
    {
     "name": "stderr",
     "output_type": "stream",
     "text": [
      "100%|############################################|10/10[00:00<00:00,113.34it/s]\n"
     ]
    },
    {
     "name": "stdout",
     "output_type": "stream",
     "text": [
      "[1218 22:02:24 @monitor.py:294] input_queue_size: 50\n",
      "[1218 22:02:24 @monitor.py:294] learning_rate: 0.0004\n",
      "[1218 22:02:24 @monitor.py:294] loss/params: 0.050595\n",
      "[1218 22:02:24 @monitor.py:294] loss/total_cost: 0.22364\n",
      "[1218 22:02:24 @monitor.py:294] loss/widths: 0.018587\n",
      "[1218 22:02:24 @monitor.py:294] validation_loss/params: 0.048607\n",
      "[1218 22:02:24 @monitor.py:294] validation_loss/widths: 0.016493\n",
      "[1218 22:02:24 @base.py:175] Start Epoch 24 ...\n"
     ]
    },
    {
     "name": "stderr",
     "output_type": "stream",
     "text": [
      "100%|#############################################|70/70[00:01<00:00,52.53it/s]\n"
     ]
    },
    {
     "name": "stdout",
     "output_type": "stream",
     "text": [
      "[1218 22:02:25 @base.py:183] Epoch 24 (global_step 1680) finished, time:1.34 sec.\n",
      "[1218 22:02:25 @saver.py:76] Model saved to ./train_log/linenetFwbVSI2\\model-1680.\n"
     ]
    },
    {
     "name": "stderr",
     "output_type": "stream",
     "text": [
      "100%|############################################|10/10[00:00<00:00,110.85it/s]\n"
     ]
    },
    {
     "name": "stdout",
     "output_type": "stream",
     "text": [
      "[1218 22:02:25 @monitor.py:294] input_queue_size: 50\n",
      "[1218 22:02:25 @monitor.py:294] learning_rate: 0.0004\n",
      "[1218 22:02:25 @monitor.py:294] loss/params: 0.049651\n",
      "[1218 22:02:25 @monitor.py:294] loss/total_cost: 0.21924\n",
      "[1218 22:02:25 @monitor.py:294] loss/widths: 0.017971\n",
      "[1218 22:02:25 @monitor.py:294] validation_loss/params: 0.048106\n",
      "[1218 22:02:25 @monitor.py:294] validation_loss/widths: 0.015086\n",
      "[1218 22:02:25 @base.py:175] Start Epoch 25 ...\n"
     ]
    },
    {
     "name": "stderr",
     "output_type": "stream",
     "text": [
      "100%|#############################################|70/70[00:01<00:00,52.02it/s]\n"
     ]
    },
    {
     "name": "stdout",
     "output_type": "stream",
     "text": [
      "[1218 22:02:27 @base.py:183] Epoch 25 (global_step 1750) finished, time:1.35 sec.\n",
      "[1218 22:02:27 @saver.py:76] Model saved to ./train_log/linenetFwbVSI2\\model-1750.\n"
     ]
    },
    {
     "name": "stderr",
     "output_type": "stream",
     "text": [
      "100%|############################################|10/10[00:00<00:00,104.98it/s]\n"
     ]
    },
    {
     "name": "stdout",
     "output_type": "stream",
     "text": [
      "[1218 22:02:27 @monitor.py:294] input_queue_size: 50\n",
      "[1218 22:02:27 @monitor.py:294] learning_rate: 0.0004\n",
      "[1218 22:02:27 @monitor.py:294] loss/params: 0.048594\n",
      "[1218 22:02:27 @monitor.py:294] loss/total_cost: 0.21494\n",
      "[1218 22:02:27 @monitor.py:294] loss/widths: 0.0179\n",
      "[1218 22:02:27 @monitor.py:294] validation_loss/params: 0.046478\n",
      "[1218 22:02:27 @monitor.py:294] validation_loss/widths: 0.017814\n",
      "[1218 22:02:27 @base.py:175] Start Epoch 26 ...\n"
     ]
    },
    {
     "name": "stderr",
     "output_type": "stream",
     "text": [
      "100%|#############################################|70/70[00:01<00:00,52.37it/s]\n"
     ]
    },
    {
     "name": "stdout",
     "output_type": "stream",
     "text": [
      "[1218 22:02:29 @base.py:183] Epoch 26 (global_step 1820) finished, time:1.34 sec.\n",
      "[1218 22:02:29 @saver.py:76] Model saved to ./train_log/linenetFwbVSI2\\model-1820.\n"
     ]
    },
    {
     "name": "stderr",
     "output_type": "stream",
     "text": [
      "100%|############################################|10/10[00:00<00:00,112.06it/s]\n"
     ]
    },
    {
     "name": "stdout",
     "output_type": "stream",
     "text": [
      "[1218 22:02:29 @monitor.py:294] input_queue_size: 50\n",
      "[1218 22:02:29 @monitor.py:294] learning_rate: 0.0004\n",
      "[1218 22:02:29 @monitor.py:294] loss/params: 0.048002\n",
      "[1218 22:02:29 @monitor.py:294] loss/total_cost: 0.21245\n",
      "[1218 22:02:29 @monitor.py:294] loss/widths: 0.017776\n",
      "[1218 22:02:29 @monitor.py:294] validation_loss/params: 0.045916\n",
      "[1218 22:02:29 @monitor.py:294] validation_loss/widths: 0.015091\n",
      "[1218 22:02:29 @base.py:175] Start Epoch 27 ...\n"
     ]
    },
    {
     "name": "stderr",
     "output_type": "stream",
     "text": [
      "100%|#############################################|70/70[00:01<00:00,52.57it/s]\n"
     ]
    },
    {
     "name": "stdout",
     "output_type": "stream",
     "text": [
      "[1218 22:02:31 @base.py:183] Epoch 27 (global_step 1890) finished, time:1.34 sec.\n",
      "[1218 22:02:31 @saver.py:76] Model saved to ./train_log/linenetFwbVSI2\\model-1890.\n"
     ]
    },
    {
     "name": "stderr",
     "output_type": "stream",
     "text": [
      "100%|#############################################|10/10[00:00<00:00,96.81it/s]\n"
     ]
    },
    {
     "name": "stdout",
     "output_type": "stream",
     "text": [
      "[1218 22:02:31 @monitor.py:294] input_queue_size: 50\n",
      "[1218 22:02:31 @monitor.py:294] learning_rate: 0.0004\n",
      "[1218 22:02:31 @monitor.py:294] loss/params: 0.047328\n",
      "[1218 22:02:31 @monitor.py:294] loss/total_cost: 0.2088\n",
      "[1218 22:02:31 @monitor.py:294] loss/widths: 0.016828\n",
      "[1218 22:02:31 @monitor.py:294] validation_loss/params: 0.045069\n",
      "[1218 22:02:31 @monitor.py:294] validation_loss/widths: 0.016665\n",
      "[1218 22:02:31 @base.py:175] Start Epoch 28 ...\n"
     ]
    },
    {
     "name": "stderr",
     "output_type": "stream",
     "text": [
      "100%|#############################################|70/70[00:01<00:00,52.85it/s]\n"
     ]
    },
    {
     "name": "stdout",
     "output_type": "stream",
     "text": [
      "[1218 22:02:32 @base.py:183] Epoch 28 (global_step 1960) finished, time:1.33 sec.\n",
      "[1218 22:02:33 @saver.py:76] Model saved to ./train_log/linenetFwbVSI2\\model-1960.\n"
     ]
    },
    {
     "name": "stderr",
     "output_type": "stream",
     "text": [
      "100%|############################################|10/10[00:00<00:00,112.06it/s]\n"
     ]
    },
    {
     "name": "stdout",
     "output_type": "stream",
     "text": [
      "[1218 22:02:33 @monitor.py:294] input_queue_size: 50\n",
      "[1218 22:02:33 @monitor.py:294] learning_rate: 0.0004\n",
      "[1218 22:02:33 @monitor.py:294] loss/params: 0.046547\n",
      "[1218 22:02:33 @monitor.py:294] loss/total_cost: 0.20545\n",
      "[1218 22:02:33 @monitor.py:294] loss/widths: 0.016602\n",
      "[1218 22:02:33 @monitor.py:294] validation_loss/params: 0.044199\n",
      "[1218 22:02:33 @monitor.py:294] validation_loss/widths: 0.016325\n",
      "[1218 22:02:33 @base.py:175] Start Epoch 29 ...\n"
     ]
    },
    {
     "name": "stderr",
     "output_type": "stream",
     "text": [
      "100%|#############################################|70/70[00:01<00:00,51.37it/s]\n"
     ]
    },
    {
     "name": "stdout",
     "output_type": "stream",
     "text": [
      "[1218 22:02:34 @base.py:183] Epoch 29 (global_step 2030) finished, time:1.37 sec.\n",
      "[1218 22:02:35 @saver.py:76] Model saved to ./train_log/linenetFwbVSI2\\model-2030.\n"
     ]
    },
    {
     "name": "stderr",
     "output_type": "stream",
     "text": [
      "100%|############################################|10/10[00:00<00:00,108.41it/s]\n"
     ]
    },
    {
     "name": "stdout",
     "output_type": "stream",
     "text": [
      "[1218 22:02:35 @monitor.py:294] input_queue_size: 50\n",
      "[1218 22:02:35 @monitor.py:294] learning_rate: 0.0004\n",
      "[1218 22:02:35 @monitor.py:294] loss/params: 0.046389\n",
      "[1218 22:02:35 @monitor.py:294] loss/total_cost: 0.20411\n",
      "[1218 22:02:35 @monitor.py:294] loss/widths: 0.015897\n",
      "[1218 22:02:35 @monitor.py:294] validation_loss/params: 0.043986\n",
      "[1218 22:02:35 @monitor.py:294] validation_loss/widths: 0.014836\n",
      "[1218 22:02:35 @base.py:175] Start Epoch 30 ...\n"
     ]
    },
    {
     "name": "stderr",
     "output_type": "stream",
     "text": [
      "100%|#############################################|70/70[00:01<00:00,51.79it/s]\n"
     ]
    },
    {
     "name": "stdout",
     "output_type": "stream",
     "text": [
      "[1218 22:02:36 @base.py:183] Epoch 30 (global_step 2100) finished, time:1.36 sec.\n",
      "[1218 22:02:37 @saver.py:76] Model saved to ./train_log/linenetFwbVSI2\\model-2100.\n"
     ]
    },
    {
     "name": "stderr",
     "output_type": "stream",
     "text": [
      "100%|############################################|10/10[00:00<00:00,104.99it/s]\n"
     ]
    },
    {
     "name": "stdout",
     "output_type": "stream",
     "text": [
      "[1218 22:02:37 @monitor.py:294] input_queue_size: 50\n",
      "[1218 22:02:37 @monitor.py:294] learning_rate: 0.0004\n",
      "[1218 22:02:37 @monitor.py:294] loss/params: 0.045598\n",
      "[1218 22:02:37 @monitor.py:294] loss/total_cost: 0.20074\n",
      "[1218 22:02:37 @monitor.py:294] loss/widths: 0.01569\n",
      "[1218 22:02:37 @monitor.py:294] validation_loss/params: 0.043779\n",
      "[1218 22:02:37 @monitor.py:294] validation_loss/widths: 0.01605\n",
      "[1218 22:02:37 @base.py:175] Start Epoch 31 ...\n"
     ]
    },
    {
     "name": "stderr",
     "output_type": "stream",
     "text": [
      "100%|#############################################|70/70[00:01<00:00,51.75it/s]\n"
     ]
    },
    {
     "name": "stdout",
     "output_type": "stream",
     "text": [
      "[1218 22:02:38 @base.py:183] Epoch 31 (global_step 2170) finished, time:1.36 sec.\n",
      "[1218 22:02:38 @saver.py:76] Model saved to ./train_log/linenetFwbVSI2\\model-2170.\n"
     ]
    },
    {
     "name": "stderr",
     "output_type": "stream",
     "text": [
      "100%|#############################################|10/10[00:00<00:00,71.24it/s]\n"
     ]
    },
    {
     "name": "stdout",
     "output_type": "stream",
     "text": [
      "[1218 22:02:39 @monitor.py:294] input_queue_size: 50\n",
      "[1218 22:02:39 @monitor.py:294] learning_rate: 0.0004\n",
      "[1218 22:02:39 @monitor.py:294] loss/params: 0.045301\n",
      "[1218 22:02:39 @monitor.py:294] loss/total_cost: 0.19982\n",
      "[1218 22:02:39 @monitor.py:294] loss/widths: 0.015966\n",
      "[1218 22:02:39 @monitor.py:294] validation_loss/params: 0.043029\n",
      "[1218 22:02:39 @monitor.py:294] validation_loss/widths: 0.018561\n",
      "[1218 22:02:39 @base.py:175] Start Epoch 32 ...\n"
     ]
    },
    {
     "name": "stderr",
     "output_type": "stream",
     "text": [
      "100%|#############################################|70/70[00:01<00:00,51.91it/s]\n"
     ]
    },
    {
     "name": "stdout",
     "output_type": "stream",
     "text": [
      "[1218 22:02:40 @base.py:183] Epoch 32 (global_step 2240) finished, time:1.35 sec.\n",
      "[1218 22:02:40 @saver.py:76] Model saved to ./train_log/linenetFwbVSI2\\model-2240.\n"
     ]
    },
    {
     "name": "stderr",
     "output_type": "stream",
     "text": [
      "100%|#############################################|10/10[00:00<00:00,97.78it/s]\n"
     ]
    },
    {
     "name": "stdout",
     "output_type": "stream",
     "text": [
      "[1218 22:02:40 @monitor.py:294] input_queue_size: 50\n",
      "[1218 22:02:40 @monitor.py:294] learning_rate: 0.0004\n",
      "[1218 22:02:40 @monitor.py:294] loss/params: 0.045037\n",
      "[1218 22:02:40 @monitor.py:294] loss/total_cost: 0.19818\n",
      "[1218 22:02:40 @monitor.py:294] loss/widths: 0.015381\n",
      "[1218 22:02:40 @monitor.py:294] validation_loss/params: 0.042782\n",
      "[1218 22:02:40 @monitor.py:294] validation_loss/widths: 0.016963\n",
      "[1218 22:02:40 @base.py:175] Start Epoch 33 ...\n"
     ]
    },
    {
     "name": "stderr",
     "output_type": "stream",
     "text": [
      "100%|#############################################|70/70[00:01<00:00,52.49it/s]\n"
     ]
    },
    {
     "name": "stdout",
     "output_type": "stream",
     "text": [
      "[1218 22:02:42 @base.py:183] Epoch 33 (global_step 2310) finished, time:1.34 sec.\n",
      "[1218 22:02:42 @saver.py:76] Model saved to ./train_log/linenetFwbVSI2\\model-2310.\n"
     ]
    },
    {
     "name": "stderr",
     "output_type": "stream",
     "text": [
      "100%|#############################################|10/10[00:00<00:00,95.88it/s]\n"
     ]
    },
    {
     "name": "stdout",
     "output_type": "stream",
     "text": [
      "[1218 22:02:42 @monitor.py:294] input_queue_size: 50\n",
      "[1218 22:02:42 @monitor.py:294] learning_rate: 0.0004\n",
      "[1218 22:02:42 @monitor.py:294] loss/params: 0.044499\n",
      "[1218 22:02:42 @monitor.py:294] loss/total_cost: 0.19537\n",
      "[1218 22:02:42 @monitor.py:294] loss/widths: 0.014723\n",
      "[1218 22:02:42 @monitor.py:294] validation_loss/params: 0.042175\n",
      "[1218 22:02:42 @monitor.py:294] validation_loss/widths: 0.014252\n",
      "[1218 22:02:42 @base.py:175] Start Epoch 34 ...\n"
     ]
    },
    {
     "name": "stderr",
     "output_type": "stream",
     "text": [
      "100%|#############################################|70/70[00:01<00:00,52.14it/s]\n"
     ]
    },
    {
     "name": "stdout",
     "output_type": "stream",
     "text": [
      "[1218 22:02:44 @base.py:183] Epoch 34 (global_step 2380) finished, time:1.35 sec.\n",
      "[1218 22:02:44 @saver.py:76] Model saved to ./train_log/linenetFwbVSI2\\model-2380.\n"
     ]
    },
    {
     "name": "stderr",
     "output_type": "stream",
     "text": [
      "100%|#############################################|10/10[00:00<00:00,90.67it/s]\n"
     ]
    },
    {
     "name": "stdout",
     "output_type": "stream",
     "text": [
      "[1218 22:02:44 @monitor.py:294] input_queue_size: 50\n",
      "[1218 22:02:44 @monitor.py:294] learning_rate: 0.0004\n",
      "[1218 22:02:44 @monitor.py:294] loss/params: 0.044037\n",
      "[1218 22:02:44 @monitor.py:294] loss/total_cost: 0.19368\n",
      "[1218 22:02:44 @monitor.py:294] loss/widths: 0.014883\n",
      "[1218 22:02:44 @monitor.py:294] validation_loss/params: 0.041239\n",
      "[1218 22:02:44 @monitor.py:294] validation_loss/widths: 0.015191\n",
      "[1218 22:02:44 @base.py:175] Start Epoch 35 ...\n"
     ]
    },
    {
     "name": "stderr",
     "output_type": "stream",
     "text": [
      "100%|#############################################|70/70[00:01<00:00,52.26it/s]\n"
     ]
    },
    {
     "name": "stdout",
     "output_type": "stream",
     "text": [
      "[1218 22:02:46 @base.py:183] Epoch 35 (global_step 2450) finished, time:1.34 sec.\n",
      "[1218 22:02:46 @saver.py:76] Model saved to ./train_log/linenetFwbVSI2\\model-2450.\n"
     ]
    },
    {
     "name": "stderr",
     "output_type": "stream",
     "text": [
      "100%|############################################|10/10[00:00<00:00,110.81it/s]\n"
     ]
    },
    {
     "name": "stdout",
     "output_type": "stream",
     "text": [
      "[1218 22:02:46 @monitor.py:294] input_queue_size: 50\n",
      "[1218 22:02:46 @monitor.py:294] learning_rate: 0.0004\n",
      "[1218 22:02:46 @monitor.py:294] loss/params: 0.043538\n",
      "[1218 22:02:46 @monitor.py:294] loss/total_cost: 0.19173\n",
      "[1218 22:02:46 @monitor.py:294] loss/widths: 0.014932\n",
      "[1218 22:02:46 @monitor.py:294] validation_loss/params: 0.041155\n",
      "[1218 22:02:46 @monitor.py:294] validation_loss/widths: 0.016787\n",
      "[1218 22:02:46 @base.py:175] Start Epoch 36 ...\n"
     ]
    },
    {
     "name": "stderr",
     "output_type": "stream",
     "text": [
      "100%|#############################################|70/70[00:01<00:00,52.93it/s]\n"
     ]
    },
    {
     "name": "stdout",
     "output_type": "stream",
     "text": [
      "[1218 22:02:47 @base.py:183] Epoch 36 (global_step 2520) finished, time:1.33 sec.\n",
      "[1218 22:02:48 @saver.py:76] Model saved to ./train_log/linenetFwbVSI2\\model-2520.\n"
     ]
    },
    {
     "name": "stderr",
     "output_type": "stream",
     "text": [
      "100%|#############################################|10/10[00:00<00:00,79.79it/s]\n"
     ]
    },
    {
     "name": "stdout",
     "output_type": "stream",
     "text": [
      "[1218 22:02:48 @monitor.py:294] input_queue_size: 50\n",
      "[1218 22:02:48 @monitor.py:294] learning_rate: 0.0004\n",
      "[1218 22:02:48 @monitor.py:294] loss/params: 0.043242\n",
      "[1218 22:02:48 @monitor.py:294] loss/total_cost: 0.19087\n",
      "[1218 22:02:48 @monitor.py:294] loss/widths: 0.015256\n",
      "[1218 22:02:48 @monitor.py:294] validation_loss/params: 0.040881\n",
      "[1218 22:02:48 @monitor.py:294] validation_loss/widths: 0.017311\n",
      "[1218 22:02:48 @base.py:175] Start Epoch 37 ...\n"
     ]
    },
    {
     "name": "stderr",
     "output_type": "stream",
     "text": [
      "100%|#############################################|70/70[00:01<00:00,52.29it/s]\n"
     ]
    },
    {
     "name": "stdout",
     "output_type": "stream",
     "text": [
      "[1218 22:02:49 @base.py:183] Epoch 37 (global_step 2590) finished, time:1.34 sec.\n",
      "[1218 22:02:50 @saver.py:76] Model saved to ./train_log/linenetFwbVSI2\\model-2590.\n"
     ]
    },
    {
     "name": "stderr",
     "output_type": "stream",
     "text": [
      "100%|#############################################|10/10[00:00<00:00,79.15it/s]\n"
     ]
    },
    {
     "name": "stdout",
     "output_type": "stream",
     "text": [
      "[1218 22:02:50 @monitor.py:294] input_queue_size: 50\n",
      "[1218 22:02:50 @monitor.py:294] learning_rate: 0.0004\n",
      "[1218 22:02:50 @monitor.py:294] loss/params: 0.042616\n",
      "[1218 22:02:50 @monitor.py:294] loss/total_cost: 0.18772\n",
      "[1218 22:02:50 @monitor.py:294] loss/widths: 0.014611\n",
      "[1218 22:02:50 @monitor.py:294] validation_loss/params: 0.040623\n",
      "[1218 22:02:50 @monitor.py:294] validation_loss/widths: 0.014908\n",
      "[1218 22:02:50 @base.py:175] Start Epoch 38 ...\n"
     ]
    },
    {
     "name": "stderr",
     "output_type": "stream",
     "text": [
      "100%|#############################################|70/70[00:01<00:00,52.85it/s]\n"
     ]
    },
    {
     "name": "stdout",
     "output_type": "stream",
     "text": [
      "[1218 22:02:51 @base.py:183] Epoch 38 (global_step 2660) finished, time:1.33 sec.\n",
      "[1218 22:02:52 @saver.py:76] Model saved to ./train_log/linenetFwbVSI2\\model-2660.\n"
     ]
    },
    {
     "name": "stderr",
     "output_type": "stream",
     "text": [
      "100%|#############################################|10/10[00:00<00:00,66.94it/s]\n"
     ]
    },
    {
     "name": "stdout",
     "output_type": "stream",
     "text": [
      "[1218 22:02:52 @monitor.py:294] input_queue_size: 50\n",
      "[1218 22:02:52 @monitor.py:294] learning_rate: 0.0004\n",
      "[1218 22:02:52 @monitor.py:294] loss/params: 0.04216\n",
      "[1218 22:02:52 @monitor.py:294] loss/total_cost: 0.18552\n",
      "[1218 22:02:52 @monitor.py:294] loss/widths: 0.014239\n",
      "[1218 22:02:52 @monitor.py:294] validation_loss/params: 0.040037\n",
      "[1218 22:02:52 @monitor.py:294] validation_loss/widths: 0.013294\n",
      "[1218 22:02:52 @base.py:175] Start Epoch 39 ...\n"
     ]
    },
    {
     "name": "stderr",
     "output_type": "stream",
     "text": [
      "100%|#############################################|70/70[00:01<00:00,52.29it/s]\n"
     ]
    },
    {
     "name": "stdout",
     "output_type": "stream",
     "text": [
      "[1218 22:02:53 @base.py:183] Epoch 39 (global_step 2730) finished, time:1.34 sec.\n",
      "[1218 22:02:54 @saver.py:76] Model saved to ./train_log/linenetFwbVSI2\\model-2730.\n"
     ]
    },
    {
     "name": "stderr",
     "output_type": "stream",
     "text": [
      "100%|#############################################|10/10[00:00<00:00,64.34it/s]\n"
     ]
    },
    {
     "name": "stdout",
     "output_type": "stream",
     "text": [
      "[1218 22:02:54 @monitor.py:294] input_queue_size: 50\n",
      "[1218 22:02:54 @monitor.py:294] learning_rate: 0.0004\n",
      "[1218 22:02:54 @monitor.py:294] loss/params: 0.041644\n",
      "[1218 22:02:54 @monitor.py:294] loss/total_cost: 0.18331\n",
      "[1218 22:02:54 @monitor.py:294] loss/widths: 0.014088\n",
      "[1218 22:02:54 @monitor.py:294] validation_loss/params: 0.040157\n",
      "[1218 22:02:54 @monitor.py:294] validation_loss/widths: 0.024889\n",
      "[1218 22:02:54 @base.py:175] Start Epoch 40 ...\n"
     ]
    },
    {
     "name": "stderr",
     "output_type": "stream",
     "text": [
      "100%|#############################################|70/70[00:01<00:00,52.57it/s]\n"
     ]
    },
    {
     "name": "stdout",
     "output_type": "stream",
     "text": [
      "[1218 22:02:55 @base.py:183] Epoch 40 (global_step 2800) finished, time:1.34 sec.\n",
      "[1218 22:02:56 @saver.py:76] Model saved to ./train_log/linenetFwbVSI2\\model-2800.\n"
     ]
    },
    {
     "name": "stderr",
     "output_type": "stream",
     "text": [
      "100%|#############################################|10/10[00:00<00:00,91.50it/s]\n"
     ]
    },
    {
     "name": "stdout",
     "output_type": "stream",
     "text": [
      "[1218 22:02:56 @monitor.py:294] input_queue_size: 50\n",
      "[1218 22:02:56 @monitor.py:294] learning_rate: 0.0004\n",
      "[1218 22:02:56 @monitor.py:294] loss/params: 0.041146\n",
      "[1218 22:02:56 @monitor.py:294] loss/total_cost: 0.18117\n",
      "[1218 22:02:56 @monitor.py:294] loss/widths: 0.013948\n",
      "[1218 22:02:56 @monitor.py:294] validation_loss/params: 0.039078\n",
      "[1218 22:02:56 @monitor.py:294] validation_loss/widths: 0.012997\n",
      "[1218 22:02:56 @base.py:175] Start Epoch 41 ...\n"
     ]
    },
    {
     "name": "stderr",
     "output_type": "stream",
     "text": [
      "100%|#############################################|70/70[00:01<00:00,53.09it/s]\n"
     ]
    },
    {
     "name": "stdout",
     "output_type": "stream",
     "text": [
      "[1218 22:02:57 @base.py:183] Epoch 41 (global_step 2870) finished, time:1.32 sec.\n",
      "[1218 22:02:58 @saver.py:76] Model saved to ./train_log/linenetFwbVSI2\\model-2870.\n"
     ]
    },
    {
     "name": "stderr",
     "output_type": "stream",
     "text": [
      "100%|#############################################|10/10[00:00<00:00,90.68it/s]\n"
     ]
    },
    {
     "name": "stdout",
     "output_type": "stream",
     "text": [
      "[1218 22:02:58 @monitor.py:294] input_queue_size: 50\n",
      "[1218 22:02:58 @monitor.py:294] learning_rate: 0.0004\n",
      "[1218 22:02:58 @monitor.py:294] loss/params: 0.040861\n",
      "[1218 22:02:58 @monitor.py:294] loss/total_cost: 0.18\n",
      "[1218 22:02:58 @monitor.py:294] loss/widths: 0.013918\n",
      "[1218 22:02:58 @monitor.py:294] validation_loss/params: 0.038659\n",
      "[1218 22:02:58 @monitor.py:294] validation_loss/widths: 0.014277\n",
      "[1218 22:02:58 @base.py:175] Start Epoch 42 ...\n"
     ]
    },
    {
     "name": "stderr",
     "output_type": "stream",
     "text": [
      "100%|#############################################|70/70[00:01<00:00,52.65it/s]\n"
     ]
    },
    {
     "name": "stdout",
     "output_type": "stream",
     "text": [
      "[1218 22:02:59 @base.py:183] Epoch 42 (global_step 2940) finished, time:1.33 sec.\n",
      "[1218 22:02:59 @saver.py:76] Model saved to ./train_log/linenetFwbVSI2\\model-2940.\n"
     ]
    },
    {
     "name": "stderr",
     "output_type": "stream",
     "text": [
      "100%|############################################|10/10[00:00<00:00,108.41it/s]\n"
     ]
    },
    {
     "name": "stdout",
     "output_type": "stream",
     "text": [
      "[1218 22:03:00 @monitor.py:294] input_queue_size: 50\n",
      "[1218 22:03:00 @monitor.py:294] learning_rate: 0.0004\n",
      "[1218 22:03:00 @monitor.py:294] loss/params: 0.040198\n",
      "[1218 22:03:00 @monitor.py:294] loss/total_cost: 0.17675\n",
      "[1218 22:03:00 @monitor.py:294] loss/widths: 0.013318\n",
      "[1218 22:03:00 @monitor.py:294] validation_loss/params: 0.03831\n",
      "[1218 22:03:00 @monitor.py:294] validation_loss/widths: 0.014398\n",
      "[1218 22:03:00 @base.py:175] Start Epoch 43 ...\n"
     ]
    },
    {
     "name": "stderr",
     "output_type": "stream",
     "text": [
      "100%|#############################################|70/70[00:01<00:00,52.97it/s]\n"
     ]
    },
    {
     "name": "stdout",
     "output_type": "stream",
     "text": [
      "[1218 22:03:01 @base.py:183] Epoch 43 (global_step 3010) finished, time:1.33 sec.\n",
      "[1218 22:03:01 @saver.py:76] Model saved to ./train_log/linenetFwbVSI2\\model-3010.\n"
     ]
    },
    {
     "name": "stderr",
     "output_type": "stream",
     "text": [
      "100%|#############################################|10/10[00:00<00:00,81.07it/s]\n"
     ]
    },
    {
     "name": "stdout",
     "output_type": "stream",
     "text": [
      "[1218 22:03:01 @monitor.py:294] input_queue_size: 50\n",
      "[1218 22:03:01 @monitor.py:294] learning_rate: 0.0004\n",
      "[1218 22:03:01 @monitor.py:294] loss/params: 0.039777\n",
      "[1218 22:03:01 @monitor.py:294] loss/total_cost: 0.17529\n",
      "[1218 22:03:01 @monitor.py:294] loss/widths: 0.013551\n",
      "[1218 22:03:01 @monitor.py:294] validation_loss/params: 0.038\n",
      "[1218 22:03:01 @monitor.py:294] validation_loss/widths: 0.013604\n",
      "[1218 22:03:01 @base.py:175] Start Epoch 44 ...\n"
     ]
    },
    {
     "name": "stderr",
     "output_type": "stream",
     "text": [
      "100%|#############################################|70/70[00:01<00:00,51.68it/s]\n"
     ]
    },
    {
     "name": "stdout",
     "output_type": "stream",
     "text": [
      "[1218 22:03:03 @base.py:183] Epoch 44 (global_step 3080) finished, time:1.36 sec.\n",
      "[1218 22:03:03 @saver.py:76] Model saved to ./train_log/linenetFwbVSI2\\model-3080.\n"
     ]
    },
    {
     "name": "stderr",
     "output_type": "stream",
     "text": [
      "100%|#############################################|10/10[00:00<00:00,99.74it/s]\n"
     ]
    },
    {
     "name": "stdout",
     "output_type": "stream",
     "text": [
      "[1218 22:03:03 @monitor.py:294] input_queue_size: 50\n",
      "[1218 22:03:03 @monitor.py:294] learning_rate: 0.0004\n",
      "[1218 22:03:03 @monitor.py:294] loss/params: 0.039514\n",
      "[1218 22:03:03 @monitor.py:294] loss/total_cost: 0.17388\n",
      "[1218 22:03:03 @monitor.py:294] loss/widths: 0.013189\n",
      "[1218 22:03:03 @monitor.py:294] validation_loss/params: 0.037304\n",
      "[1218 22:03:03 @monitor.py:294] validation_loss/widths: 0.014983\n",
      "[1218 22:03:03 @base.py:175] Start Epoch 45 ...\n"
     ]
    },
    {
     "name": "stderr",
     "output_type": "stream",
     "text": [
      "100%|#############################################|70/70[00:01<00:00,53.01it/s]\n"
     ]
    },
    {
     "name": "stdout",
     "output_type": "stream",
     "text": [
      "[1218 22:03:05 @base.py:183] Epoch 45 (global_step 3150) finished, time:1.32 sec.\n",
      "[1218 22:03:05 @saver.py:76] Model saved to ./train_log/linenetFwbVSI2\\model-3150.\n"
     ]
    },
    {
     "name": "stderr",
     "output_type": "stream",
     "text": [
      "100%|############################################|10/10[00:00<00:00,112.06it/s]\n"
     ]
    },
    {
     "name": "stdout",
     "output_type": "stream",
     "text": [
      "[1218 22:03:05 @monitor.py:294] input_queue_size: 50\n",
      "[1218 22:03:05 @monitor.py:294] learning_rate: 0.0004\n",
      "[1218 22:03:05 @monitor.py:294] loss/params: 0.039219\n",
      "[1218 22:03:05 @monitor.py:294] loss/total_cost: 0.17248\n",
      "[1218 22:03:05 @monitor.py:294] loss/widths: 0.012969\n",
      "[1218 22:03:05 @monitor.py:294] validation_loss/params: 0.03672\n",
      "[1218 22:03:05 @monitor.py:294] validation_loss/widths: 0.014665\n",
      "[1218 22:03:05 @base.py:175] Start Epoch 46 ...\n"
     ]
    },
    {
     "name": "stderr",
     "output_type": "stream",
     "text": [
      "100%|#############################################|70/70[00:01<00:00,52.26it/s]\n"
     ]
    },
    {
     "name": "stdout",
     "output_type": "stream",
     "text": [
      "[1218 22:03:07 @base.py:183] Epoch 46 (global_step 3220) finished, time:1.34 sec.\n",
      "[1218 22:03:07 @saver.py:76] Model saved to ./train_log/linenetFwbVSI2\\model-3220.\n"
     ]
    },
    {
     "name": "stderr",
     "output_type": "stream",
     "text": [
      "100%|#############################################|10/10[00:00<00:00,96.83it/s]\n"
     ]
    },
    {
     "name": "stdout",
     "output_type": "stream",
     "text": [
      "[1218 22:03:07 @monitor.py:294] input_queue_size: 50\n",
      "[1218 22:03:07 @monitor.py:294] learning_rate: 0.0004\n",
      "[1218 22:03:07 @monitor.py:294] loss/params: 0.038614\n",
      "[1218 22:03:07 @monitor.py:294] loss/total_cost: 0.17019\n",
      "[1218 22:03:07 @monitor.py:294] loss/widths: 0.013102\n",
      "[1218 22:03:07 @monitor.py:294] validation_loss/params: 0.036383\n",
      "[1218 22:03:07 @monitor.py:294] validation_loss/widths: 0.01259\n",
      "[1218 22:03:07 @base.py:175] Start Epoch 47 ...\n"
     ]
    },
    {
     "name": "stderr",
     "output_type": "stream",
     "text": [
      "100%|#############################################|70/70[00:01<00:00,45.54it/s]\n"
     ]
    },
    {
     "name": "stdout",
     "output_type": "stream",
     "text": [
      "[1218 22:03:09 @base.py:183] Epoch 47 (global_step 3290) finished, time:1.54 sec.\n",
      "[1218 22:03:09 @saver.py:76] Model saved to ./train_log/linenetFwbVSI2\\model-3290.\n"
     ]
    },
    {
     "name": "stderr",
     "output_type": "stream",
     "text": [
      "100%|#############################################|10/10[00:00<00:00,96.83it/s]\n"
     ]
    },
    {
     "name": "stdout",
     "output_type": "stream",
     "text": [
      "[1218 22:03:09 @monitor.py:294] input_queue_size: 50\n",
      "[1218 22:03:09 @monitor.py:294] learning_rate: 0.0004\n",
      "[1218 22:03:09 @monitor.py:294] loss/params: 0.038456\n",
      "[1218 22:03:09 @monitor.py:294] loss/total_cost: 0.16963\n",
      "[1218 22:03:09 @monitor.py:294] loss/widths: 0.013178\n",
      "[1218 22:03:09 @monitor.py:294] validation_loss/params: 0.035846\n",
      "[1218 22:03:09 @monitor.py:294] validation_loss/widths: 0.01471\n",
      "[1218 22:03:09 @base.py:175] Start Epoch 48 ...\n"
     ]
    },
    {
     "name": "stderr",
     "output_type": "stream",
     "text": [
      "100%|#############################################|70/70[00:01<00:00,51.18it/s]\n"
     ]
    },
    {
     "name": "stdout",
     "output_type": "stream",
     "text": [
      "[1218 22:03:11 @base.py:183] Epoch 48 (global_step 3360) finished, time:1.37 sec.\n",
      "[1218 22:03:11 @saver.py:76] Model saved to ./train_log/linenetFwbVSI2\\model-3360.\n"
     ]
    },
    {
     "name": "stderr",
     "output_type": "stream",
     "text": [
      "100%|############################################|10/10[00:00<00:00,108.41it/s]\n"
     ]
    },
    {
     "name": "stdout",
     "output_type": "stream",
     "text": [
      "[1218 22:03:11 @monitor.py:294] input_queue_size: 50\n",
      "[1218 22:03:11 @monitor.py:294] learning_rate: 0.0004\n",
      "[1218 22:03:11 @monitor.py:294] loss/params: 0.037513\n",
      "[1218 22:03:11 @monitor.py:294] loss/total_cost: 0.16544\n",
      "[1218 22:03:11 @monitor.py:294] loss/widths: 0.012761\n",
      "[1218 22:03:11 @monitor.py:294] validation_loss/params: 0.035485\n",
      "[1218 22:03:11 @monitor.py:294] validation_loss/widths: 0.015508\n",
      "[1218 22:03:11 @base.py:175] Start Epoch 49 ...\n"
     ]
    },
    {
     "name": "stderr",
     "output_type": "stream",
     "text": [
      "100%|#############################################|70/70[00:01<00:00,49.83it/s]\n"
     ]
    },
    {
     "name": "stdout",
     "output_type": "stream",
     "text": [
      "[1218 22:03:13 @base.py:183] Epoch 49 (global_step 3430) finished, time:1.41 sec.\n",
      "[1218 22:03:13 @saver.py:76] Model saved to ./train_log/linenetFwbVSI2\\model-3430.\n"
     ]
    },
    {
     "name": "stderr",
     "output_type": "stream",
     "text": [
      "100%|############################################|10/10[00:00<00:00,115.97it/s]\n"
     ]
    },
    {
     "name": "stdout",
     "output_type": "stream",
     "text": [
      "[1218 22:03:13 @monitor.py:294] input_queue_size: 50\n",
      "[1218 22:03:13 @monitor.py:294] learning_rate: 0.0004\n",
      "[1218 22:03:13 @monitor.py:294] loss/params: 0.037603\n",
      "[1218 22:03:13 @monitor.py:294] loss/total_cost: 0.16568\n",
      "[1218 22:03:13 @monitor.py:294] loss/widths: 0.012639\n",
      "[1218 22:03:13 @monitor.py:294] validation_loss/params: 0.035328\n",
      "[1218 22:03:13 @monitor.py:294] validation_loss/widths: 0.012238\n",
      "[1218 22:03:13 @base.py:175] Start Epoch 50 ...\n"
     ]
    },
    {
     "name": "stderr",
     "output_type": "stream",
     "text": [
      "100%|#############################################|70/70[00:01<00:00,50.30it/s]\n"
     ]
    },
    {
     "name": "stdout",
     "output_type": "stream",
     "text": [
      "[1218 22:03:15 @base.py:183] Epoch 50 (global_step 3500) finished, time:1.40 sec.\n",
      "[1218 22:03:15 @saver.py:76] Model saved to ./train_log/linenetFwbVSI2\\model-3500.\n"
     ]
    },
    {
     "name": "stderr",
     "output_type": "stream",
     "text": [
      "100%|############################################|10/10[00:00<00:00,106.10it/s]\n"
     ]
    },
    {
     "name": "stdout",
     "output_type": "stream",
     "text": [
      "[1218 22:03:15 @monitor.py:294] input_queue_size: 50\n",
      "[1218 22:03:15 @monitor.py:294] learning_rate: 0.0004\n",
      "[1218 22:03:15 @monitor.py:294] loss/params: 0.037105\n",
      "[1218 22:03:15 @monitor.py:294] loss/total_cost: 0.16359\n",
      "[1218 22:03:15 @monitor.py:294] loss/widths: 0.012544\n",
      "[1218 22:03:15 @monitor.py:294] validation_loss/params: 0.035138\n",
      "[1218 22:03:15 @monitor.py:294] validation_loss/widths: 0.014898\n",
      "[1218 22:03:15 @base.py:175] Start Epoch 51 ...\n"
     ]
    },
    {
     "name": "stderr",
     "output_type": "stream",
     "text": [
      "100%|#############################################|70/70[00:01<00:00,50.85it/s]\n"
     ]
    },
    {
     "name": "stdout",
     "output_type": "stream",
     "text": [
      "[1218 22:03:16 @base.py:183] Epoch 51 (global_step 3570) finished, time:1.38 sec.\n",
      "[1218 22:03:17 @saver.py:76] Model saved to ./train_log/linenetFwbVSI2\\model-3570.\n"
     ]
    },
    {
     "name": "stderr",
     "output_type": "stream",
     "text": [
      "100%|############################################|10/10[00:00<00:00,100.74it/s]\n"
     ]
    },
    {
     "name": "stdout",
     "output_type": "stream",
     "text": [
      "[1218 22:03:17 @monitor.py:294] input_queue_size: 50\n",
      "[1218 22:03:17 @monitor.py:294] learning_rate: 0.0004\n",
      "[1218 22:03:17 @monitor.py:294] loss/params: 0.03655\n",
      "[1218 22:03:17 @monitor.py:294] loss/total_cost: 0.16131\n",
      "[1218 22:03:17 @monitor.py:294] loss/widths: 0.012491\n",
      "[1218 22:03:17 @monitor.py:294] validation_loss/params: 0.034881\n",
      "[1218 22:03:17 @monitor.py:294] validation_loss/widths: 0.014077\n",
      "[1218 22:03:17 @base.py:175] Start Epoch 52 ...\n"
     ]
    },
    {
     "name": "stderr",
     "output_type": "stream",
     "text": [
      "100%|#############################################|70/70[00:01<00:00,49.20it/s]\n"
     ]
    },
    {
     "name": "stdout",
     "output_type": "stream",
     "text": [
      "[1218 22:03:18 @base.py:183] Epoch 52 (global_step 3640) finished, time:1.43 sec.\n",
      "[1218 22:03:19 @saver.py:76] Model saved to ./train_log/linenetFwbVSI2\\model-3640.\n"
     ]
    },
    {
     "name": "stderr",
     "output_type": "stream",
     "text": [
      "100%|############################################|10/10[00:00<00:00,106.13it/s]\n"
     ]
    },
    {
     "name": "stdout",
     "output_type": "stream",
     "text": [
      "[1218 22:03:19 @monitor.py:294] input_queue_size: 50\n",
      "[1218 22:03:19 @monitor.py:294] learning_rate: 0.0004\n",
      "[1218 22:03:19 @monitor.py:294] loss/params: 0.036009\n",
      "[1218 22:03:19 @monitor.py:294] loss/total_cost: 0.15866\n",
      "[1218 22:03:19 @monitor.py:294] loss/widths: 0.012009\n",
      "[1218 22:03:19 @monitor.py:294] validation_loss/params: 0.034685\n",
      "[1218 22:03:19 @monitor.py:294] validation_loss/widths: 0.015119\n",
      "[1218 22:03:19 @base.py:175] Start Epoch 53 ...\n"
     ]
    },
    {
     "name": "stderr",
     "output_type": "stream",
     "text": [
      "100%|#############################################|70/70[00:01<00:00,50.92it/s]\n"
     ]
    },
    {
     "name": "stdout",
     "output_type": "stream",
     "text": [
      "[1218 22:03:20 @base.py:183] Epoch 53 (global_step 3710) finished, time:1.38 sec.\n",
      "[1218 22:03:21 @saver.py:76] Model saved to ./train_log/linenetFwbVSI2\\model-3710.\n"
     ]
    },
    {
     "name": "stderr",
     "output_type": "stream",
     "text": [
      "100%|############################################|10/10[00:00<00:00,107.24it/s]\n"
     ]
    },
    {
     "name": "stdout",
     "output_type": "stream",
     "text": [
      "[1218 22:03:21 @monitor.py:294] input_queue_size: 50\n",
      "[1218 22:03:21 @monitor.py:294] learning_rate: 0.0004\n",
      "[1218 22:03:21 @monitor.py:294] loss/params: 0.035864\n",
      "[1218 22:03:21 @monitor.py:294] loss/total_cost: 0.15788\n",
      "[1218 22:03:21 @monitor.py:294] loss/widths: 0.011811\n",
      "[1218 22:03:21 @monitor.py:294] validation_loss/params: 0.034118\n",
      "[1218 22:03:21 @monitor.py:294] validation_loss/widths: 0.013089\n",
      "[1218 22:03:21 @base.py:175] Start Epoch 54 ...\n"
     ]
    },
    {
     "name": "stderr",
     "output_type": "stream",
     "text": [
      "100%|#############################################|70/70[00:01<00:00,49.69it/s]\n"
     ]
    },
    {
     "name": "stdout",
     "output_type": "stream",
     "text": [
      "[1218 22:03:22 @base.py:183] Epoch 54 (global_step 3780) finished, time:1.41 sec.\n",
      "[1218 22:03:23 @saver.py:76] Model saved to ./train_log/linenetFwbVSI2\\model-3780.\n"
     ]
    },
    {
     "name": "stderr",
     "output_type": "stream",
     "text": [
      "100%|#############################################|10/10[00:00<00:00,98.75it/s]\n"
     ]
    },
    {
     "name": "stdout",
     "output_type": "stream",
     "text": [
      "[1218 22:03:23 @monitor.py:294] input_queue_size: 50\n",
      "[1218 22:03:23 @monitor.py:294] learning_rate: 0.0004\n",
      "[1218 22:03:23 @monitor.py:294] loss/params: 0.035453\n",
      "[1218 22:03:23 @monitor.py:294] loss/total_cost: 0.15644\n",
      "[1218 22:03:23 @monitor.py:294] loss/widths: 0.01201\n",
      "[1218 22:03:23 @monitor.py:294] validation_loss/params: 0.034001\n",
      "[1218 22:03:23 @monitor.py:294] validation_loss/widths: 0.01288\n",
      "[1218 22:03:23 @base.py:175] Start Epoch 55 ...\n"
     ]
    },
    {
     "name": "stderr",
     "output_type": "stream",
     "text": [
      "100%|#############################################|70/70[00:01<00:00,51.68it/s]\n"
     ]
    },
    {
     "name": "stdout",
     "output_type": "stream",
     "text": [
      "[1218 22:03:24 @base.py:183] Epoch 55 (global_step 3850) finished, time:1.36 sec.\n",
      "[1218 22:03:25 @saver.py:76] Model saved to ./train_log/linenetFwbVSI2\\model-3850.\n"
     ]
    },
    {
     "name": "stderr",
     "output_type": "stream",
     "text": [
      "100%|############################################|10/10[00:00<00:00,102.82it/s]\n"
     ]
    },
    {
     "name": "stdout",
     "output_type": "stream",
     "text": [
      "[1218 22:03:25 @monitor.py:294] input_queue_size: 50\n",
      "[1218 22:03:25 @monitor.py:294] learning_rate: 0.0004\n",
      "[1218 22:03:25 @monitor.py:294] loss/params: 0.035166\n",
      "[1218 22:03:25 @monitor.py:294] loss/total_cost: 0.15513\n",
      "[1218 22:03:25 @monitor.py:294] loss/widths: 0.01185\n",
      "[1218 22:03:25 @monitor.py:294] validation_loss/params: 0.033362\n",
      "[1218 22:03:25 @monitor.py:294] validation_loss/widths: 0.011568\n",
      "[1218 22:03:25 @base.py:175] Start Epoch 56 ...\n"
     ]
    },
    {
     "name": "stderr",
     "output_type": "stream",
     "text": [
      "100%|#############################################|70/70[00:01<00:00,51.37it/s]\n"
     ]
    },
    {
     "name": "stdout",
     "output_type": "stream",
     "text": [
      "[1218 22:03:26 @base.py:183] Epoch 56 (global_step 3920) finished, time:1.37 sec.\n",
      "[1218 22:03:26 @saver.py:76] Model saved to ./train_log/linenetFwbVSI2\\model-3920.\n"
     ]
    },
    {
     "name": "stderr",
     "output_type": "stream",
     "text": [
      "100%|#############################################|10/10[00:00<00:00,75.56it/s]\n"
     ]
    },
    {
     "name": "stdout",
     "output_type": "stream",
     "text": [
      "[1218 22:03:27 @monitor.py:294] input_queue_size: 50\n",
      "[1218 22:03:27 @monitor.py:294] learning_rate: 0.0004\n",
      "[1218 22:03:27 @monitor.py:294] loss/params: 0.03504\n",
      "[1218 22:03:27 @monitor.py:294] loss/total_cost: 0.15453\n",
      "[1218 22:03:27 @monitor.py:294] loss/widths: 0.011761\n",
      "[1218 22:03:27 @monitor.py:294] validation_loss/params: 0.033785\n",
      "[1218 22:03:27 @monitor.py:294] validation_loss/widths: 0.012723\n",
      "[1218 22:03:27 @base.py:175] Start Epoch 57 ...\n"
     ]
    },
    {
     "name": "stderr",
     "output_type": "stream",
     "text": [
      "100%|#############################################|70/70[00:01<00:00,51.11it/s]\n"
     ]
    },
    {
     "name": "stdout",
     "output_type": "stream",
     "text": [
      "[1218 22:03:28 @base.py:183] Epoch 57 (global_step 3990) finished, time:1.37 sec.\n",
      "[1218 22:03:28 @saver.py:76] Model saved to ./train_log/linenetFwbVSI2\\model-3990.\n"
     ]
    },
    {
     "name": "stderr",
     "output_type": "stream",
     "text": [
      "100%|############################################|10/10[00:00<00:00,108.41it/s]\n"
     ]
    },
    {
     "name": "stdout",
     "output_type": "stream",
     "text": [
      "[1218 22:03:29 @monitor.py:294] input_queue_size: 50\n",
      "[1218 22:03:29 @monitor.py:294] learning_rate: 0.0004\n",
      "[1218 22:03:29 @monitor.py:294] loss/params: 0.034343\n",
      "[1218 22:03:29 @monitor.py:294] loss/total_cost: 0.15195\n",
      "[1218 22:03:29 @monitor.py:294] loss/widths: 0.011968\n",
      "[1218 22:03:29 @monitor.py:294] validation_loss/params: 0.033379\n",
      "[1218 22:03:29 @monitor.py:294] validation_loss/widths: 0.01204\n",
      "[1218 22:03:29 @base.py:175] Start Epoch 58 ...\n"
     ]
    },
    {
     "name": "stderr",
     "output_type": "stream",
     "text": [
      "100%|#############################################|70/70[00:01<00:00,51.00it/s]\n"
     ]
    },
    {
     "name": "stdout",
     "output_type": "stream",
     "text": [
      "[1218 22:03:30 @base.py:183] Epoch 58 (global_step 4060) finished, time:1.38 sec.\n",
      "[1218 22:03:30 @saver.py:76] Model saved to ./train_log/linenetFwbVSI2\\model-4060.\n"
     ]
    },
    {
     "name": "stderr",
     "output_type": "stream",
     "text": [
      "100%|#############################################|10/10[00:00<00:00,90.67it/s]\n"
     ]
    },
    {
     "name": "stdout",
     "output_type": "stream",
     "text": [
      "[1218 22:03:30 @monitor.py:294] input_queue_size: 50\n",
      "[1218 22:03:30 @monitor.py:294] learning_rate: 0.0004\n",
      "[1218 22:03:30 @monitor.py:294] loss/params: 0.033967\n",
      "[1218 22:03:30 @monitor.py:294] loss/total_cost: 0.15063\n",
      "[1218 22:03:30 @monitor.py:294] loss/widths: 0.012158\n",
      "[1218 22:03:30 @monitor.py:294] validation_loss/params: 0.032346\n",
      "[1218 22:03:30 @monitor.py:294] validation_loss/widths: 0.011002\n",
      "[1218 22:03:30 @base.py:175] Start Epoch 59 ...\n"
     ]
    },
    {
     "name": "stderr",
     "output_type": "stream",
     "text": [
      "100%|#############################################|70/70[00:01<00:00,48.96it/s]\n"
     ]
    },
    {
     "name": "stdout",
     "output_type": "stream",
     "text": [
      "[1218 22:03:32 @base.py:183] Epoch 59 (global_step 4130) finished, time:1.43 sec.\n",
      "[1218 22:03:32 @saver.py:76] Model saved to ./train_log/linenetFwbVSI2\\model-4130.\n"
     ]
    },
    {
     "name": "stderr",
     "output_type": "stream",
     "text": [
      "100%|############################################|10/10[00:00<00:00,106.10it/s]\n"
     ]
    },
    {
     "name": "stdout",
     "output_type": "stream",
     "text": [
      "[1218 22:03:32 @monitor.py:294] input_queue_size: 50\n",
      "[1218 22:03:32 @monitor.py:294] learning_rate: 0.0004\n",
      "[1218 22:03:32 @monitor.py:294] loss/params: 0.033894\n",
      "[1218 22:03:32 @monitor.py:294] loss/total_cost: 0.1495\n",
      "[1218 22:03:32 @monitor.py:294] loss/widths: 0.01132\n",
      "[1218 22:03:32 @monitor.py:294] validation_loss/params: 0.032484\n",
      "[1218 22:03:32 @monitor.py:294] validation_loss/widths: 0.011643\n",
      "[1218 22:03:32 @base.py:175] Start Epoch 60 ...\n"
     ]
    },
    {
     "name": "stderr",
     "output_type": "stream",
     "text": [
      "100%|#############################################|70/70[00:01<00:00,48.99it/s]\n"
     ]
    },
    {
     "name": "stdout",
     "output_type": "stream",
     "text": [
      "[1218 22:03:34 @base.py:183] Epoch 60 (global_step 4200) finished, time:1.43 sec.\n",
      "[1218 22:03:34 @saver.py:76] Model saved to ./train_log/linenetFwbVSI2\\model-4200.\n"
     ]
    },
    {
     "name": "stderr",
     "output_type": "stream",
     "text": [
      "100%|############################################|10/10[00:00<00:00,100.74it/s]\n"
     ]
    },
    {
     "name": "stdout",
     "output_type": "stream",
     "text": [
      "[1218 22:03:34 @monitor.py:294] input_queue_size: 50\n",
      "[1218 22:03:34 @monitor.py:294] learning_rate: 0.0004\n",
      "[1218 22:03:34 @monitor.py:294] loss/params: 0.033438\n",
      "[1218 22:03:34 @monitor.py:294] loss/total_cost: 0.14815\n",
      "[1218 22:03:34 @monitor.py:294] loss/widths: 0.011798\n",
      "[1218 22:03:34 @monitor.py:294] validation_loss/params: 0.032442\n",
      "[1218 22:03:34 @monitor.py:294] validation_loss/widths: 0.011283\n",
      "[1218 22:03:34 @base.py:175] Start Epoch 61 ...\n"
     ]
    },
    {
     "name": "stderr",
     "output_type": "stream",
     "text": [
      "100%|#############################################|70/70[00:01<00:00,50.37it/s]\n"
     ]
    },
    {
     "name": "stdout",
     "output_type": "stream",
     "text": [
      "[1218 22:03:36 @base.py:183] Epoch 61 (global_step 4270) finished, time:1.39 sec.\n",
      "[1218 22:03:36 @saver.py:76] Model saved to ./train_log/linenetFwbVSI2\\model-4270.\n"
     ]
    },
    {
     "name": "stderr",
     "output_type": "stream",
     "text": [
      "100%|############################################|10/10[00:00<00:00,101.74it/s]\n"
     ]
    },
    {
     "name": "stdout",
     "output_type": "stream",
     "text": [
      "[1218 22:03:36 @monitor.py:294] input_queue_size: 50\n",
      "[1218 22:03:36 @monitor.py:294] learning_rate: 0.0004\n",
      "[1218 22:03:36 @monitor.py:294] loss/params: 0.033017\n",
      "[1218 22:03:36 @monitor.py:294] loss/total_cost: 0.14618\n",
      "[1218 22:03:36 @monitor.py:294] loss/widths: 0.011515\n",
      "[1218 22:03:36 @monitor.py:294] validation_loss/params: 0.032189\n",
      "[1218 22:03:36 @monitor.py:294] validation_loss/widths: 0.011191\n",
      "[1218 22:03:36 @base.py:175] Start Epoch 62 ...\n"
     ]
    },
    {
     "name": "stderr",
     "output_type": "stream",
     "text": [
      "100%|#############################################|70/70[00:01<00:00,51.68it/s]\n"
     ]
    },
    {
     "name": "stdout",
     "output_type": "stream",
     "text": [
      "[1218 22:03:38 @base.py:183] Epoch 62 (global_step 4340) finished, time:1.36 sec.\n",
      "[1218 22:03:38 @saver.py:76] Model saved to ./train_log/linenetFwbVSI2\\model-4340.\n"
     ]
    },
    {
     "name": "stderr",
     "output_type": "stream",
     "text": [
      "100%|############################################|10/10[00:00<00:00,109.60it/s]\n"
     ]
    },
    {
     "name": "stdout",
     "output_type": "stream",
     "text": [
      "[1218 22:03:38 @monitor.py:294] input_queue_size: 50\n",
      "[1218 22:03:38 @monitor.py:294] learning_rate: 0.0004\n",
      "[1218 22:03:38 @monitor.py:294] loss/params: 0.032691\n",
      "[1218 22:03:38 @monitor.py:294] loss/total_cost: 0.14426\n",
      "[1218 22:03:38 @monitor.py:294] loss/widths: 0.010902\n",
      "[1218 22:03:38 @monitor.py:294] validation_loss/params: 0.031504\n",
      "[1218 22:03:38 @monitor.py:294] validation_loss/widths: 0.011304\n",
      "[1218 22:03:38 @base.py:175] Start Epoch 63 ...\n"
     ]
    },
    {
     "name": "stderr",
     "output_type": "stream",
     "text": [
      "100%|#############################################|70/70[00:01<00:00,51.22it/s]\n"
     ]
    },
    {
     "name": "stdout",
     "output_type": "stream",
     "text": [
      "[1218 22:03:40 @base.py:183] Epoch 63 (global_step 4410) finished, time:1.40 sec.\n",
      "[1218 22:03:40 @saver.py:76] Model saved to ./train_log/linenetFwbVSI2\\model-4410.\n"
     ]
    },
    {
     "name": "stderr",
     "output_type": "stream",
     "text": [
      "100%|############################################|10/10[00:00<00:00,101.77it/s]\n"
     ]
    },
    {
     "name": "stdout",
     "output_type": "stream",
     "text": [
      "[1218 22:03:40 @monitor.py:294] input_queue_size: 50\n",
      "[1218 22:03:40 @monitor.py:294] learning_rate: 0.0004\n",
      "[1218 22:03:40 @monitor.py:294] loss/params: 0.03253\n",
      "[1218 22:03:40 @monitor.py:294] loss/total_cost: 0.14371\n",
      "[1218 22:03:40 @monitor.py:294] loss/widths: 0.010998\n",
      "[1218 22:03:40 @monitor.py:294] validation_loss/params: 0.032487\n",
      "[1218 22:03:40 @monitor.py:294] validation_loss/widths: 0.012178\n",
      "[1218 22:03:40 @base.py:175] Start Epoch 64 ...\n"
     ]
    },
    {
     "name": "stderr",
     "output_type": "stream",
     "text": [
      "100%|#############################################|70/70[00:01<00:00,52.45it/s]\n"
     ]
    },
    {
     "name": "stdout",
     "output_type": "stream",
     "text": [
      "[1218 22:03:41 @base.py:183] Epoch 64 (global_step 4480) finished, time:1.34 sec.\n",
      "[1218 22:03:42 @saver.py:76] Model saved to ./train_log/linenetFwbVSI2\\model-4480.\n"
     ]
    },
    {
     "name": "stderr",
     "output_type": "stream",
     "text": [
      "100%|############################################|10/10[00:00<00:00,107.24it/s]\n"
     ]
    },
    {
     "name": "stdout",
     "output_type": "stream",
     "text": [
      "[1218 22:03:42 @monitor.py:294] input_queue_size: 50\n",
      "[1218 22:03:42 @monitor.py:294] learning_rate: 0.0004\n",
      "[1218 22:03:42 @monitor.py:294] loss/params: 0.032307\n",
      "[1218 22:03:42 @monitor.py:294] loss/total_cost: 0.14335\n",
      "[1218 22:03:42 @monitor.py:294] loss/widths: 0.01153\n",
      "[1218 22:03:42 @monitor.py:294] validation_loss/params: 0.031434\n",
      "[1218 22:03:42 @monitor.py:294] validation_loss/widths: 0.012278\n",
      "[1218 22:03:42 @base.py:175] Start Epoch 65 ...\n"
     ]
    },
    {
     "name": "stderr",
     "output_type": "stream",
     "text": [
      "100%|#############################################|70/70[00:01<00:00,52.57it/s]\n"
     ]
    },
    {
     "name": "stdout",
     "output_type": "stream",
     "text": [
      "[1218 22:03:43 @base.py:183] Epoch 65 (global_step 4550) finished, time:1.34 sec.\n",
      "[1218 22:03:44 @saver.py:76] Model saved to ./train_log/linenetFwbVSI2\\model-4550.\n"
     ]
    },
    {
     "name": "stderr",
     "output_type": "stream",
     "text": [
      "100%|############################################|10/10[00:00<00:00,107.27it/s]\n"
     ]
    },
    {
     "name": "stdout",
     "output_type": "stream",
     "text": [
      "[1218 22:03:44 @monitor.py:294] input_queue_size: 50\n",
      "[1218 22:03:44 @monitor.py:294] learning_rate: 0.0004\n",
      "[1218 22:03:44 @monitor.py:294] loss/params: 0.031928\n",
      "[1218 22:03:44 @monitor.py:294] loss/total_cost: 0.14103\n",
      "[1218 22:03:44 @monitor.py:294] loss/widths: 0.010724\n",
      "[1218 22:03:44 @monitor.py:294] validation_loss/params: 0.030842\n",
      "[1218 22:03:44 @monitor.py:294] validation_loss/widths: 0.014423\n",
      "[1218 22:03:44 @base.py:175] Start Epoch 66 ...\n"
     ]
    },
    {
     "name": "stderr",
     "output_type": "stream",
     "text": [
      "100%|#############################################|70/70[00:01<00:00,50.85it/s]\n"
     ]
    },
    {
     "name": "stdout",
     "output_type": "stream",
     "text": [
      "[1218 22:03:45 @base.py:183] Epoch 66 (global_step 4620) finished, time:1.38 sec.\n",
      "[1218 22:03:46 @saver.py:76] Model saved to ./train_log/linenetFwbVSI2\\model-4620.\n"
     ]
    },
    {
     "name": "stderr",
     "output_type": "stream",
     "text": [
      "100%|#############################################|10/10[00:00<00:00,14.60it/s]\n"
     ]
    },
    {
     "name": "stdout",
     "output_type": "stream",
     "text": [
      "[1218 22:03:46 @monitor.py:294] input_queue_size: 50\n",
      "[1218 22:03:46 @monitor.py:294] learning_rate: 0.0004\n",
      "[1218 22:03:46 @monitor.py:294] loss/params: 0.031581\n",
      "[1218 22:03:46 @monitor.py:294] loss/total_cost: 0.13955\n",
      "[1218 22:03:46 @monitor.py:294] loss/widths: 0.010639\n",
      "[1218 22:03:46 @monitor.py:294] validation_loss/params: 0.03055\n",
      "[1218 22:03:46 @monitor.py:294] validation_loss/widths: 0.010183\n",
      "[1218 22:03:46 @base.py:175] Start Epoch 67 ...\n"
     ]
    },
    {
     "name": "stderr",
     "output_type": "stream",
     "text": [
      "100%|#############################################|70/70[00:01<00:00,42.39it/s]\n"
     ]
    },
    {
     "name": "stdout",
     "output_type": "stream",
     "text": [
      "[1218 22:03:48 @base.py:183] Epoch 67 (global_step 4690) finished, time:1.66 sec.\n",
      "[1218 22:03:48 @saver.py:76] Model saved to ./train_log/linenetFwbVSI2\\model-4690.\n"
     ]
    },
    {
     "name": "stderr",
     "output_type": "stream",
     "text": [
      "100%|#############################################|10/10[00:00<00:00,99.74it/s]\n"
     ]
    },
    {
     "name": "stdout",
     "output_type": "stream",
     "text": [
      "[1218 22:03:48 @monitor.py:294] input_queue_size: 50\n",
      "[1218 22:03:48 @monitor.py:294] learning_rate: 0.0004\n",
      "[1218 22:03:48 @monitor.py:294] loss/params: 0.031338\n",
      "[1218 22:03:48 @monitor.py:294] loss/total_cost: 0.13851\n",
      "[1218 22:03:48 @monitor.py:294] loss/widths: 0.010566\n",
      "[1218 22:03:48 @monitor.py:294] validation_loss/params: 0.030525\n",
      "[1218 22:03:48 @monitor.py:294] validation_loss/widths: 0.010423\n",
      "[1218 22:03:49 @base.py:175] Start Epoch 68 ...\n"
     ]
    },
    {
     "name": "stderr",
     "output_type": "stream",
     "text": [
      "100%|#############################################|70/70[00:01<00:00,50.85it/s]\n"
     ]
    },
    {
     "name": "stdout",
     "output_type": "stream",
     "text": [
      "[1218 22:03:50 @base.py:183] Epoch 68 (global_step 4760) finished, time:1.38 sec.\n",
      "[1218 22:03:50 @saver.py:76] Model saved to ./train_log/linenetFwbVSI2\\model-4760.\n"
     ]
    },
    {
     "name": "stderr",
     "output_type": "stream",
     "text": [
      "100%|############################################|10/10[00:00<00:00,101.77it/s]\n"
     ]
    },
    {
     "name": "stdout",
     "output_type": "stream",
     "text": [
      "[1218 22:03:50 @monitor.py:294] input_queue_size: 50\n",
      "[1218 22:03:50 @monitor.py:294] learning_rate: 0.0004\n",
      "[1218 22:03:50 @monitor.py:294] loss/params: 0.031085\n",
      "[1218 22:03:50 @monitor.py:294] loss/total_cost: 0.13739\n",
      "[1218 22:03:50 @monitor.py:294] loss/widths: 0.010461\n",
      "[1218 22:03:50 @monitor.py:294] validation_loss/params: 0.0304\n",
      "[1218 22:03:50 @monitor.py:294] validation_loss/widths: 0.011558\n",
      "[1218 22:03:50 @base.py:175] Start Epoch 69 ...\n"
     ]
    },
    {
     "name": "stderr",
     "output_type": "stream",
     "text": [
      "100%|#############################################|70/70[00:01<00:00,52.06it/s]\n"
     ]
    },
    {
     "name": "stdout",
     "output_type": "stream",
     "text": [
      "[1218 22:03:52 @base.py:183] Epoch 69 (global_step 4830) finished, time:1.35 sec.\n",
      "[1218 22:03:52 @saver.py:76] Model saved to ./train_log/linenetFwbVSI2\\model-4830.\n"
     ]
    },
    {
     "name": "stderr",
     "output_type": "stream",
     "text": [
      "100%|#############################################|10/10[00:00<00:00,94.07it/s]\n"
     ]
    },
    {
     "name": "stdout",
     "output_type": "stream",
     "text": [
      "[1218 22:03:52 @monitor.py:294] input_queue_size: 50\n",
      "[1218 22:03:52 @monitor.py:294] learning_rate: 0.0004\n",
      "[1218 22:03:52 @monitor.py:294] loss/params: 0.030579\n",
      "[1218 22:03:52 @monitor.py:294] loss/total_cost: 0.13511\n",
      "[1218 22:03:52 @monitor.py:294] loss/widths: 0.010207\n",
      "[1218 22:03:52 @monitor.py:294] validation_loss/params: 0.030061\n",
      "[1218 22:03:52 @monitor.py:294] validation_loss/widths: 0.010827\n",
      "[1218 22:03:52 @base.py:175] Start Epoch 70 ...\n"
     ]
    },
    {
     "name": "stderr",
     "output_type": "stream",
     "text": [
      "100%|#############################################|70/70[00:01<00:00,51.49it/s]\n"
     ]
    },
    {
     "name": "stdout",
     "output_type": "stream",
     "text": [
      "[1218 22:03:54 @base.py:183] Epoch 70 (global_step 4900) finished, time:1.36 sec.\n",
      "[1218 22:03:54 @saver.py:76] Model saved to ./train_log/linenetFwbVSI2\\model-4900.\n"
     ]
    },
    {
     "name": "stderr",
     "output_type": "stream",
     "text": [
      "100%|############################################|10/10[00:00<00:00,106.12it/s]\n"
     ]
    },
    {
     "name": "stdout",
     "output_type": "stream",
     "text": [
      "[1218 22:03:54 @monitor.py:294] input_queue_size: 50\n",
      "[1218 22:03:54 @monitor.py:294] learning_rate: 0.0004\n",
      "[1218 22:03:54 @monitor.py:294] loss/params: 0.030524\n",
      "[1218 22:03:54 @monitor.py:294] loss/total_cost: 0.13518\n",
      "[1218 22:03:54 @monitor.py:294] loss/widths: 0.010503\n",
      "[1218 22:03:54 @monitor.py:294] validation_loss/params: 0.029586\n",
      "[1218 22:03:54 @monitor.py:294] validation_loss/widths: 0.011284\n",
      "[1218 22:03:54 @base.py:175] Start Epoch 71 ...\n"
     ]
    },
    {
     "name": "stderr",
     "output_type": "stream",
     "text": [
      "100%|#############################################|70/70[00:01<00:00,51.49it/s]\n"
     ]
    },
    {
     "name": "stdout",
     "output_type": "stream",
     "text": [
      "[1218 22:03:56 @base.py:183] Epoch 71 (global_step 4970) finished, time:1.36 sec.\n",
      "[1218 22:03:56 @saver.py:76] Model saved to ./train_log/linenetFwbVSI2\\model-4970.\n"
     ]
    },
    {
     "name": "stderr",
     "output_type": "stream",
     "text": [
      "100%|############################################|10/10[00:00<00:00,106.13it/s]\n"
     ]
    },
    {
     "name": "stdout",
     "output_type": "stream",
     "text": [
      "[1218 22:03:56 @monitor.py:294] input_queue_size: 50\n",
      "[1218 22:03:56 @monitor.py:294] learning_rate: 0.0004\n",
      "[1218 22:03:56 @monitor.py:294] loss/params: 0.030222\n",
      "[1218 22:03:56 @monitor.py:294] loss/total_cost: 0.13386\n",
      "[1218 22:03:56 @monitor.py:294] loss/widths: 0.010394\n",
      "[1218 22:03:56 @monitor.py:294] validation_loss/params: 0.029547\n",
      "[1218 22:03:56 @monitor.py:294] validation_loss/widths: 0.0099457\n",
      "[1218 22:03:56 @base.py:175] Start Epoch 72 ...\n"
     ]
    },
    {
     "name": "stderr",
     "output_type": "stream",
     "text": [
      "100%|#############################################|70/70[00:01<00:00,51.33it/s]\n"
     ]
    },
    {
     "name": "stdout",
     "output_type": "stream",
     "text": [
      "[1218 22:03:57 @base.py:183] Epoch 72 (global_step 5040) finished, time:1.37 sec.\n",
      "[1218 22:03:58 @saver.py:76] Model saved to ./train_log/linenetFwbVSI2\\model-5040.\n"
     ]
    },
    {
     "name": "stderr",
     "output_type": "stream",
     "text": [
      "100%|############################################|10/10[00:00<00:00,104.98it/s]\n"
     ]
    },
    {
     "name": "stdout",
     "output_type": "stream",
     "text": [
      "[1218 22:03:58 @monitor.py:294] input_queue_size: 50\n",
      "[1218 22:03:58 @monitor.py:294] learning_rate: 0.0004\n",
      "[1218 22:03:58 @monitor.py:294] loss/params: 0.029824\n",
      "[1218 22:03:58 @monitor.py:294] loss/total_cost: 0.13167\n",
      "[1218 22:03:58 @monitor.py:294] loss/widths: 0.0097999\n",
      "[1218 22:03:58 @monitor.py:294] validation_loss/params: 0.029447\n",
      "[1218 22:03:58 @monitor.py:294] validation_loss/widths: 0.012435\n",
      "[1218 22:03:58 @base.py:175] Start Epoch 73 ...\n"
     ]
    },
    {
     "name": "stderr",
     "output_type": "stream",
     "text": [
      "100%|#############################################|70/70[00:01<00:00,51.71it/s]\n"
     ]
    },
    {
     "name": "stdout",
     "output_type": "stream",
     "text": [
      "[1218 22:03:59 @base.py:183] Epoch 73 (global_step 5110) finished, time:1.36 sec.\n",
      "[1218 22:04:00 @saver.py:76] Model saved to ./train_log/linenetFwbVSI2\\model-5110.\n"
     ]
    },
    {
     "name": "stderr",
     "output_type": "stream",
     "text": [
      "100%|############################################|10/10[00:00<00:00,109.57it/s]\n"
     ]
    },
    {
     "name": "stdout",
     "output_type": "stream",
     "text": [
      "[1218 22:04:00 @monitor.py:294] input_queue_size: 50\n",
      "[1218 22:04:00 @monitor.py:294] learning_rate: 0.0004\n",
      "[1218 22:04:00 @monitor.py:294] loss/params: 0.029522\n",
      "[1218 22:04:00 @monitor.py:294] loss/total_cost: 0.13054\n",
      "[1218 22:04:00 @monitor.py:294] loss/widths: 0.0098767\n",
      "[1218 22:04:00 @monitor.py:294] validation_loss/params: 0.02931\n",
      "[1218 22:04:00 @monitor.py:294] validation_loss/widths: 0.01107\n",
      "[1218 22:04:00 @base.py:175] Start Epoch 74 ...\n"
     ]
    },
    {
     "name": "stderr",
     "output_type": "stream",
     "text": [
      "100%|#############################################|70/70[00:01<00:00,50.85it/s]\n"
     ]
    },
    {
     "name": "stdout",
     "output_type": "stream",
     "text": [
      "[1218 22:04:01 @base.py:183] Epoch 74 (global_step 5180) finished, time:1.38 sec.\n",
      "[1218 22:04:02 @saver.py:76] Model saved to ./train_log/linenetFwbVSI2\\model-5180.\n"
     ]
    },
    {
     "name": "stderr",
     "output_type": "stream",
     "text": [
      "100%|############################################|10/10[00:00<00:00,101.80it/s]\n"
     ]
    },
    {
     "name": "stdout",
     "output_type": "stream",
     "text": [
      "[1218 22:04:02 @monitor.py:294] input_queue_size: 50\n",
      "[1218 22:04:02 @monitor.py:294] learning_rate: 0.0004\n",
      "[1218 22:04:02 @monitor.py:294] loss/params: 0.029645\n",
      "[1218 22:04:02 @monitor.py:294] loss/total_cost: 0.13091\n",
      "[1218 22:04:02 @monitor.py:294] loss/widths: 0.0097534\n",
      "[1218 22:04:02 @monitor.py:294] validation_loss/params: 0.029297\n",
      "[1218 22:04:02 @monitor.py:294] validation_loss/widths: 0.0097804\n",
      "[1218 22:04:02 @base.py:175] Start Epoch 75 ...\n"
     ]
    },
    {
     "name": "stderr",
     "output_type": "stream",
     "text": [
      "100%|#############################################|70/70[00:01<00:00,52.26it/s]\n"
     ]
    },
    {
     "name": "stdout",
     "output_type": "stream",
     "text": [
      "[1218 22:04:03 @base.py:183] Epoch 75 (global_step 5250) finished, time:1.34 sec.\n",
      "[1218 22:04:04 @saver.py:76] Model saved to ./train_log/linenetFwbVSI2\\model-5250.\n"
     ]
    },
    {
     "name": "stderr",
     "output_type": "stream",
     "text": [
      "100%|############################################|10/10[00:00<00:00,114.64it/s]\n"
     ]
    },
    {
     "name": "stdout",
     "output_type": "stream",
     "text": [
      "[1218 22:04:04 @monitor.py:294] input_queue_size: 50\n",
      "[1218 22:04:04 @monitor.py:294] learning_rate: 0.0004\n",
      "[1218 22:04:04 @monitor.py:294] loss/params: 0.029103\n",
      "[1218 22:04:04 @monitor.py:294] loss/total_cost: 0.12864\n",
      "[1218 22:04:04 @monitor.py:294] loss/widths: 0.0096521\n",
      "[1218 22:04:04 @monitor.py:294] validation_loss/params: 0.028766\n",
      "[1218 22:04:04 @monitor.py:294] validation_loss/widths: 0.0093261\n",
      "[1218 22:04:04 @base.py:175] Start Epoch 76 ...\n"
     ]
    },
    {
     "name": "stderr",
     "output_type": "stream",
     "text": [
      "100%|#############################################|70/70[00:01<00:00,52.89it/s]\n"
     ]
    },
    {
     "name": "stdout",
     "output_type": "stream",
     "text": [
      "[1218 22:04:05 @base.py:183] Epoch 76 (global_step 5320) finished, time:1.33 sec.\n",
      "[1218 22:04:05 @saver.py:76] Model saved to ./train_log/linenetFwbVSI2\\model-5320.\n"
     ]
    },
    {
     "name": "stderr",
     "output_type": "stream",
     "text": [
      "100%|############################################|10/10[00:00<00:00,108.41it/s]\n"
     ]
    },
    {
     "name": "stdout",
     "output_type": "stream",
     "text": [
      "[1218 22:04:06 @monitor.py:294] input_queue_size: 50\n",
      "[1218 22:04:06 @monitor.py:294] learning_rate: 0.0004\n",
      "[1218 22:04:06 @monitor.py:294] loss/params: 0.028859\n",
      "[1218 22:04:06 @monitor.py:294] loss/total_cost: 0.12782\n",
      "[1218 22:04:06 @monitor.py:294] loss/widths: 0.0098091\n",
      "[1218 22:04:06 @monitor.py:294] validation_loss/params: 0.028727\n",
      "[1218 22:04:06 @monitor.py:294] validation_loss/widths: 0.010342\n",
      "[1218 22:04:06 @base.py:175] Start Epoch 77 ...\n"
     ]
    },
    {
     "name": "stderr",
     "output_type": "stream",
     "text": [
      "100%|#############################################|70/70[00:01<00:00,53.05it/s]\n"
     ]
    },
    {
     "name": "stdout",
     "output_type": "stream",
     "text": [
      "[1218 22:04:07 @base.py:183] Epoch 77 (global_step 5390) finished, time:1.32 sec.\n",
      "[1218 22:04:07 @saver.py:76] Model saved to ./train_log/linenetFwbVSI2\\model-5390.\n"
     ]
    },
    {
     "name": "stderr",
     "output_type": "stream",
     "text": [
      "100%|############################################|10/10[00:00<00:00,100.74it/s]\n"
     ]
    },
    {
     "name": "stdout",
     "output_type": "stream",
     "text": [
      "[1218 22:04:07 @monitor.py:294] input_queue_size: 50\n",
      "[1218 22:04:07 @monitor.py:294] learning_rate: 0.0004\n",
      "[1218 22:04:07 @monitor.py:294] loss/params: 0.028624\n",
      "[1218 22:04:07 @monitor.py:294] loss/total_cost: 0.12662\n",
      "[1218 22:04:07 @monitor.py:294] loss/widths: 0.0095559\n",
      "[1218 22:04:07 @monitor.py:294] validation_loss/params: 0.028725\n",
      "[1218 22:04:07 @monitor.py:294] validation_loss/widths: 0.011507\n",
      "[1218 22:04:07 @base.py:175] Start Epoch 78 ...\n"
     ]
    },
    {
     "name": "stderr",
     "output_type": "stream",
     "text": [
      "100%|#############################################|70/70[00:01<00:00,52.37it/s]\n"
     ]
    },
    {
     "name": "stdout",
     "output_type": "stream",
     "text": [
      "[1218 22:04:09 @base.py:183] Epoch 78 (global_step 5460) finished, time:1.34 sec.\n",
      "[1218 22:04:09 @saver.py:76] Model saved to ./train_log/linenetFwbVSI2\\model-5460.\n"
     ]
    },
    {
     "name": "stderr",
     "output_type": "stream",
     "text": [
      "100%|############################################|10/10[00:00<00:00,101.77it/s]\n"
     ]
    },
    {
     "name": "stdout",
     "output_type": "stream",
     "text": [
      "[1218 22:04:09 @monitor.py:294] input_queue_size: 50\n",
      "[1218 22:04:09 @monitor.py:294] learning_rate: 0.0004\n",
      "[1218 22:04:09 @monitor.py:294] loss/params: 0.028654\n",
      "[1218 22:04:09 @monitor.py:294] loss/total_cost: 0.12706\n",
      "[1218 22:04:09 @monitor.py:294] loss/widths: 0.0098781\n",
      "[1218 22:04:09 @monitor.py:294] validation_loss/params: 0.028545\n",
      "[1218 22:04:09 @monitor.py:294] validation_loss/widths: 0.011826\n",
      "[1218 22:04:09 @base.py:175] Start Epoch 79 ...\n"
     ]
    },
    {
     "name": "stderr",
     "output_type": "stream",
     "text": [
      "100%|#############################################|70/70[00:01<00:00,53.09it/s]\n"
     ]
    },
    {
     "name": "stdout",
     "output_type": "stream",
     "text": [
      "[1218 22:04:11 @base.py:183] Epoch 79 (global_step 5530) finished, time:1.32 sec.\n",
      "[1218 22:04:11 @saver.py:76] Model saved to ./train_log/linenetFwbVSI2\\model-5530.\n"
     ]
    },
    {
     "name": "stderr",
     "output_type": "stream",
     "text": [
      "100%|#############################################|10/10[00:00<00:00,96.84it/s]\n"
     ]
    },
    {
     "name": "stdout",
     "output_type": "stream",
     "text": [
      "[1218 22:04:11 @monitor.py:294] input_queue_size: 50\n",
      "[1218 22:04:11 @monitor.py:294] learning_rate: 0.0004\n",
      "[1218 22:04:11 @monitor.py:294] loss/params: 0.028156\n",
      "[1218 22:04:11 @monitor.py:294] loss/total_cost: 0.12459\n",
      "[1218 22:04:11 @monitor.py:294] loss/widths: 0.0094004\n",
      "[1218 22:04:11 @monitor.py:294] validation_loss/params: 0.028219\n",
      "[1218 22:04:11 @monitor.py:294] validation_loss/widths: 0.010519\n",
      "[1218 22:04:11 @base.py:175] Start Epoch 80 ...\n"
     ]
    },
    {
     "name": "stderr",
     "output_type": "stream",
     "text": [
      "100%|#############################################|70/70[00:01<00:00,52.65it/s]\n"
     ]
    },
    {
     "name": "stdout",
     "output_type": "stream",
     "text": [
      "[1218 22:04:13 @base.py:183] Epoch 80 (global_step 5600) finished, time:1.33 sec.\n",
      "[1218 22:04:13 @saver.py:76] Model saved to ./train_log/linenetFwbVSI2\\model-5600.\n"
     ]
    },
    {
     "name": "stderr",
     "output_type": "stream",
     "text": [
      "100%|#############################################|10/10[00:00<00:00,62.33it/s]\n"
     ]
    },
    {
     "name": "stdout",
     "output_type": "stream",
     "text": [
      "[1218 22:04:13 @monitor.py:294] input_queue_size: 50\n",
      "[1218 22:04:13 @monitor.py:294] learning_rate: 0.0004\n",
      "[1218 22:04:13 @monitor.py:294] loss/params: 0.027932\n",
      "[1218 22:04:13 @monitor.py:294] loss/total_cost: 0.1238\n",
      "[1218 22:04:13 @monitor.py:294] loss/widths: 0.0095064\n",
      "[1218 22:04:13 @monitor.py:294] validation_loss/params: 0.028577\n",
      "[1218 22:04:13 @monitor.py:294] validation_loss/widths: 0.011153\n",
      "[1218 22:04:13 @base.py:175] Start Epoch 81 ...\n"
     ]
    },
    {
     "name": "stderr",
     "output_type": "stream",
     "text": [
      "100%|#############################################|70/70[00:01<00:00,52.69it/s]\n"
     ]
    },
    {
     "name": "stdout",
     "output_type": "stream",
     "text": [
      "[1218 22:04:15 @base.py:183] Epoch 81 (global_step 5670) finished, time:1.33 sec.\n",
      "[1218 22:04:15 @saver.py:76] Model saved to ./train_log/linenetFwbVSI2\\model-5670.\n"
     ]
    },
    {
     "name": "stderr",
     "output_type": "stream",
     "text": [
      "100%|#############################################|10/10[00:00<00:00,89.08it/s]\n"
     ]
    },
    {
     "name": "stdout",
     "output_type": "stream",
     "text": [
      "[1218 22:04:15 @monitor.py:294] input_queue_size: 50\n",
      "[1218 22:04:15 @monitor.py:294] learning_rate: 0.0004\n",
      "[1218 22:04:15 @monitor.py:294] loss/params: 0.027722\n",
      "[1218 22:04:15 @monitor.py:294] loss/total_cost: 0.12273\n",
      "[1218 22:04:15 @monitor.py:294] loss/widths: 0.0092803\n",
      "[1218 22:04:15 @monitor.py:294] validation_loss/params: 0.027748\n",
      "[1218 22:04:15 @monitor.py:294] validation_loss/widths: 0.0089857\n",
      "[1218 22:04:15 @base.py:175] Start Epoch 82 ...\n"
     ]
    },
    {
     "name": "stderr",
     "output_type": "stream",
     "text": [
      "100%|#############################################|70/70[00:01<00:00,52.33it/s]\n"
     ]
    },
    {
     "name": "stdout",
     "output_type": "stream",
     "text": [
      "[1218 22:04:17 @base.py:183] Epoch 82 (global_step 5740) finished, time:1.34 sec.\n",
      "[1218 22:04:17 @saver.py:76] Model saved to ./train_log/linenetFwbVSI2\\model-5740.\n"
     ]
    },
    {
     "name": "stderr",
     "output_type": "stream",
     "text": [
      "100%|############################################|10/10[00:00<00:00,114.64it/s]\n"
     ]
    },
    {
     "name": "stdout",
     "output_type": "stream",
     "text": [
      "[1218 22:04:17 @monitor.py:294] input_queue_size: 50\n",
      "[1218 22:04:17 @monitor.py:294] learning_rate: 0.0004\n",
      "[1218 22:04:17 @monitor.py:294] loss/params: 0.027489\n",
      "[1218 22:04:17 @monitor.py:294] loss/total_cost: 0.12173\n",
      "[1218 22:04:17 @monitor.py:294] loss/widths: 0.0092148\n",
      "[1218 22:04:17 @monitor.py:294] validation_loss/params: 0.02742\n",
      "[1218 22:04:17 @monitor.py:294] validation_loss/widths: 0.0093977\n",
      "[1218 22:04:17 @base.py:175] Start Epoch 83 ...\n"
     ]
    },
    {
     "name": "stderr",
     "output_type": "stream",
     "text": [
      "100%|#############################################|70/70[00:01<00:00,52.73it/s]\n"
     ]
    },
    {
     "name": "stdout",
     "output_type": "stream",
     "text": [
      "[1218 22:04:18 @base.py:183] Epoch 83 (global_step 5810) finished, time:1.33 sec.\n",
      "[1218 22:04:19 @saver.py:76] Model saved to ./train_log/linenetFwbVSI2\\model-5810.\n"
     ]
    },
    {
     "name": "stderr",
     "output_type": "stream",
     "text": [
      "100%|############################################|10/10[00:00<00:00,109.57it/s]\n"
     ]
    },
    {
     "name": "stdout",
     "output_type": "stream",
     "text": [
      "[1218 22:04:19 @monitor.py:294] input_queue_size: 50\n",
      "[1218 22:04:19 @monitor.py:294] learning_rate: 0.0004\n",
      "[1218 22:04:19 @monitor.py:294] loss/params: 0.027212\n",
      "[1218 22:04:19 @monitor.py:294] loss/total_cost: 0.12063\n",
      "[1218 22:04:19 @monitor.py:294] loss/widths: 0.0092218\n",
      "[1218 22:04:19 @monitor.py:294] validation_loss/params: 0.027804\n",
      "[1218 22:04:19 @monitor.py:294] validation_loss/widths: 0.01325\n",
      "[1218 22:04:19 @base.py:175] Start Epoch 84 ...\n"
     ]
    },
    {
     "name": "stderr",
     "output_type": "stream",
     "text": [
      "100%|#############################################|70/70[00:01<00:00,51.18it/s]\n"
     ]
    },
    {
     "name": "stdout",
     "output_type": "stream",
     "text": [
      "[1218 22:04:20 @base.py:183] Epoch 84 (global_step 5880) finished, time:1.37 sec.\n",
      "[1218 22:04:21 @saver.py:76] Model saved to ./train_log/linenetFwbVSI2\\model-5880.\n"
     ]
    },
    {
     "name": "stderr",
     "output_type": "stream",
     "text": [
      "100%|############################################|10/10[00:00<00:00,113.30it/s]\n"
     ]
    },
    {
     "name": "stdout",
     "output_type": "stream",
     "text": [
      "[1218 22:04:21 @monitor.py:294] input_queue_size: 50\n",
      "[1218 22:04:21 @monitor.py:294] learning_rate: 0.0004\n",
      "[1218 22:04:21 @monitor.py:294] loss/params: 0.026967\n",
      "[1218 22:04:21 @monitor.py:294] loss/total_cost: 0.1195\n",
      "[1218 22:04:21 @monitor.py:294] loss/widths: 0.009078\n",
      "[1218 22:04:21 @monitor.py:294] validation_loss/params: 0.027341\n",
      "[1218 22:04:21 @monitor.py:294] validation_loss/widths: 0.0088424\n",
      "[1218 22:04:21 @base.py:175] Start Epoch 85 ...\n"
     ]
    },
    {
     "name": "stderr",
     "output_type": "stream",
     "text": [
      "100%|#############################################|70/70[00:01<00:00,51.49it/s]\n"
     ]
    },
    {
     "name": "stdout",
     "output_type": "stream",
     "text": [
      "[1218 22:04:22 @base.py:183] Epoch 85 (global_step 5950) finished, time:1.36 sec.\n",
      "[1218 22:04:23 @saver.py:76] Model saved to ./train_log/linenetFwbVSI2\\model-5950.\n"
     ]
    },
    {
     "name": "stderr",
     "output_type": "stream",
     "text": [
      "100%|############################################|10/10[00:00<00:00,101.77it/s]\n"
     ]
    },
    {
     "name": "stdout",
     "output_type": "stream",
     "text": [
      "[1218 22:04:23 @monitor.py:294] input_queue_size: 50\n",
      "[1218 22:04:23 @monitor.py:294] learning_rate: 0.0004\n",
      "[1218 22:04:23 @monitor.py:294] loss/params: 0.026815\n",
      "[1218 22:04:23 @monitor.py:294] loss/total_cost: 0.11919\n",
      "[1218 22:04:23 @monitor.py:294] loss/widths: 0.0093753\n",
      "[1218 22:04:23 @monitor.py:294] validation_loss/params: 0.027704\n",
      "[1218 22:04:23 @monitor.py:294] validation_loss/widths: 0.01428\n",
      "[1218 22:04:23 @base.py:175] Start Epoch 86 ...\n"
     ]
    },
    {
     "name": "stderr",
     "output_type": "stream",
     "text": [
      "100%|#############################################|70/70[00:01<00:00,51.68it/s]\n"
     ]
    },
    {
     "name": "stdout",
     "output_type": "stream",
     "text": [
      "[1218 22:04:24 @base.py:183] Epoch 86 (global_step 6020) finished, time:1.36 sec.\n",
      "[1218 22:04:24 @saver.py:76] Model saved to ./train_log/linenetFwbVSI2\\model-6020.\n"
     ]
    },
    {
     "name": "stderr",
     "output_type": "stream",
     "text": [
      "100%|#############################################|10/10[00:00<00:00,90.65it/s]\n"
     ]
    },
    {
     "name": "stdout",
     "output_type": "stream",
     "text": [
      "[1218 22:04:25 @monitor.py:294] input_queue_size: 50\n",
      "[1218 22:04:25 @monitor.py:294] learning_rate: 0.0004\n",
      "[1218 22:04:25 @monitor.py:294] loss/params: 0.026556\n",
      "[1218 22:04:25 @monitor.py:294] loss/total_cost: 0.11803\n",
      "[1218 22:04:25 @monitor.py:294] loss/widths: 0.0092503\n",
      "[1218 22:04:25 @monitor.py:294] validation_loss/params: 0.027076\n",
      "[1218 22:04:25 @monitor.py:294] validation_loss/widths: 0.010626\n",
      "[1218 22:04:25 @base.py:175] Start Epoch 87 ...\n"
     ]
    },
    {
     "name": "stderr",
     "output_type": "stream",
     "text": [
      "100%|#############################################|70/70[00:01<00:00,52.69it/s]\n"
     ]
    },
    {
     "name": "stdout",
     "output_type": "stream",
     "text": [
      "[1218 22:04:26 @base.py:183] Epoch 87 (global_step 6090) finished, time:1.33 sec.\n",
      "[1218 22:04:26 @saver.py:76] Model saved to ./train_log/linenetFwbVSI2\\model-6090.\n"
     ]
    },
    {
     "name": "stderr",
     "output_type": "stream",
     "text": [
      "100%|#############################################|10/10[00:00<00:00,95.90it/s]\n"
     ]
    },
    {
     "name": "stdout",
     "output_type": "stream",
     "text": [
      "[1218 22:04:26 @monitor.py:294] input_queue_size: 50\n",
      "[1218 22:04:26 @monitor.py:294] learning_rate: 0.0004\n",
      "[1218 22:04:26 @monitor.py:294] loss/params: 0.026387\n",
      "[1218 22:04:26 @monitor.py:294] loss/total_cost: 0.11715\n",
      "[1218 22:04:26 @monitor.py:294] loss/widths: 0.0090468\n",
      "[1218 22:04:26 @monitor.py:294] validation_loss/params: 0.026583\n",
      "[1218 22:04:27 @monitor.py:294] validation_loss/widths: 0.0082934\n",
      "[1218 22:04:27 @base.py:175] Start Epoch 88 ...\n"
     ]
    },
    {
     "name": "stderr",
     "output_type": "stream",
     "text": [
      "100%|#############################################|70/70[00:01<00:00,51.79it/s]\n"
     ]
    },
    {
     "name": "stdout",
     "output_type": "stream",
     "text": [
      "[1218 22:04:28 @base.py:183] Epoch 88 (global_step 6160) finished, time:1.36 sec.\n",
      "[1218 22:04:28 @saver.py:76] Model saved to ./train_log/linenetFwbVSI2\\model-6160.\n"
     ]
    },
    {
     "name": "stderr",
     "output_type": "stream",
     "text": [
      "100%|############################################|10/10[00:00<00:00,104.99it/s]\n"
     ]
    },
    {
     "name": "stdout",
     "output_type": "stream",
     "text": [
      "[1218 22:04:28 @monitor.py:294] input_queue_size: 50\n",
      "[1218 22:04:28 @monitor.py:294] learning_rate: 0.0004\n",
      "[1218 22:04:28 @monitor.py:294] loss/params: 0.026336\n",
      "[1218 22:04:28 @monitor.py:294] loss/total_cost: 0.11677\n",
      "[1218 22:04:28 @monitor.py:294] loss/widths: 0.008873\n",
      "[1218 22:04:28 @monitor.py:294] validation_loss/params: 0.026843\n",
      "[1218 22:04:28 @monitor.py:294] validation_loss/widths: 0.01167\n",
      "[1218 22:04:28 @base.py:175] Start Epoch 89 ...\n"
     ]
    },
    {
     "name": "stderr",
     "output_type": "stream",
     "text": [
      "100%|#############################################|70/70[00:01<00:00,51.11it/s]\n"
     ]
    },
    {
     "name": "stdout",
     "output_type": "stream",
     "text": [
      "[1218 22:04:30 @base.py:183] Epoch 89 (global_step 6230) finished, time:1.37 sec.\n",
      "[1218 22:04:30 @saver.py:76] Model saved to ./train_log/linenetFwbVSI2\\model-6230.\n"
     ]
    },
    {
     "name": "stderr",
     "output_type": "stream",
     "text": [
      "100%|############################################|10/10[00:00<00:00,101.77it/s]\n"
     ]
    },
    {
     "name": "stdout",
     "output_type": "stream",
     "text": [
      "[1218 22:04:30 @monitor.py:294] input_queue_size: 50\n",
      "[1218 22:04:30 @monitor.py:294] learning_rate: 0.0004\n",
      "[1218 22:04:30 @monitor.py:294] loss/params: 0.025889\n",
      "[1218 22:04:30 @monitor.py:294] loss/total_cost: 0.11498\n",
      "[1218 22:04:30 @monitor.py:294] loss/widths: 0.0088767\n",
      "[1218 22:04:30 @monitor.py:294] validation_loss/params: 0.026976\n",
      "[1218 22:04:30 @monitor.py:294] validation_loss/widths: 0.0094397\n",
      "[1218 22:04:30 @base.py:175] Start Epoch 90 ...\n"
     ]
    },
    {
     "name": "stderr",
     "output_type": "stream",
     "text": [
      "100%|#############################################|70/70[00:01<00:00,52.45it/s]\n"
     ]
    },
    {
     "name": "stdout",
     "output_type": "stream",
     "text": [
      "[1218 22:04:32 @base.py:183] Epoch 90 (global_step 6300) finished, time:1.34 sec.\n",
      "[1218 22:04:32 @saver.py:76] Model saved to ./train_log/linenetFwbVSI2\\model-6300.\n"
     ]
    },
    {
     "name": "stderr",
     "output_type": "stream",
     "text": [
      "100%|############################################|10/10[00:00<00:00,108.41it/s]\n"
     ]
    },
    {
     "name": "stdout",
     "output_type": "stream",
     "text": [
      "[1218 22:04:32 @monitor.py:294] input_queue_size: 50\n",
      "[1218 22:04:32 @monitor.py:294] learning_rate: 0.0004\n",
      "[1218 22:04:32 @monitor.py:294] loss/params: 0.025649\n",
      "[1218 22:04:32 @monitor.py:294] loss/total_cost: 0.11419\n",
      "[1218 22:04:32 @monitor.py:294] loss/widths: 0.009048\n",
      "[1218 22:04:32 @monitor.py:294] validation_loss/params: 0.026897\n",
      "[1218 22:04:32 @monitor.py:294] validation_loss/widths: 0.0096659\n",
      "[1218 22:04:32 @base.py:175] Start Epoch 91 ...\n"
     ]
    },
    {
     "name": "stderr",
     "output_type": "stream",
     "text": [
      "100%|#############################################|70/70[00:01<00:00,52.18it/s]\n"
     ]
    },
    {
     "name": "stdout",
     "output_type": "stream",
     "text": [
      "[1218 22:04:34 @base.py:183] Epoch 91 (global_step 6370) finished, time:1.34 sec.\n",
      "[1218 22:04:34 @saver.py:76] Model saved to ./train_log/linenetFwbVSI2\\model-6370.\n"
     ]
    },
    {
     "name": "stderr",
     "output_type": "stream",
     "text": [
      "100%|############################################|10/10[00:00<00:00,110.81it/s]\n"
     ]
    },
    {
     "name": "stdout",
     "output_type": "stream",
     "text": [
      "[1218 22:04:34 @monitor.py:294] input_queue_size: 50\n",
      "[1218 22:04:34 @monitor.py:294] learning_rate: 0.0004\n",
      "[1218 22:04:34 @monitor.py:294] loss/params: 0.025331\n",
      "[1218 22:04:34 @monitor.py:294] loss/total_cost: 0.11261\n",
      "[1218 22:04:34 @monitor.py:294] loss/widths: 0.0087395\n",
      "[1218 22:04:34 @monitor.py:294] validation_loss/params: 0.026447\n",
      "[1218 22:04:34 @monitor.py:294] validation_loss/widths: 0.0094572\n",
      "[1218 22:04:34 @base.py:175] Start Epoch 92 ...\n"
     ]
    },
    {
     "name": "stderr",
     "output_type": "stream",
     "text": [
      "100%|#############################################|70/70[00:01<00:00,51.94it/s]\n"
     ]
    },
    {
     "name": "stdout",
     "output_type": "stream",
     "text": [
      "[1218 22:04:35 @base.py:183] Epoch 92 (global_step 6440) finished, time:1.35 sec.\n",
      "[1218 22:04:36 @saver.py:76] Model saved to ./train_log/linenetFwbVSI2\\model-6440.\n"
     ]
    },
    {
     "name": "stderr",
     "output_type": "stream",
     "text": [
      "100%|#############################################|10/10[00:00<00:00,99.74it/s]\n"
     ]
    },
    {
     "name": "stdout",
     "output_type": "stream",
     "text": [
      "[1218 22:04:36 @monitor.py:294] input_queue_size: 50\n",
      "[1218 22:04:36 @monitor.py:294] learning_rate: 0.0004\n",
      "[1218 22:04:36 @monitor.py:294] loss/params: 0.02509\n",
      "[1218 22:04:36 @monitor.py:294] loss/total_cost: 0.11181\n",
      "[1218 22:04:36 @monitor.py:294] loss/widths: 0.0089017\n",
      "[1218 22:04:36 @monitor.py:294] validation_loss/params: 0.026737\n",
      "[1218 22:04:36 @monitor.py:294] validation_loss/widths: 0.008252\n",
      "[1218 22:04:36 @base.py:175] Start Epoch 93 ...\n"
     ]
    },
    {
     "name": "stderr",
     "output_type": "stream",
     "text": [
      "100%|#############################################|70/70[00:01<00:00,53.01it/s]\n"
     ]
    },
    {
     "name": "stdout",
     "output_type": "stream",
     "text": [
      "[1218 22:04:37 @base.py:183] Epoch 93 (global_step 6510) finished, time:1.32 sec.\n",
      "[1218 22:04:38 @saver.py:76] Model saved to ./train_log/linenetFwbVSI2\\model-6510.\n"
     ]
    },
    {
     "name": "stderr",
     "output_type": "stream",
     "text": [
      "100%|#############################################|10/10[00:00<00:00,64.76it/s]\n"
     ]
    },
    {
     "name": "stdout",
     "output_type": "stream",
     "text": [
      "[1218 22:04:38 @monitor.py:294] input_queue_size: 50\n",
      "[1218 22:04:38 @monitor.py:294] learning_rate: 0.0004\n",
      "[1218 22:04:38 @monitor.py:294] loss/params: 0.024992\n",
      "[1218 22:04:38 @monitor.py:294] loss/total_cost: 0.11148\n",
      "[1218 22:04:38 @monitor.py:294] loss/widths: 0.0089713\n",
      "[1218 22:04:38 @monitor.py:294] validation_loss/params: 0.026258\n",
      "[1218 22:04:38 @monitor.py:294] validation_loss/widths: 0.0087962\n",
      "[1218 22:04:38 @base.py:175] Start Epoch 94 ...\n"
     ]
    },
    {
     "name": "stderr",
     "output_type": "stream",
     "text": [
      "100%|#############################################|70/70[00:01<00:00,53.13it/s]\n"
     ]
    },
    {
     "name": "stdout",
     "output_type": "stream",
     "text": [
      "[1218 22:04:39 @base.py:183] Epoch 94 (global_step 6580) finished, time:1.32 sec.\n",
      "[1218 22:04:40 @saver.py:76] Model saved to ./train_log/linenetFwbVSI2\\model-6580.\n"
     ]
    },
    {
     "name": "stderr",
     "output_type": "stream",
     "text": [
      "100%|#############################################|10/10[00:00<00:00,80.43it/s]\n"
     ]
    },
    {
     "name": "stdout",
     "output_type": "stream",
     "text": [
      "[1218 22:04:40 @monitor.py:294] input_queue_size: 50\n",
      "[1218 22:04:40 @monitor.py:294] learning_rate: 0.0004\n",
      "[1218 22:04:40 @monitor.py:294] loss/params: 0.024888\n",
      "[1218 22:04:40 @monitor.py:294] loss/total_cost: 0.11083\n",
      "[1218 22:04:40 @monitor.py:294] loss/widths: 0.0087374\n",
      "[1218 22:04:40 @monitor.py:294] validation_loss/params: 0.026295\n",
      "[1218 22:04:40 @monitor.py:294] validation_loss/widths: 0.010888\n",
      "[1218 22:04:40 @base.py:175] Start Epoch 95 ...\n"
     ]
    },
    {
     "name": "stderr",
     "output_type": "stream",
     "text": [
      "100%|#############################################|70/70[00:01<00:00,52.37it/s]\n"
     ]
    },
    {
     "name": "stdout",
     "output_type": "stream",
     "text": [
      "[1218 22:04:41 @base.py:183] Epoch 95 (global_step 6650) finished, time:1.34 sec.\n",
      "[1218 22:04:42 @saver.py:76] Model saved to ./train_log/linenetFwbVSI2\\model-6650.\n"
     ]
    },
    {
     "name": "stderr",
     "output_type": "stream",
     "text": [
      "100%|#############################################|10/10[00:00<00:00,91.50it/s]\n"
     ]
    },
    {
     "name": "stdout",
     "output_type": "stream",
     "text": [
      "[1218 22:04:42 @monitor.py:294] input_queue_size: 50\n",
      "[1218 22:04:42 @monitor.py:294] learning_rate: 0.0004\n",
      "[1218 22:04:42 @monitor.py:294] loss/params: 0.024421\n",
      "[1218 22:04:42 @monitor.py:294] loss/total_cost: 0.10865\n",
      "[1218 22:04:42 @monitor.py:294] loss/widths: 0.0084237\n",
      "[1218 22:04:42 @monitor.py:294] validation_loss/params: 0.026878\n",
      "[1218 22:04:42 @monitor.py:294] validation_loss/widths: 0.0084657\n",
      "[1218 22:04:42 @base.py:175] Start Epoch 96 ...\n"
     ]
    },
    {
     "name": "stderr",
     "output_type": "stream",
     "text": [
      "100%|#############################################|70/70[00:01<00:00,52.73it/s]\n"
     ]
    },
    {
     "name": "stdout",
     "output_type": "stream",
     "text": [
      "[1218 22:04:43 @base.py:183] Epoch 96 (global_step 6720) finished, time:1.33 sec.\n",
      "[1218 22:04:44 @saver.py:76] Model saved to ./train_log/linenetFwbVSI2\\model-6720.\n"
     ]
    },
    {
     "name": "stderr",
     "output_type": "stream",
     "text": [
      "100%|############################################|10/10[00:00<00:00,107.24it/s]\n"
     ]
    },
    {
     "name": "stdout",
     "output_type": "stream",
     "text": [
      "[1218 22:04:44 @monitor.py:294] input_queue_size: 50\n",
      "[1218 22:04:44 @monitor.py:294] learning_rate: 0.0004\n",
      "[1218 22:04:44 @monitor.py:294] loss/params: 0.02441\n",
      "[1218 22:04:44 @monitor.py:294] loss/total_cost: 0.10869\n",
      "[1218 22:04:44 @monitor.py:294] loss/widths: 0.0085071\n",
      "[1218 22:04:44 @monitor.py:294] validation_loss/params: 0.025944\n",
      "[1218 22:04:44 @monitor.py:294] validation_loss/widths: 0.0087359\n",
      "[1218 22:04:44 @base.py:175] Start Epoch 97 ...\n"
     ]
    },
    {
     "name": "stderr",
     "output_type": "stream",
     "text": [
      "100%|#############################################|70/70[00:01<00:00,52.65it/s]\n"
     ]
    },
    {
     "name": "stdout",
     "output_type": "stream",
     "text": [
      "[1218 22:04:45 @base.py:183] Epoch 97 (global_step 6790) finished, time:1.33 sec.\n",
      "[1218 22:04:45 @saver.py:76] Model saved to ./train_log/linenetFwbVSI2\\model-6790.\n"
     ]
    },
    {
     "name": "stderr",
     "output_type": "stream",
     "text": [
      "100%|#############################################|10/10[00:00<00:00,98.75it/s]\n"
     ]
    },
    {
     "name": "stdout",
     "output_type": "stream",
     "text": [
      "[1218 22:04:46 @monitor.py:294] input_queue_size: 50\n",
      "[1218 22:04:46 @monitor.py:294] learning_rate: 0.0004\n",
      "[1218 22:04:46 @monitor.py:294] loss/params: 0.024304\n",
      "[1218 22:04:46 @monitor.py:294] loss/total_cost: 0.10825\n",
      "[1218 22:04:46 @monitor.py:294] loss/widths: 0.0084927\n",
      "[1218 22:04:46 @monitor.py:294] validation_loss/params: 0.025875\n",
      "[1218 22:04:46 @monitor.py:294] validation_loss/widths: 0.0080836\n",
      "[1218 22:04:46 @base.py:175] Start Epoch 98 ...\n"
     ]
    },
    {
     "name": "stderr",
     "output_type": "stream",
     "text": [
      "100%|#############################################|70/70[00:01<00:00,52.77it/s]\n"
     ]
    },
    {
     "name": "stdout",
     "output_type": "stream",
     "text": [
      "[1218 22:04:47 @base.py:183] Epoch 98 (global_step 6860) finished, time:1.33 sec.\n",
      "[1218 22:04:47 @saver.py:76] Model saved to ./train_log/linenetFwbVSI2\\model-6860.\n"
     ]
    },
    {
     "name": "stderr",
     "output_type": "stream",
     "text": [
      "100%|############################################|10/10[00:00<00:00,113.36it/s]\n"
     ]
    },
    {
     "name": "stdout",
     "output_type": "stream",
     "text": [
      "[1218 22:04:47 @monitor.py:294] input_queue_size: 50\n",
      "[1218 22:04:47 @monitor.py:294] learning_rate: 0.0004\n",
      "[1218 22:04:47 @monitor.py:294] loss/params: 0.024035\n",
      "[1218 22:04:47 @monitor.py:294] loss/total_cost: 0.10723\n",
      "[1218 22:04:47 @monitor.py:294] loss/widths: 0.0085529\n",
      "[1218 22:04:47 @monitor.py:294] validation_loss/params: 0.025924\n",
      "[1218 22:04:47 @monitor.py:294] validation_loss/widths: 0.0096092\n",
      "[1218 22:04:47 @base.py:175] Start Epoch 99 ...\n"
     ]
    },
    {
     "name": "stderr",
     "output_type": "stream",
     "text": [
      "100%|#############################################|70/70[00:01<00:00,52.53it/s]\n"
     ]
    },
    {
     "name": "stdout",
     "output_type": "stream",
     "text": [
      "[1218 22:04:49 @base.py:183] Epoch 99 (global_step 6930) finished, time:1.34 sec.\n",
      "[1218 22:04:49 @saver.py:76] Model saved to ./train_log/linenetFwbVSI2\\model-6930.\n"
     ]
    },
    {
     "name": "stderr",
     "output_type": "stream",
     "text": [
      "100%|#############################################|10/10[00:00<00:00,90.67it/s]\n"
     ]
    },
    {
     "name": "stdout",
     "output_type": "stream",
     "text": [
      "[1218 22:04:49 @monitor.py:294] input_queue_size: 50\n",
      "[1218 22:04:49 @monitor.py:294] learning_rate: 0.0004\n",
      "[1218 22:04:49 @monitor.py:294] loss/params: 0.02357\n",
      "[1218 22:04:49 @monitor.py:294] loss/total_cost: 0.10509\n",
      "[1218 22:04:49 @monitor.py:294] loss/widths: 0.0082739\n",
      "[1218 22:04:49 @monitor.py:294] validation_loss/params: 0.026451\n",
      "[1218 22:04:49 @monitor.py:294] validation_loss/widths: 0.0080061\n",
      "[1218 22:04:49 @base.py:175] Start Epoch 100 ...\n"
     ]
    },
    {
     "name": "stderr",
     "output_type": "stream",
     "text": [
      "100%|#############################################|70/70[00:01<00:00,52.45it/s]\n"
     ]
    },
    {
     "name": "stdout",
     "output_type": "stream",
     "text": [
      "[1218 22:04:51 @base.py:183] Epoch 100 (global_step 7000) finished, time:1.34 sec.\n",
      "[1218 22:04:51 @saver.py:76] Model saved to ./train_log/linenetFwbVSI2\\model-7000.\n"
     ]
    },
    {
     "name": "stderr",
     "output_type": "stream",
     "text": [
      "100%|#############################################|10/10[00:00<00:00,98.75it/s]\n"
     ]
    },
    {
     "name": "stdout",
     "output_type": "stream",
     "text": [
      "[1218 22:04:51 @monitor.py:294] input_queue_size: 50\n",
      "[1218 22:04:51 @monitor.py:294] learning_rate: 0.0004\n",
      "[1218 22:04:51 @monitor.py:294] loss/params: 0.023502\n",
      "[1218 22:04:51 @monitor.py:294] loss/total_cost: 0.10484\n",
      "[1218 22:04:51 @monitor.py:294] loss/widths: 0.0082944\n",
      "[1218 22:04:51 @monitor.py:294] validation_loss/params: 0.025879\n",
      "[1218 22:04:51 @monitor.py:294] validation_loss/widths: 0.008154\n",
      "[1218 22:04:51 @base.py:175] Start Epoch 101 ...\n"
     ]
    },
    {
     "name": "stderr",
     "output_type": "stream",
     "text": [
      "100%|#############################################|70/70[00:01<00:00,52.97it/s]\n"
     ]
    },
    {
     "name": "stdout",
     "output_type": "stream",
     "text": [
      "[1218 22:04:53 @base.py:183] Epoch 101 (global_step 7070) finished, time:1.32 sec.\n",
      "[1218 22:04:53 @saver.py:76] Model saved to ./train_log/linenetFwbVSI2\\model-7070.\n"
     ]
    },
    {
     "name": "stderr",
     "output_type": "stream",
     "text": [
      "100%|############################################|10/10[00:00<00:00,112.06it/s]\n"
     ]
    },
    {
     "name": "stdout",
     "output_type": "stream",
     "text": [
      "[1218 22:04:53 @monitor.py:294] input_queue_size: 50\n",
      "[1218 22:04:53 @monitor.py:294] learning_rate: 0.0004\n",
      "[1218 22:04:53 @monitor.py:294] loss/params: 0.023319\n",
      "[1218 22:04:53 @monitor.py:294] loss/total_cost: 0.10391\n",
      "[1218 22:04:53 @monitor.py:294] loss/widths: 0.0080978\n",
      "[1218 22:04:53 @monitor.py:294] validation_loss/params: 0.026075\n",
      "[1218 22:04:53 @monitor.py:294] validation_loss/widths: 0.0079609\n",
      "[1218 22:04:53 @base.py:175] Start Epoch 102 ...\n"
     ]
    },
    {
     "name": "stderr",
     "output_type": "stream",
     "text": [
      "100%|#############################################|70/70[00:01<00:00,52.45it/s]\n"
     ]
    },
    {
     "name": "stdout",
     "output_type": "stream",
     "text": [
      "[1218 22:04:54 @base.py:183] Epoch 102 (global_step 7140) finished, time:1.34 sec.\n",
      "[1218 22:04:55 @saver.py:76] Model saved to ./train_log/linenetFwbVSI2\\model-7140.\n"
     ]
    },
    {
     "name": "stderr",
     "output_type": "stream",
     "text": [
      "100%|#############################################|10/10[00:00<00:00,99.76it/s]\n"
     ]
    },
    {
     "name": "stdout",
     "output_type": "stream",
     "text": [
      "[1218 22:04:55 @monitor.py:294] input_queue_size: 50\n",
      "[1218 22:04:55 @monitor.py:294] learning_rate: 0.0004\n",
      "[1218 22:04:55 @monitor.py:294] loss/params: 0.023184\n",
      "[1218 22:04:55 @monitor.py:294] loss/total_cost: 0.10363\n",
      "[1218 22:04:55 @monitor.py:294] loss/widths: 0.008359\n",
      "[1218 22:04:55 @monitor.py:294] validation_loss/params: 0.026041\n",
      "[1218 22:04:55 @monitor.py:294] validation_loss/widths: 0.008366\n",
      "[1218 22:04:55 @base.py:175] Start Epoch 103 ...\n"
     ]
    },
    {
     "name": "stderr",
     "output_type": "stream",
     "text": [
      "100%|#############################################|70/70[00:01<00:00,52.22it/s]\n"
     ]
    },
    {
     "name": "stdout",
     "output_type": "stream",
     "text": [
      "[1218 22:04:56 @base.py:183] Epoch 103 (global_step 7210) finished, time:1.34 sec.\n",
      "[1218 22:04:57 @saver.py:76] Model saved to ./train_log/linenetFwbVSI2\\model-7210.\n"
     ]
    },
    {
     "name": "stderr",
     "output_type": "stream",
     "text": [
      "100%|#############################################|10/10[00:00<00:00,77.92it/s]\n"
     ]
    },
    {
     "name": "stdout",
     "output_type": "stream",
     "text": [
      "[1218 22:04:57 @monitor.py:294] input_queue_size: 50\n",
      "[1218 22:04:57 @monitor.py:294] learning_rate: 0.0004\n",
      "[1218 22:04:57 @monitor.py:294] loss/params: 0.022891\n",
      "[1218 22:04:57 @monitor.py:294] loss/total_cost: 0.10211\n",
      "[1218 22:04:57 @monitor.py:294] loss/widths: 0.0080096\n",
      "[1218 22:04:57 @monitor.py:294] validation_loss/params: 0.025894\n",
      "[1218 22:04:57 @monitor.py:294] validation_loss/widths: 0.008931\n",
      "[1218 22:04:57 @base.py:175] Start Epoch 104 ...\n"
     ]
    },
    {
     "name": "stderr",
     "output_type": "stream",
     "text": [
      "100%|#############################################|70/70[00:01<00:00,52.93it/s]\n"
     ]
    },
    {
     "name": "stdout",
     "output_type": "stream",
     "text": [
      "[1218 22:04:58 @base.py:183] Epoch 104 (global_step 7280) finished, time:1.33 sec.\n",
      "[1218 22:04:59 @saver.py:76] Model saved to ./train_log/linenetFwbVSI2\\model-7280.\n"
     ]
    },
    {
     "name": "stderr",
     "output_type": "stream",
     "text": [
      "100%|#############################################|10/10[00:00<00:00,91.50it/s]\n"
     ]
    },
    {
     "name": "stdout",
     "output_type": "stream",
     "text": [
      "[1218 22:04:59 @monitor.py:294] input_queue_size: 50\n",
      "[1218 22:04:59 @monitor.py:294] learning_rate: 0.0004\n",
      "[1218 22:04:59 @monitor.py:294] loss/params: 0.02268\n",
      "[1218 22:04:59 @monitor.py:294] loss/total_cost: 0.10126\n",
      "[1218 22:04:59 @monitor.py:294] loss/widths: 0.0080062\n",
      "[1218 22:04:59 @monitor.py:294] validation_loss/params: 0.025752\n",
      "[1218 22:04:59 @monitor.py:294] validation_loss/widths: 0.0077311\n",
      "[1218 22:04:59 @base.py:175] Start Epoch 105 ...\n"
     ]
    },
    {
     "name": "stderr",
     "output_type": "stream",
     "text": [
      "100%|#############################################|70/70[00:01<00:00,52.41it/s]\n"
     ]
    },
    {
     "name": "stdout",
     "output_type": "stream",
     "text": [
      "[1218 22:05:00 @base.py:183] Epoch 105 (global_step 7350) finished, time:1.34 sec.\n",
      "[1218 22:05:01 @saver.py:76] Model saved to ./train_log/linenetFwbVSI2\\model-7350.\n"
     ]
    },
    {
     "name": "stderr",
     "output_type": "stream",
     "text": [
      "100%|#############################################|10/10[00:00<00:00,92.35it/s]\n"
     ]
    },
    {
     "name": "stdout",
     "output_type": "stream",
     "text": [
      "[1218 22:05:01 @monitor.py:294] input_queue_size: 50\n",
      "[1218 22:05:01 @monitor.py:294] learning_rate: 0.0004\n",
      "[1218 22:05:01 @monitor.py:294] loss/params: 0.022297\n",
      "[1218 22:05:01 @monitor.py:294] loss/total_cost: 0.099778\n",
      "[1218 22:05:01 @monitor.py:294] loss/widths: 0.0080629\n",
      "[1218 22:05:01 @monitor.py:294] validation_loss/params: 0.025618\n",
      "[1218 22:05:01 @monitor.py:294] validation_loss/widths: 0.0084687\n",
      "[1218 22:05:01 @base.py:175] Start Epoch 106 ...\n"
     ]
    },
    {
     "name": "stderr",
     "output_type": "stream",
     "text": [
      "100%|#############################################|70/70[00:01<00:00,53.05it/s]\n"
     ]
    },
    {
     "name": "stdout",
     "output_type": "stream",
     "text": [
      "[1218 22:05:02 @base.py:183] Epoch 106 (global_step 7420) finished, time:1.32 sec.\n",
      "[1218 22:05:02 @saver.py:76] Model saved to ./train_log/linenetFwbVSI2\\model-7420.\n"
     ]
    },
    {
     "name": "stderr",
     "output_type": "stream",
     "text": [
      "100%|############################################|10/10[00:00<00:00,110.82it/s]\n"
     ]
    },
    {
     "name": "stdout",
     "output_type": "stream",
     "text": [
      "[1218 22:05:03 @monitor.py:294] input_queue_size: 50\n",
      "[1218 22:05:03 @monitor.py:294] learning_rate: 0.0004\n",
      "[1218 22:05:03 @monitor.py:294] loss/params: 0.022321\n",
      "[1218 22:05:03 @monitor.py:294] loss/total_cost: 0.10017\n",
      "[1218 22:05:03 @monitor.py:294] loss/widths: 0.0083618\n",
      "[1218 22:05:03 @monitor.py:294] validation_loss/params: 0.025427\n",
      "[1218 22:05:03 @monitor.py:294] validation_loss/widths: 0.0081521\n",
      "[1218 22:05:03 @base.py:175] Start Epoch 107 ...\n"
     ]
    },
    {
     "name": "stderr",
     "output_type": "stream",
     "text": [
      "100%|#############################################|70/70[00:01<00:00,46.36it/s]\n"
     ]
    },
    {
     "name": "stdout",
     "output_type": "stream",
     "text": [
      "[1218 22:05:04 @base.py:183] Epoch 107 (global_step 7490) finished, time:1.51 sec.\n",
      "[1218 22:05:04 @saver.py:76] Model saved to ./train_log/linenetFwbVSI2\\model-7490.\n"
     ]
    },
    {
     "name": "stderr",
     "output_type": "stream",
     "text": [
      "100%|############################################|10/10[00:00<00:00,109.60it/s]\n"
     ]
    },
    {
     "name": "stdout",
     "output_type": "stream",
     "text": [
      "[1218 22:05:05 @monitor.py:294] input_queue_size: 50\n",
      "[1218 22:05:05 @monitor.py:294] learning_rate: 0.0004\n",
      "[1218 22:05:05 @monitor.py:294] loss/params: 0.022305\n",
      "[1218 22:05:05 @monitor.py:294] loss/total_cost: 0.099821\n",
      "[1218 22:05:05 @monitor.py:294] loss/widths: 0.0080726\n",
      "[1218 22:05:05 @monitor.py:294] validation_loss/params: 0.025716\n",
      "[1218 22:05:05 @monitor.py:294] validation_loss/widths: 0.0078284\n",
      "[1218 22:05:05 @base.py:175] Start Epoch 108 ...\n"
     ]
    },
    {
     "name": "stderr",
     "output_type": "stream",
     "text": [
      "100%|#############################################|70/70[00:01<00:00,51.45it/s]\n"
     ]
    },
    {
     "name": "stdout",
     "output_type": "stream",
     "text": [
      "[1218 22:05:06 @base.py:183] Epoch 108 (global_step 7560) finished, time:1.36 sec.\n",
      "[1218 22:05:06 @saver.py:76] Model saved to ./train_log/linenetFwbVSI2\\model-7560.\n"
     ]
    },
    {
     "name": "stderr",
     "output_type": "stream",
     "text": [
      "100%|############################################|10/10[00:00<00:00,102.82it/s]\n"
     ]
    },
    {
     "name": "stdout",
     "output_type": "stream",
     "text": [
      "[1218 22:05:07 @monitor.py:294] input_queue_size: 50\n",
      "[1218 22:05:07 @monitor.py:294] learning_rate: 0.0004\n",
      "[1218 22:05:07 @monitor.py:294] loss/params: 0.021815\n",
      "[1218 22:05:07 @monitor.py:294] loss/total_cost: 0.09786\n",
      "[1218 22:05:07 @monitor.py:294] loss/widths: 0.0080752\n",
      "[1218 22:05:07 @monitor.py:294] validation_loss/params: 0.025857\n",
      "[1218 22:05:07 @monitor.py:294] validation_loss/widths: 0.0077115\n",
      "[1218 22:05:07 @base.py:175] Start Epoch 109 ...\n"
     ]
    },
    {
     "name": "stderr",
     "output_type": "stream",
     "text": [
      "100%|#############################################|70/70[00:01<00:00,51.00it/s]\n"
     ]
    },
    {
     "name": "stdout",
     "output_type": "stream",
     "text": [
      "[1218 22:05:08 @base.py:183] Epoch 109 (global_step 7630) finished, time:1.38 sec.\n",
      "[1218 22:05:08 @saver.py:76] Model saved to ./train_log/linenetFwbVSI2\\model-7630.\n"
     ]
    },
    {
     "name": "stderr",
     "output_type": "stream",
     "text": [
      "100%|############################################|10/10[00:00<00:00,106.10it/s]\n"
     ]
    },
    {
     "name": "stdout",
     "output_type": "stream",
     "text": [
      "[1218 22:05:08 @monitor.py:294] input_queue_size: 50\n",
      "[1218 22:05:08 @monitor.py:294] learning_rate: 0.0004\n",
      "[1218 22:05:08 @monitor.py:294] loss/params: 0.02165\n",
      "[1218 22:05:08 @monitor.py:294] loss/total_cost: 0.097222\n",
      "[1218 22:05:08 @monitor.py:294] loss/widths: 0.0080977\n",
      "[1218 22:05:08 @monitor.py:294] validation_loss/params: 0.025891\n",
      "[1218 22:05:08 @monitor.py:294] validation_loss/widths: 0.0075581\n",
      "[1218 22:05:08 @base.py:175] Start Epoch 110 ...\n"
     ]
    },
    {
     "name": "stderr",
     "output_type": "stream",
     "text": [
      "100%|#############################################|70/70[00:01<00:00,51.15it/s]\n"
     ]
    },
    {
     "name": "stdout",
     "output_type": "stream",
     "text": [
      "[1218 22:05:10 @base.py:183] Epoch 110 (global_step 7700) finished, time:1.37 sec.\n",
      "[1218 22:05:10 @saver.py:76] Model saved to ./train_log/linenetFwbVSI2\\model-7700.\n"
     ]
    },
    {
     "name": "stderr",
     "output_type": "stream",
     "text": [
      "100%|############################################|10/10[00:00<00:00,113.34it/s]\n"
     ]
    },
    {
     "name": "stdout",
     "output_type": "stream",
     "text": [
      "[1218 22:05:10 @monitor.py:294] input_queue_size: 50\n",
      "[1218 22:05:10 @monitor.py:294] learning_rate: 0.0004\n",
      "[1218 22:05:10 @monitor.py:294] loss/params: 0.021736\n",
      "[1218 22:05:10 @monitor.py:294] loss/total_cost: 0.097493\n",
      "[1218 22:05:10 @monitor.py:294] loss/widths: 0.0080261\n",
      "[1218 22:05:10 @monitor.py:294] validation_loss/params: 0.025422\n",
      "[1218 22:05:10 @monitor.py:294] validation_loss/widths: 0.0074991\n",
      "[1218 22:05:10 @base.py:175] Start Epoch 111 ...\n"
     ]
    },
    {
     "name": "stderr",
     "output_type": "stream",
     "text": [
      "100%|#############################################|70/70[00:01<00:00,51.15it/s]\n"
     ]
    },
    {
     "name": "stdout",
     "output_type": "stream",
     "text": [
      "[1218 22:05:12 @base.py:183] Epoch 111 (global_step 7770) finished, time:1.37 sec.\n",
      "[1218 22:05:12 @saver.py:76] Model saved to ./train_log/linenetFwbVSI2\\model-7770.\n"
     ]
    },
    {
     "name": "stderr",
     "output_type": "stream",
     "text": [
      "100%|############################################|10/10[00:00<00:00,108.41it/s]\n"
     ]
    },
    {
     "name": "stdout",
     "output_type": "stream",
     "text": [
      "[1218 22:05:12 @monitor.py:294] input_queue_size: 50\n",
      "[1218 22:05:12 @monitor.py:294] learning_rate: 0.0004\n",
      "[1218 22:05:12 @monitor.py:294] loss/params: 0.021527\n",
      "[1218 22:05:12 @monitor.py:294] loss/total_cost: 0.096445\n",
      "[1218 22:05:12 @monitor.py:294] loss/widths: 0.0078158\n",
      "[1218 22:05:12 @monitor.py:294] validation_loss/params: 0.025944\n",
      "[1218 22:05:12 @monitor.py:294] validation_loss/widths: 0.0076757\n",
      "[1218 22:05:12 @base.py:175] Start Epoch 112 ...\n"
     ]
    },
    {
     "name": "stderr",
     "output_type": "stream",
     "text": [
      "100%|#############################################|70/70[00:01<00:00,50.85it/s]\n"
     ]
    },
    {
     "name": "stdout",
     "output_type": "stream",
     "text": [
      "[1218 22:05:14 @base.py:183] Epoch 112 (global_step 7840) finished, time:1.38 sec.\n",
      "[1218 22:05:14 @saver.py:76] Model saved to ./train_log/linenetFwbVSI2\\model-7840.\n"
     ]
    },
    {
     "name": "stderr",
     "output_type": "stream",
     "text": [
      "100%|#############################################|10/10[00:00<00:00,92.35it/s]\n"
     ]
    },
    {
     "name": "stdout",
     "output_type": "stream",
     "text": [
      "[1218 22:05:14 @monitor.py:294] input_queue_size: 50\n",
      "[1218 22:05:14 @monitor.py:294] learning_rate: 0.0004\n",
      "[1218 22:05:14 @monitor.py:294] loss/params: 0.021279\n",
      "[1218 22:05:14 @monitor.py:294] loss/total_cost: 0.095581\n",
      "[1218 22:05:14 @monitor.py:294] loss/widths: 0.0079427\n",
      "[1218 22:05:14 @monitor.py:294] validation_loss/params: 0.025424\n",
      "[1218 22:05:14 @monitor.py:294] validation_loss/widths: 0.0076979\n",
      "[1218 22:05:14 @base.py:175] Start Epoch 113 ...\n"
     ]
    },
    {
     "name": "stderr",
     "output_type": "stream",
     "text": [
      "100%|#############################################|70/70[00:01<00:00,51.79it/s]\n"
     ]
    },
    {
     "name": "stdout",
     "output_type": "stream",
     "text": [
      "[1218 22:05:16 @base.py:183] Epoch 113 (global_step 7910) finished, time:1.35 sec.\n",
      "[1218 22:05:16 @saver.py:76] Model saved to ./train_log/linenetFwbVSI2\\model-7910.\n"
     ]
    },
    {
     "name": "stderr",
     "output_type": "stream",
     "text": [
      "100%|############################################|10/10[00:00<00:00,106.10it/s]\n"
     ]
    },
    {
     "name": "stdout",
     "output_type": "stream",
     "text": [
      "[1218 22:05:16 @monitor.py:294] input_queue_size: 50\n",
      "[1218 22:05:16 @monitor.py:294] learning_rate: 0.0004\n",
      "[1218 22:05:16 @monitor.py:294] loss/params: 0.020936\n",
      "[1218 22:05:16 @monitor.py:294] loss/total_cost: 0.093985\n",
      "[1218 22:05:16 @monitor.py:294] loss/widths: 0.0077191\n",
      "[1218 22:05:16 @monitor.py:294] validation_loss/params: 0.025369\n",
      "[1218 22:05:16 @monitor.py:294] validation_loss/widths: 0.0082777\n",
      "[1218 22:05:16 @base.py:175] Start Epoch 114 ...\n"
     ]
    },
    {
     "name": "stderr",
     "output_type": "stream",
     "text": [
      "100%|#############################################|70/70[00:01<00:00,52.57it/s]\n"
     ]
    },
    {
     "name": "stdout",
     "output_type": "stream",
     "text": [
      "[1218 22:05:17 @base.py:183] Epoch 114 (global_step 7980) finished, time:1.34 sec.\n",
      "[1218 22:05:18 @saver.py:76] Model saved to ./train_log/linenetFwbVSI2\\model-7980.\n"
     ]
    },
    {
     "name": "stderr",
     "output_type": "stream",
     "text": [
      "100%|#############################################|10/10[00:00<00:00,97.78it/s]\n"
     ]
    },
    {
     "name": "stdout",
     "output_type": "stream",
     "text": [
      "[1218 22:05:18 @monitor.py:294] input_queue_size: 50\n",
      "[1218 22:05:18 @monitor.py:294] learning_rate: 0.0004\n",
      "[1218 22:05:18 @monitor.py:294] loss/params: 0.020599\n",
      "[1218 22:05:18 @monitor.py:294] loss/total_cost: 0.09269\n",
      "[1218 22:05:18 @monitor.py:294] loss/widths: 0.0077756\n",
      "[1218 22:05:18 @monitor.py:294] validation_loss/params: 0.025499\n",
      "[1218 22:05:18 @monitor.py:294] validation_loss/widths: 0.0078775\n",
      "[1218 22:05:18 @base.py:175] Start Epoch 115 ...\n"
     ]
    },
    {
     "name": "stderr",
     "output_type": "stream",
     "text": [
      "100%|#############################################|70/70[00:01<00:00,52.93it/s]\n"
     ]
    },
    {
     "name": "stdout",
     "output_type": "stream",
     "text": [
      "[1218 22:05:19 @base.py:183] Epoch 115 (global_step 8050) finished, time:1.33 sec.\n",
      "[1218 22:05:20 @saver.py:76] Model saved to ./train_log/linenetFwbVSI2\\model-8050.\n"
     ]
    },
    {
     "name": "stderr",
     "output_type": "stream",
     "text": [
      "100%|############################################|10/10[00:00<00:00,108.41it/s]\n"
     ]
    },
    {
     "name": "stdout",
     "output_type": "stream",
     "text": [
      "[1218 22:05:20 @monitor.py:294] input_queue_size: 50\n",
      "[1218 22:05:20 @monitor.py:294] learning_rate: 0.0004\n",
      "[1218 22:05:20 @monitor.py:294] loss/params: 0.020574\n",
      "[1218 22:05:20 @monitor.py:294] loss/total_cost: 0.092552\n",
      "[1218 22:05:20 @monitor.py:294] loss/widths: 0.0077391\n",
      "[1218 22:05:20 @monitor.py:294] validation_loss/params: 0.024979\n",
      "[1218 22:05:20 @monitor.py:294] validation_loss/widths: 0.0077221\n",
      "[1218 22:05:20 @base.py:175] Start Epoch 116 ...\n"
     ]
    },
    {
     "name": "stderr",
     "output_type": "stream",
     "text": [
      "100%|#############################################|70/70[00:01<00:00,51.30it/s]\n"
     ]
    },
    {
     "name": "stdout",
     "output_type": "stream",
     "text": [
      "[1218 22:05:21 @base.py:183] Epoch 116 (global_step 8120) finished, time:1.37 sec.\n",
      "[1218 22:05:22 @saver.py:76] Model saved to ./train_log/linenetFwbVSI2\\model-8120.\n"
     ]
    },
    {
     "name": "stderr",
     "output_type": "stream",
     "text": [
      "100%|############################################|10/10[00:00<00:00,104.98it/s]\n"
     ]
    },
    {
     "name": "stdout",
     "output_type": "stream",
     "text": [
      "[1218 22:05:22 @monitor.py:294] input_queue_size: 50\n",
      "[1218 22:05:22 @monitor.py:294] learning_rate: 0.0004\n",
      "[1218 22:05:22 @monitor.py:294] loss/params: 0.020423\n",
      "[1218 22:05:22 @monitor.py:294] loss/total_cost: 0.092012\n",
      "[1218 22:05:22 @monitor.py:294] loss/widths: 0.0078036\n",
      "[1218 22:05:22 @monitor.py:294] validation_loss/params: 0.02567\n",
      "[1218 22:05:22 @monitor.py:294] validation_loss/widths: 0.0081244\n",
      "[1218 22:05:22 @base.py:175] Start Epoch 117 ...\n"
     ]
    },
    {
     "name": "stderr",
     "output_type": "stream",
     "text": [
      "100%|#############################################|70/70[00:01<00:00,52.26it/s]\n"
     ]
    },
    {
     "name": "stdout",
     "output_type": "stream",
     "text": [
      "[1218 22:05:23 @base.py:183] Epoch 117 (global_step 8190) finished, time:1.34 sec.\n",
      "[1218 22:05:23 @saver.py:76] Model saved to ./train_log/linenetFwbVSI2\\model-8190.\n"
     ]
    },
    {
     "name": "stderr",
     "output_type": "stream",
     "text": [
      "100%|############################################|10/10[00:00<00:00,107.24it/s]\n"
     ]
    },
    {
     "name": "stdout",
     "output_type": "stream",
     "text": [
      "[1218 22:05:24 @monitor.py:294] input_queue_size: 50\n",
      "[1218 22:05:24 @monitor.py:294] learning_rate: 0.0004\n",
      "[1218 22:05:24 @monitor.py:294] loss/params: 0.020227\n",
      "[1218 22:05:24 @monitor.py:294] loss/total_cost: 0.091068\n",
      "[1218 22:05:24 @monitor.py:294] loss/widths: 0.0076432\n",
      "[1218 22:05:24 @monitor.py:294] validation_loss/params: 0.025096\n",
      "[1218 22:05:24 @monitor.py:294] validation_loss/widths: 0.0075803\n",
      "[1218 22:05:24 @base.py:175] Start Epoch 118 ...\n"
     ]
    },
    {
     "name": "stderr",
     "output_type": "stream",
     "text": [
      "100%|#############################################|70/70[00:01<00:00,52.65it/s]\n"
     ]
    },
    {
     "name": "stdout",
     "output_type": "stream",
     "text": [
      "[1218 22:05:25 @base.py:183] Epoch 118 (global_step 8260) finished, time:1.33 sec.\n",
      "[1218 22:05:25 @saver.py:76] Model saved to ./train_log/linenetFwbVSI2\\model-8260.\n"
     ]
    },
    {
     "name": "stderr",
     "output_type": "stream",
     "text": [
      "100%|#############################################|10/10[00:00<00:00,95.90it/s]\n"
     ]
    },
    {
     "name": "stdout",
     "output_type": "stream",
     "text": [
      "[1218 22:05:25 @monitor.py:294] input_queue_size: 50\n",
      "[1218 22:05:25 @monitor.py:294] learning_rate: 0.0004\n",
      "[1218 22:05:25 @monitor.py:294] loss/params: 0.019857\n",
      "[1218 22:05:25 @monitor.py:294] loss/total_cost: 0.08972\n",
      "[1218 22:05:25 @monitor.py:294] loss/widths: 0.0077771\n",
      "[1218 22:05:25 @monitor.py:294] validation_loss/params: 0.025342\n",
      "[1218 22:05:25 @monitor.py:294] validation_loss/widths: 0.007276\n",
      "[1218 22:05:25 @base.py:175] Start Epoch 119 ...\n"
     ]
    },
    {
     "name": "stderr",
     "output_type": "stream",
     "text": [
      "100%|#############################################|70/70[00:01<00:00,52.33it/s]\n"
     ]
    },
    {
     "name": "stdout",
     "output_type": "stream",
     "text": [
      "[1218 22:05:27 @base.py:183] Epoch 119 (global_step 8330) finished, time:1.34 sec.\n",
      "[1218 22:05:27 @saver.py:76] Model saved to ./train_log/linenetFwbVSI2\\model-8330.\n"
     ]
    },
    {
     "name": "stderr",
     "output_type": "stream",
     "text": [
      "100%|############################################|10/10[00:00<00:00,112.06it/s]\n"
     ]
    },
    {
     "name": "stdout",
     "output_type": "stream",
     "text": [
      "[1218 22:05:27 @monitor.py:294] input_queue_size: 50\n",
      "[1218 22:05:27 @monitor.py:294] learning_rate: 0.0004\n",
      "[1218 22:05:27 @monitor.py:294] loss/params: 0.019869\n",
      "[1218 22:05:27 @monitor.py:294] loss/total_cost: 0.089462\n",
      "[1218 22:05:27 @monitor.py:294] loss/widths: 0.0074712\n",
      "[1218 22:05:27 @monitor.py:294] validation_loss/params: 0.025685\n",
      "[1218 22:05:27 @monitor.py:294] validation_loss/widths: 0.0083854\n",
      "[1218 22:05:27 @base.py:175] Start Epoch 120 ...\n"
     ]
    },
    {
     "name": "stderr",
     "output_type": "stream",
     "text": [
      "100%|#############################################|70/70[00:01<00:00,50.88it/s]\n"
     ]
    },
    {
     "name": "stdout",
     "output_type": "stream",
     "text": [
      "[1218 22:05:29 @base.py:183] Epoch 120 (global_step 8400) finished, time:1.38 sec.\n",
      "[1218 22:05:29 @saver.py:76] Model saved to ./train_log/linenetFwbVSI2\\model-8400.\n"
     ]
    },
    {
     "name": "stderr",
     "output_type": "stream",
     "text": [
      "100%|############################################|10/10[00:00<00:00,106.10it/s]\n"
     ]
    },
    {
     "name": "stdout",
     "output_type": "stream",
     "text": [
      "[1218 22:05:29 @monitor.py:294] input_queue_size: 50\n",
      "[1218 22:05:29 @monitor.py:294] learning_rate: 0.0004\n",
      "[1218 22:05:29 @monitor.py:294] loss/params: 0.019453\n",
      "[1218 22:05:29 @monitor.py:294] loss/total_cost: 0.087815\n",
      "[1218 22:05:29 @monitor.py:294] loss/widths: 0.007486\n",
      "[1218 22:05:29 @monitor.py:294] validation_loss/params: 0.025452\n",
      "[1218 22:05:29 @monitor.py:294] validation_loss/widths: 0.0075697\n",
      "[1218 22:05:29 @base.py:175] Start Epoch 121 ...\n"
     ]
    },
    {
     "name": "stderr",
     "output_type": "stream",
     "text": [
      "100%|#############################################|70/70[00:01<00:00,51.03it/s]\n"
     ]
    },
    {
     "name": "stdout",
     "output_type": "stream",
     "text": [
      "[1218 22:05:31 @base.py:183] Epoch 121 (global_step 8470) finished, time:1.38 sec.\n",
      "[1218 22:05:31 @saver.py:76] Model saved to ./train_log/linenetFwbVSI2\\model-8470.\n"
     ]
    },
    {
     "name": "stderr",
     "output_type": "stream",
     "text": [
      "100%|############################################|10/10[00:00<00:00,108.41it/s]\n"
     ]
    },
    {
     "name": "stdout",
     "output_type": "stream",
     "text": [
      "[1218 22:05:31 @monitor.py:294] input_queue_size: 50\n",
      "[1218 22:05:31 @monitor.py:294] learning_rate: 0.0004\n",
      "[1218 22:05:31 @monitor.py:294] loss/params: 0.01931\n",
      "[1218 22:05:31 @monitor.py:294] loss/total_cost: 0.087376\n",
      "[1218 22:05:31 @monitor.py:294] loss/widths: 0.0076222\n",
      "[1218 22:05:31 @monitor.py:294] validation_loss/params: 0.025537\n",
      "[1218 22:05:31 @monitor.py:294] validation_loss/widths: 0.0074704\n",
      "[1218 22:05:31 @base.py:175] Start Epoch 122 ...\n"
     ]
    },
    {
     "name": "stderr",
     "output_type": "stream",
     "text": [
      "100%|#############################################|70/70[00:01<00:00,51.03it/s]\n"
     ]
    },
    {
     "name": "stdout",
     "output_type": "stream",
     "text": [
      "[1218 22:05:33 @base.py:183] Epoch 122 (global_step 8540) finished, time:1.38 sec.\n",
      "[1218 22:05:33 @saver.py:76] Model saved to ./train_log/linenetFwbVSI2\\model-8540.\n"
     ]
    },
    {
     "name": "stderr",
     "output_type": "stream",
     "text": [
      "100%|############################################|10/10[00:00<00:00,108.41it/s]\n"
     ]
    },
    {
     "name": "stdout",
     "output_type": "stream",
     "text": [
      "[1218 22:05:33 @monitor.py:294] input_queue_size: 50\n",
      "[1218 22:05:33 @monitor.py:294] learning_rate: 0.0004\n",
      "[1218 22:05:33 @monitor.py:294] loss/params: 0.019411\n",
      "[1218 22:05:33 @monitor.py:294] loss/total_cost: 0.087621\n",
      "[1218 22:05:33 @monitor.py:294] loss/widths: 0.0074646\n",
      "[1218 22:05:33 @monitor.py:294] validation_loss/params: 0.025777\n",
      "[1218 22:05:33 @monitor.py:294] validation_loss/widths: 0.0074739\n",
      "[1218 22:05:33 @base.py:175] Start Epoch 123 ...\n"
     ]
    },
    {
     "name": "stderr",
     "output_type": "stream",
     "text": [
      "100%|#############################################|70/70[00:01<00:00,52.02it/s]\n"
     ]
    },
    {
     "name": "stdout",
     "output_type": "stream",
     "text": [
      "[1218 22:05:34 @base.py:183] Epoch 123 (global_step 8610) finished, time:1.35 sec.\n",
      "[1218 22:05:35 @saver.py:76] Model saved to ./train_log/linenetFwbVSI2\\model-8610.\n"
     ]
    },
    {
     "name": "stderr",
     "output_type": "stream",
     "text": [
      "100%|#############################################|10/10[00:00<00:00,83.81it/s]\n"
     ]
    },
    {
     "name": "stdout",
     "output_type": "stream",
     "text": [
      "[1218 22:05:35 @monitor.py:294] input_queue_size: 50\n",
      "[1218 22:05:35 @monitor.py:294] learning_rate: 0.0004\n",
      "[1218 22:05:35 @monitor.py:294] loss/params: 0.019116\n",
      "[1218 22:05:35 @monitor.py:294] loss/total_cost: 0.086524\n",
      "[1218 22:05:35 @monitor.py:294] loss/widths: 0.0075454\n",
      "[1218 22:05:35 @monitor.py:294] validation_loss/params: 0.026135\n",
      "[1218 22:05:35 @monitor.py:294] validation_loss/widths: 0.0082586\n",
      "[1218 22:05:35 @base.py:175] Start Epoch 124 ...\n"
     ]
    },
    {
     "name": "stderr",
     "output_type": "stream",
     "text": [
      "100%|#############################################|70/70[00:01<00:00,50.81it/s]\n"
     ]
    },
    {
     "name": "stdout",
     "output_type": "stream",
     "text": [
      "[1218 22:05:36 @base.py:183] Epoch 124 (global_step 8680) finished, time:1.38 sec.\n",
      "[1218 22:05:37 @saver.py:76] Model saved to ./train_log/linenetFwbVSI2\\model-8680.\n"
     ]
    },
    {
     "name": "stderr",
     "output_type": "stream",
     "text": [
      "100%|############################################|10/10[00:00<00:00,109.60it/s]\n"
     ]
    },
    {
     "name": "stdout",
     "output_type": "stream",
     "text": [
      "[1218 22:05:37 @monitor.py:294] input_queue_size: 50\n",
      "[1218 22:05:37 @monitor.py:294] learning_rate: 0.0004\n",
      "[1218 22:05:37 @monitor.py:294] loss/params: 0.018895\n",
      "[1218 22:05:37 @monitor.py:294] loss/total_cost: 0.085614\n",
      "[1218 22:05:37 @monitor.py:294] loss/widths: 0.0075213\n",
      "[1218 22:05:37 @monitor.py:294] validation_loss/params: 0.025417\n",
      "[1218 22:05:37 @monitor.py:294] validation_loss/widths: 0.0080741\n",
      "[1218 22:05:37 @base.py:175] Start Epoch 125 ...\n"
     ]
    },
    {
     "name": "stderr",
     "output_type": "stream",
     "text": [
      "100%|#############################################|70/70[00:01<00:00,51.07it/s]\n"
     ]
    },
    {
     "name": "stdout",
     "output_type": "stream",
     "text": [
      "[1218 22:05:38 @base.py:183] Epoch 125 (global_step 8750) finished, time:1.37 sec.\n",
      "[1218 22:05:39 @saver.py:76] Model saved to ./train_log/linenetFwbVSI2\\model-8750.\n"
     ]
    },
    {
     "name": "stderr",
     "output_type": "stream",
     "text": [
      "100%|#############################################|10/10[00:00<00:00,89.05it/s]\n"
     ]
    },
    {
     "name": "stdout",
     "output_type": "stream",
     "text": [
      "[1218 22:05:39 @monitor.py:294] input_queue_size: 50\n",
      "[1218 22:05:39 @monitor.py:294] learning_rate: 0.0004\n",
      "[1218 22:05:39 @monitor.py:294] loss/params: 0.018833\n",
      "[1218 22:05:39 @monitor.py:294] loss/total_cost: 0.085392\n",
      "[1218 22:05:39 @monitor.py:294] loss/widths: 0.0075484\n",
      "[1218 22:05:39 @monitor.py:294] validation_loss/params: 0.025148\n",
      "[1218 22:05:39 @monitor.py:294] validation_loss/widths: 0.0072921\n",
      "[1218 22:05:39 @base.py:175] Start Epoch 126 ...\n"
     ]
    },
    {
     "name": "stderr",
     "output_type": "stream",
     "text": [
      "100%|#############################################|70/70[00:01<00:00,51.49it/s]\n"
     ]
    },
    {
     "name": "stdout",
     "output_type": "stream",
     "text": [
      "[1218 22:05:40 @base.py:183] Epoch 126 (global_step 8820) finished, time:1.39 sec.\n",
      "[1218 22:05:41 @saver.py:76] Model saved to ./train_log/linenetFwbVSI2\\model-8820.\n"
     ]
    },
    {
     "name": "stderr",
     "output_type": "stream",
     "text": [
      "100%|#############################################|10/10[00:00<00:00,83.11it/s]\n"
     ]
    },
    {
     "name": "stdout",
     "output_type": "stream",
     "text": [
      "[1218 22:05:41 @monitor.py:294] input_queue_size: 50\n",
      "[1218 22:05:41 @monitor.py:294] learning_rate: 0.0004\n",
      "[1218 22:05:41 @monitor.py:294] loss/params: 0.018607\n",
      "[1218 22:05:41 @monitor.py:294] loss/total_cost: 0.084162\n",
      "[1218 22:05:41 @monitor.py:294] loss/widths: 0.0072237\n",
      "[1218 22:05:41 @monitor.py:294] validation_loss/params: 0.024828\n",
      "[1218 22:05:41 @monitor.py:294] validation_loss/widths: 0.0072343\n",
      "[1218 22:05:41 @base.py:175] Start Epoch 127 ...\n"
     ]
    },
    {
     "name": "stderr",
     "output_type": "stream",
     "text": [
      "100%|#############################################|70/70[00:01<00:00,52.10it/s]\n"
     ]
    },
    {
     "name": "stdout",
     "output_type": "stream",
     "text": [
      "[1218 22:05:42 @base.py:183] Epoch 127 (global_step 8890) finished, time:1.35 sec.\n",
      "[1218 22:05:43 @saver.py:76] Model saved to ./train_log/linenetFwbVSI2\\model-8890.\n"
     ]
    },
    {
     "name": "stderr",
     "output_type": "stream",
     "text": [
      "100%|#############################################|10/10[00:00<00:00,93.21it/s]\n"
     ]
    },
    {
     "name": "stdout",
     "output_type": "stream",
     "text": [
      "[1218 22:05:43 @monitor.py:294] input_queue_size: 50\n",
      "[1218 22:05:43 @monitor.py:294] learning_rate: 0.0004\n",
      "[1218 22:05:43 @monitor.py:294] loss/params: 0.018422\n",
      "[1218 22:05:43 @monitor.py:294] loss/total_cost: 0.08339\n",
      "[1218 22:05:43 @monitor.py:294] loss/widths: 0.0071924\n",
      "[1218 22:05:43 @monitor.py:294] validation_loss/params: 0.025591\n",
      "[1218 22:05:43 @monitor.py:294] validation_loss/widths: 0.0076545\n",
      "[1218 22:05:43 @base.py:175] Start Epoch 128 ...\n"
     ]
    },
    {
     "name": "stderr",
     "output_type": "stream",
     "text": [
      "100%|#############################################|70/70[00:01<00:00,52.22it/s]\n"
     ]
    },
    {
     "name": "stdout",
     "output_type": "stream",
     "text": [
      "[1218 22:05:44 @base.py:183] Epoch 128 (global_step 8960) finished, time:1.35 sec.\n",
      "[1218 22:05:45 @saver.py:76] Model saved to ./train_log/linenetFwbVSI2\\model-8960.\n"
     ]
    },
    {
     "name": "stderr",
     "output_type": "stream",
     "text": [
      "100%|#############################################|10/10[00:00<00:00,94.99it/s]\n"
     ]
    },
    {
     "name": "stdout",
     "output_type": "stream",
     "text": [
      "[1218 22:05:45 @monitor.py:294] input_queue_size: 50\n",
      "[1218 22:05:45 @monitor.py:294] learning_rate: 0.0004\n",
      "[1218 22:05:45 @monitor.py:294] loss/params: 0.018129\n",
      "[1218 22:05:45 @monitor.py:294] loss/total_cost: 0.082236\n",
      "[1218 22:05:45 @monitor.py:294] loss/widths: 0.0072083\n",
      "[1218 22:05:45 @monitor.py:294] validation_loss/params: 0.025529\n",
      "[1218 22:05:45 @monitor.py:294] validation_loss/widths: 0.007331\n",
      "[1218 22:05:45 @base.py:175] Start Epoch 129 ...\n"
     ]
    },
    {
     "name": "stderr",
     "output_type": "stream",
     "text": [
      "100%|#############################################|70/70[00:01<00:00,52.14it/s]\n"
     ]
    },
    {
     "name": "stdout",
     "output_type": "stream",
     "text": [
      "[1218 22:05:46 @base.py:183] Epoch 129 (global_step 9030) finished, time:1.35 sec.\n",
      "[1218 22:05:46 @saver.py:76] Model saved to ./train_log/linenetFwbVSI2\\model-9030.\n"
     ]
    },
    {
     "name": "stderr",
     "output_type": "stream",
     "text": [
      "100%|#############################################|10/10[00:00<00:00,92.35it/s]\n"
     ]
    },
    {
     "name": "stdout",
     "output_type": "stream",
     "text": [
      "[1218 22:05:47 @monitor.py:294] input_queue_size: 50\n",
      "[1218 22:05:47 @monitor.py:294] learning_rate: 0.0004\n",
      "[1218 22:05:47 @monitor.py:294] loss/params: 0.018022\n",
      "[1218 22:05:47 @monitor.py:294] loss/total_cost: 0.082193\n",
      "[1218 22:05:47 @monitor.py:294] loss/widths: 0.0075966\n",
      "[1218 22:05:47 @monitor.py:294] validation_loss/params: 0.025489\n",
      "[1218 22:05:47 @monitor.py:294] validation_loss/widths: 0.0072934\n",
      "[1218 22:05:47 @base.py:175] Start Epoch 130 ...\n"
     ]
    },
    {
     "name": "stderr",
     "output_type": "stream",
     "text": [
      "100%|#############################################|70/70[00:01<00:00,51.68it/s]\n"
     ]
    },
    {
     "name": "stdout",
     "output_type": "stream",
     "text": [
      "[1218 22:05:48 @base.py:183] Epoch 130 (global_step 9100) finished, time:1.36 sec.\n",
      "[1218 22:05:48 @saver.py:76] Model saved to ./train_log/linenetFwbVSI2\\model-9100.\n"
     ]
    },
    {
     "name": "stderr",
     "output_type": "stream",
     "text": [
      "100%|#############################################|10/10[00:00<00:00,89.05it/s]\n"
     ]
    },
    {
     "name": "stdout",
     "output_type": "stream",
     "text": [
      "[1218 22:05:49 @monitor.py:294] input_queue_size: 50\n",
      "[1218 22:05:49 @monitor.py:294] learning_rate: 0.0004\n",
      "[1218 22:05:49 @monitor.py:294] loss/params: 0.017775\n",
      "[1218 22:05:49 @monitor.py:294] loss/total_cost: 0.080864\n",
      "[1218 22:05:49 @monitor.py:294] loss/widths: 0.0072559\n",
      "[1218 22:05:49 @monitor.py:294] validation_loss/params: 0.025267\n",
      "[1218 22:05:49 @monitor.py:294] validation_loss/widths: 0.007259\n",
      "[1218 22:05:49 @base.py:175] Start Epoch 131 ...\n"
     ]
    },
    {
     "name": "stderr",
     "output_type": "stream",
     "text": [
      "100%|#############################################|70/70[00:01<00:00,51.68it/s]\n"
     ]
    },
    {
     "name": "stdout",
     "output_type": "stream",
     "text": [
      "[1218 22:05:50 @base.py:183] Epoch 131 (global_step 9170) finished, time:1.36 sec.\n",
      "[1218 22:05:50 @saver.py:76] Model saved to ./train_log/linenetFwbVSI2\\model-9170.\n"
     ]
    },
    {
     "name": "stderr",
     "output_type": "stream",
     "text": [
      "100%|############################################|10/10[00:00<00:00,114.64it/s]\n"
     ]
    },
    {
     "name": "stdout",
     "output_type": "stream",
     "text": [
      "[1218 22:05:50 @monitor.py:294] input_queue_size: 50\n",
      "[1218 22:05:50 @monitor.py:294] learning_rate: 0.0004\n",
      "[1218 22:05:50 @monitor.py:294] loss/params: 0.017783\n",
      "[1218 22:05:50 @monitor.py:294] loss/total_cost: 0.080808\n",
      "[1218 22:05:50 @monitor.py:294] loss/widths: 0.0071694\n",
      "[1218 22:05:50 @monitor.py:294] validation_loss/params: 0.025514\n",
      "[1218 22:05:50 @monitor.py:294] validation_loss/widths: 0.0072503\n",
      "[1218 22:05:50 @base.py:175] Start Epoch 132 ...\n"
     ]
    },
    {
     "name": "stderr",
     "output_type": "stream",
     "text": [
      "100%|#############################################|70/70[00:01<00:00,52.26it/s]\n"
     ]
    },
    {
     "name": "stdout",
     "output_type": "stream",
     "text": [
      "[1218 22:05:52 @base.py:183] Epoch 132 (global_step 9240) finished, time:1.34 sec.\n",
      "[1218 22:05:52 @saver.py:76] Model saved to ./train_log/linenetFwbVSI2\\model-9240.\n"
     ]
    },
    {
     "name": "stderr",
     "output_type": "stream",
     "text": [
      "100%|############################################|10/10[00:00<00:00,104.99it/s]\n"
     ]
    },
    {
     "name": "stdout",
     "output_type": "stream",
     "text": [
      "[1218 22:05:52 @monitor.py:294] input_queue_size: 50\n",
      "[1218 22:05:52 @monitor.py:294] learning_rate: 0.0004\n",
      "[1218 22:05:52 @monitor.py:294] loss/params: 0.017526\n",
      "[1218 22:05:52 @monitor.py:294] loss/total_cost: 0.07949\n",
      "[1218 22:05:52 @monitor.py:294] loss/widths: 0.0068806\n",
      "[1218 22:05:52 @monitor.py:294] validation_loss/params: 0.025502\n",
      "[1218 22:05:52 @monitor.py:294] validation_loss/widths: 0.0071524\n",
      "[1218 22:05:52 @base.py:175] Start Epoch 133 ...\n"
     ]
    },
    {
     "name": "stderr",
     "output_type": "stream",
     "text": [
      "100%|#############################################|70/70[00:01<00:00,52.06it/s]\n"
     ]
    },
    {
     "name": "stdout",
     "output_type": "stream",
     "text": [
      "[1218 22:05:54 @base.py:183] Epoch 133 (global_step 9310) finished, time:1.35 sec.\n",
      "[1218 22:05:54 @saver.py:76] Model saved to ./train_log/linenetFwbVSI2\\model-9310.\n"
     ]
    },
    {
     "name": "stderr",
     "output_type": "stream",
     "text": [
      "100%|############################################|10/10[00:00<00:00,112.06it/s]\n"
     ]
    },
    {
     "name": "stdout",
     "output_type": "stream",
     "text": [
      "[1218 22:05:54 @monitor.py:294] input_queue_size: 50\n",
      "[1218 22:05:54 @monitor.py:294] learning_rate: 0.0004\n",
      "[1218 22:05:54 @monitor.py:294] loss/params: 0.017522\n",
      "[1218 22:05:54 @monitor.py:294] loss/total_cost: 0.079541\n",
      "[1218 22:05:54 @monitor.py:294] loss/widths: 0.0069476\n",
      "[1218 22:05:54 @monitor.py:294] validation_loss/params: 0.025442\n",
      "[1218 22:05:54 @monitor.py:294] validation_loss/widths: 0.007091\n",
      "[1218 22:05:54 @base.py:175] Start Epoch 134 ...\n"
     ]
    },
    {
     "name": "stderr",
     "output_type": "stream",
     "text": [
      "100%|#############################################|70/70[00:01<00:00,52.22it/s]\n"
     ]
    },
    {
     "name": "stdout",
     "output_type": "stream",
     "text": [
      "[1218 22:05:56 @base.py:183] Epoch 134 (global_step 9380) finished, time:1.34 sec.\n",
      "[1218 22:05:56 @saver.py:76] Model saved to ./train_log/linenetFwbVSI2\\model-9380.\n"
     ]
    },
    {
     "name": "stderr",
     "output_type": "stream",
     "text": [
      "100%|#############################################|10/10[00:00<00:00,89.85it/s]\n"
     ]
    },
    {
     "name": "stdout",
     "output_type": "stream",
     "text": [
      "[1218 22:05:56 @monitor.py:294] input_queue_size: 50\n",
      "[1218 22:05:56 @monitor.py:294] learning_rate: 0.0004\n",
      "[1218 22:05:56 @monitor.py:294] loss/params: 0.017103\n",
      "[1218 22:05:56 @monitor.py:294] loss/total_cost: 0.078034\n",
      "[1218 22:05:56 @monitor.py:294] loss/widths: 0.007118\n",
      "[1218 22:05:56 @monitor.py:294] validation_loss/params: 0.025803\n",
      "[1218 22:05:56 @monitor.py:294] validation_loss/widths: 0.0076481\n",
      "[1218 22:05:56 @base.py:175] Start Epoch 135 ...\n"
     ]
    },
    {
     "name": "stderr",
     "output_type": "stream",
     "text": [
      "100%|#############################################|70/70[00:01<00:00,51.87it/s]\n"
     ]
    },
    {
     "name": "stdout",
     "output_type": "stream",
     "text": [
      "[1218 22:05:58 @base.py:183] Epoch 135 (global_step 9450) finished, time:1.35 sec.\n",
      "[1218 22:05:58 @saver.py:76] Model saved to ./train_log/linenetFwbVSI2\\model-9450.\n"
     ]
    },
    {
     "name": "stderr",
     "output_type": "stream",
     "text": [
      "100%|#############################################|10/10[00:00<00:00,83.11it/s]\n"
     ]
    },
    {
     "name": "stdout",
     "output_type": "stream",
     "text": [
      "[1218 22:05:58 @monitor.py:294] input_queue_size: 50\n",
      "[1218 22:05:58 @monitor.py:294] learning_rate: 0.0004\n",
      "[1218 22:05:58 @monitor.py:294] loss/params: 0.016799\n",
      "[1218 22:05:58 @monitor.py:294] loss/total_cost: 0.076637\n",
      "[1218 22:05:58 @monitor.py:294] loss/widths: 0.0069334\n",
      "[1218 22:05:58 @monitor.py:294] validation_loss/params: 0.025304\n",
      "[1218 22:05:58 @monitor.py:294] validation_loss/widths: 0.0073364\n",
      "[1218 22:05:58 @base.py:175] Start Epoch 136 ...\n"
     ]
    },
    {
     "name": "stderr",
     "output_type": "stream",
     "text": [
      "100%|#############################################|70/70[00:01<00:00,51.83it/s]\n"
     ]
    },
    {
     "name": "stdout",
     "output_type": "stream",
     "text": [
      "[1218 22:05:59 @base.py:183] Epoch 136 (global_step 9520) finished, time:1.35 sec.\n",
      "[1218 22:06:00 @saver.py:76] Model saved to ./train_log/linenetFwbVSI2\\model-9520.\n"
     ]
    },
    {
     "name": "stderr",
     "output_type": "stream",
     "text": [
      "100%|#############################################|10/10[00:00<00:00,95.90it/s]\n"
     ]
    },
    {
     "name": "stdout",
     "output_type": "stream",
     "text": [
      "[1218 22:06:00 @monitor.py:294] input_queue_size: 50\n",
      "[1218 22:06:00 @monitor.py:294] learning_rate: 0.0004\n",
      "[1218 22:06:00 @monitor.py:294] loss/params: 0.016897\n",
      "[1218 22:06:00 @monitor.py:294] loss/total_cost: 0.076868\n",
      "[1218 22:06:00 @monitor.py:294] loss/widths: 0.006773\n",
      "[1218 22:06:00 @monitor.py:294] validation_loss/params: 0.025738\n",
      "[1218 22:06:00 @monitor.py:294] validation_loss/widths: 0.0076863\n",
      "[1218 22:06:00 @base.py:175] Start Epoch 137 ...\n"
     ]
    },
    {
     "name": "stderr",
     "output_type": "stream",
     "text": [
      "100%|#############################################|70/70[00:01<00:00,50.66it/s]\n"
     ]
    },
    {
     "name": "stdout",
     "output_type": "stream",
     "text": [
      "[1218 22:06:01 @base.py:183] Epoch 137 (global_step 9590) finished, time:1.39 sec.\n",
      "[1218 22:06:02 @saver.py:76] Model saved to ./train_log/linenetFwbVSI2\\model-9590.\n"
     ]
    },
    {
     "name": "stderr",
     "output_type": "stream",
     "text": [
      "100%|############################################|10/10[00:00<00:00,108.40it/s]\n"
     ]
    },
    {
     "name": "stdout",
     "output_type": "stream",
     "text": [
      "[1218 22:06:02 @monitor.py:294] input_queue_size: 50\n",
      "[1218 22:06:02 @monitor.py:294] learning_rate: 0.0004\n",
      "[1218 22:06:02 @monitor.py:294] loss/params: 0.016505\n",
      "[1218 22:06:02 @monitor.py:294] loss/total_cost: 0.07529\n",
      "[1218 22:06:02 @monitor.py:294] loss/widths: 0.006764\n",
      "[1218 22:06:02 @monitor.py:294] validation_loss/params: 0.025877\n",
      "[1218 22:06:02 @monitor.py:294] validation_loss/widths: 0.0074136\n",
      "[1218 22:06:02 @base.py:175] Start Epoch 138 ...\n"
     ]
    },
    {
     "name": "stderr",
     "output_type": "stream",
     "text": [
      "100%|#############################################|70/70[00:01<00:00,51.26it/s]\n"
     ]
    },
    {
     "name": "stdout",
     "output_type": "stream",
     "text": [
      "[1218 22:06:03 @base.py:183] Epoch 138 (global_step 9660) finished, time:1.37 sec.\n",
      "[1218 22:06:04 @saver.py:76] Model saved to ./train_log/linenetFwbVSI2\\model-9660.\n"
     ]
    },
    {
     "name": "stderr",
     "output_type": "stream",
     "text": [
      "100%|############################################|10/10[00:00<00:00,101.74it/s]\n"
     ]
    },
    {
     "name": "stdout",
     "output_type": "stream",
     "text": [
      "[1218 22:06:04 @monitor.py:294] input_queue_size: 50\n",
      "[1218 22:06:04 @monitor.py:294] learning_rate: 0.0004\n",
      "[1218 22:06:04 @monitor.py:294] loss/params: 0.016427\n",
      "[1218 22:06:04 @monitor.py:294] loss/total_cost: 0.074861\n",
      "[1218 22:06:04 @monitor.py:294] loss/widths: 0.0066471\n",
      "[1218 22:06:04 @monitor.py:294] validation_loss/params: 0.025453\n",
      "[1218 22:06:04 @monitor.py:294] validation_loss/widths: 0.0071564\n",
      "[1218 22:06:04 @base.py:175] Start Epoch 139 ...\n"
     ]
    },
    {
     "name": "stderr",
     "output_type": "stream",
     "text": [
      "100%|#############################################|70/70[00:01<00:00,52.49it/s]\n"
     ]
    },
    {
     "name": "stdout",
     "output_type": "stream",
     "text": [
      "[1218 22:06:05 @base.py:183] Epoch 139 (global_step 9730) finished, time:1.34 sec.\n",
      "[1218 22:06:06 @saver.py:76] Model saved to ./train_log/linenetFwbVSI2\\model-9730.\n"
     ]
    },
    {
     "name": "stderr",
     "output_type": "stream",
     "text": [
      "100%|############################################|10/10[00:00<00:00,112.06it/s]\n"
     ]
    },
    {
     "name": "stdout",
     "output_type": "stream",
     "text": [
      "[1218 22:06:06 @monitor.py:294] input_queue_size: 50\n",
      "[1218 22:06:06 @monitor.py:294] learning_rate: 0.0004\n",
      "[1218 22:06:06 @monitor.py:294] loss/params: 0.016241\n",
      "[1218 22:06:06 @monitor.py:294] loss/total_cost: 0.074333\n",
      "[1218 22:06:06 @monitor.py:294] loss/widths: 0.0068655\n",
      "[1218 22:06:06 @monitor.py:294] validation_loss/params: 0.026108\n",
      "[1218 22:06:06 @monitor.py:294] validation_loss/widths: 0.007264\n",
      "[1218 22:06:06 @base.py:175] Start Epoch 140 ...\n"
     ]
    },
    {
     "name": "stderr",
     "output_type": "stream",
     "text": [
      "100%|#############################################|70/70[00:01<00:00,52.22it/s]\n"
     ]
    },
    {
     "name": "stdout",
     "output_type": "stream",
     "text": [
      "[1218 22:06:07 @base.py:183] Epoch 140 (global_step 9800) finished, time:1.35 sec.\n",
      "[1218 22:06:07 @saver.py:76] Model saved to ./train_log/linenetFwbVSI2\\model-9800.\n"
     ]
    },
    {
     "name": "stderr",
     "output_type": "stream",
     "text": [
      "100%|############################################|10/10[00:00<00:00,108.38it/s]\n"
     ]
    },
    {
     "name": "stdout",
     "output_type": "stream",
     "text": [
      "[1218 22:06:08 @monitor.py:294] input_queue_size: 50\n",
      "[1218 22:06:08 @monitor.py:294] learning_rate: 0.0004\n",
      "[1218 22:06:08 @monitor.py:294] loss/params: 0.016296\n",
      "[1218 22:06:08 @monitor.py:294] loss/total_cost: 0.074484\n",
      "[1218 22:06:08 @monitor.py:294] loss/widths: 0.0067974\n",
      "[1218 22:06:08 @monitor.py:294] validation_loss/params: 0.025481\n",
      "[1218 22:06:08 @monitor.py:294] validation_loss/widths: 0.0077005\n",
      "[1218 22:06:08 @base.py:175] Start Epoch 141 ...\n"
     ]
    },
    {
     "name": "stderr",
     "output_type": "stream",
     "text": [
      "100%|#############################################|70/70[00:01<00:00,52.49it/s]\n"
     ]
    },
    {
     "name": "stdout",
     "output_type": "stream",
     "text": [
      "[1218 22:06:09 @base.py:183] Epoch 141 (global_step 9870) finished, time:1.34 sec.\n",
      "[1218 22:06:09 @saver.py:76] Model saved to ./train_log/linenetFwbVSI2\\model-9870.\n"
     ]
    },
    {
     "name": "stderr",
     "output_type": "stream",
     "text": [
      "100%|#############################################|10/10[00:00<00:00,97.78it/s]\n"
     ]
    },
    {
     "name": "stdout",
     "output_type": "stream",
     "text": [
      "[1218 22:06:09 @monitor.py:294] input_queue_size: 50\n",
      "[1218 22:06:09 @monitor.py:294] learning_rate: 0.0004\n",
      "[1218 22:06:09 @monitor.py:294] loss/params: 0.015881\n",
      "[1218 22:06:09 @monitor.py:294] loss/total_cost: 0.072798\n",
      "[1218 22:06:09 @monitor.py:294] loss/widths: 0.0067733\n",
      "[1218 22:06:09 @monitor.py:294] validation_loss/params: 0.026006\n",
      "[1218 22:06:09 @monitor.py:294] validation_loss/widths: 0.0072557\n",
      "[1218 22:06:09 @base.py:175] Start Epoch 142 ...\n"
     ]
    },
    {
     "name": "stderr",
     "output_type": "stream",
     "text": [
      "100%|#############################################|70/70[00:01<00:00,52.69it/s]\n"
     ]
    },
    {
     "name": "stdout",
     "output_type": "stream",
     "text": [
      "[1218 22:06:11 @base.py:183] Epoch 142 (global_step 9940) finished, time:1.33 sec.\n",
      "[1218 22:06:11 @saver.py:76] Model saved to ./train_log/linenetFwbVSI2\\model-9940.\n"
     ]
    },
    {
     "name": "stderr",
     "output_type": "stream",
     "text": [
      "100%|#############################################|10/10[00:00<00:00,85.98it/s]\n"
     ]
    },
    {
     "name": "stdout",
     "output_type": "stream",
     "text": [
      "[1218 22:06:11 @monitor.py:294] input_queue_size: 50\n",
      "[1218 22:06:11 @monitor.py:294] learning_rate: 0.0004\n",
      "[1218 22:06:11 @monitor.py:294] loss/params: 0.01613\n",
      "[1218 22:06:11 @monitor.py:294] loss/total_cost: 0.073905\n",
      "[1218 22:06:11 @monitor.py:294] loss/widths: 0.0068827\n",
      "[1218 22:06:11 @monitor.py:294] validation_loss/params: 0.025866\n",
      "[1218 22:06:11 @monitor.py:294] validation_loss/widths: 0.0073467\n",
      "[1218 22:06:11 @base.py:175] Start Epoch 143 ...\n"
     ]
    },
    {
     "name": "stderr",
     "output_type": "stream",
     "text": [
      "100%|#############################################|70/70[00:01<00:00,52.65it/s]\n"
     ]
    },
    {
     "name": "stdout",
     "output_type": "stream",
     "text": [
      "[1218 22:06:13 @base.py:183] Epoch 143 (global_step 10010) finished, time:1.33 sec.\n",
      "[1218 22:06:13 @saver.py:76] Model saved to ./train_log/linenetFwbVSI2\\model-10010.\n"
     ]
    },
    {
     "name": "stderr",
     "output_type": "stream",
     "text": [
      "100%|#############################################|10/10[00:00<00:00,93.21it/s]\n"
     ]
    },
    {
     "name": "stdout",
     "output_type": "stream",
     "text": [
      "[1218 22:06:13 @monitor.py:294] input_queue_size: 50\n",
      "[1218 22:06:13 @monitor.py:294] learning_rate: 0.0004\n",
      "[1218 22:06:13 @monitor.py:294] loss/params: 0.015546\n",
      "[1218 22:06:13 @monitor.py:294] loss/total_cost: 0.071574\n",
      "[1218 22:06:13 @monitor.py:294] loss/widths: 0.0068882\n",
      "[1218 22:06:13 @monitor.py:294] validation_loss/params: 0.025641\n",
      "[1218 22:06:13 @monitor.py:294] validation_loss/widths: 0.0071223\n",
      "[1218 22:06:13 @base.py:175] Start Epoch 144 ...\n"
     ]
    },
    {
     "name": "stderr",
     "output_type": "stream",
     "text": [
      "100%|#############################################|70/70[00:01<00:00,52.37it/s]\n"
     ]
    },
    {
     "name": "stdout",
     "output_type": "stream",
     "text": [
      "[1218 22:06:15 @base.py:183] Epoch 144 (global_step 10080) finished, time:1.34 sec.\n",
      "[1218 22:06:15 @saver.py:76] Model saved to ./train_log/linenetFwbVSI2\\model-10080.\n"
     ]
    },
    {
     "name": "stderr",
     "output_type": "stream",
     "text": [
      "100%|############################################|10/10[00:00<00:00,117.33it/s]\n"
     ]
    },
    {
     "name": "stdout",
     "output_type": "stream",
     "text": [
      "[1218 22:06:15 @monitor.py:294] input_queue_size: 50\n",
      "[1218 22:06:15 @monitor.py:294] learning_rate: 0.0004\n",
      "[1218 22:06:15 @monitor.py:294] loss/params: 0.015374\n",
      "[1218 22:06:15 @monitor.py:294] loss/total_cost: 0.070444\n",
      "[1218 22:06:15 @monitor.py:294] loss/widths: 0.0064492\n",
      "[1218 22:06:15 @monitor.py:294] validation_loss/params: 0.025703\n",
      "[1218 22:06:15 @monitor.py:294] validation_loss/widths: 0.0073144\n",
      "[1218 22:06:15 @base.py:175] Start Epoch 145 ...\n"
     ]
    },
    {
     "name": "stderr",
     "output_type": "stream",
     "text": [
      "100%|#############################################|70/70[00:01<00:00,52.97it/s]\n"
     ]
    },
    {
     "name": "stdout",
     "output_type": "stream",
     "text": [
      "[1218 22:06:16 @base.py:183] Epoch 145 (global_step 10150) finished, time:1.32 sec.\n",
      "[1218 22:06:17 @saver.py:76] Model saved to ./train_log/linenetFwbVSI2\\model-10150.\n"
     ]
    },
    {
     "name": "stderr",
     "output_type": "stream",
     "text": [
      "100%|#############################################|10/10[00:00<00:00,94.09it/s]\n"
     ]
    },
    {
     "name": "stdout",
     "output_type": "stream",
     "text": [
      "[1218 22:06:17 @monitor.py:294] input_queue_size: 50\n",
      "[1218 22:06:17 @monitor.py:294] learning_rate: 0.0004\n",
      "[1218 22:06:17 @monitor.py:294] loss/params: 0.015289\n",
      "[1218 22:06:17 @monitor.py:294] loss/total_cost: 0.070159\n",
      "[1218 22:06:17 @monitor.py:294] loss/widths: 0.0065012\n",
      "[1218 22:06:17 @monitor.py:294] validation_loss/params: 0.026375\n",
      "[1218 22:06:17 @monitor.py:294] validation_loss/widths: 0.0078233\n",
      "[1218 22:06:17 @base.py:175] Start Epoch 146 ...\n"
     ]
    },
    {
     "name": "stderr",
     "output_type": "stream",
     "text": [
      "100%|#############################################|70/70[00:01<00:00,52.73it/s]\n"
     ]
    },
    {
     "name": "stdout",
     "output_type": "stream",
     "text": [
      "[1218 22:06:18 @base.py:183] Epoch 146 (global_step 10220) finished, time:1.33 sec.\n",
      "[1218 22:06:19 @saver.py:76] Model saved to ./train_log/linenetFwbVSI2\\model-10220.\n"
     ]
    },
    {
     "name": "stderr",
     "output_type": "stream",
     "text": [
      "100%|############################################|10/10[00:00<00:00,114.61it/s]\n"
     ]
    },
    {
     "name": "stdout",
     "output_type": "stream",
     "text": [
      "[1218 22:06:19 @monitor.py:294] input_queue_size: 50\n",
      "[1218 22:06:19 @monitor.py:294] learning_rate: 0.0004\n",
      "[1218 22:06:19 @monitor.py:294] loss/params: 0.015054\n",
      "[1218 22:06:19 @monitor.py:294] loss/total_cost: 0.06941\n",
      "[1218 22:06:19 @monitor.py:294] loss/widths: 0.0066924\n",
      "[1218 22:06:19 @monitor.py:294] validation_loss/params: 0.025935\n",
      "[1218 22:06:19 @monitor.py:294] validation_loss/widths: 0.0072442\n",
      "[1218 22:06:19 @base.py:175] Start Epoch 147 ...\n"
     ]
    },
    {
     "name": "stderr",
     "output_type": "stream",
     "text": [
      "100%|#############################################|70/70[00:01<00:00,52.14it/s]\n"
     ]
    },
    {
     "name": "stdout",
     "output_type": "stream",
     "text": [
      "[1218 22:06:20 @base.py:183] Epoch 147 (global_step 10290) finished, time:1.35 sec.\n",
      "[1218 22:06:20 @saver.py:76] Model saved to ./train_log/linenetFwbVSI2\\model-10290.\n"
     ]
    },
    {
     "name": "stderr",
     "output_type": "stream",
     "text": [
      "100%|#############################################|10/10[00:00<00:00,98.77it/s]\n"
     ]
    },
    {
     "name": "stdout",
     "output_type": "stream",
     "text": [
      "[1218 22:06:21 @monitor.py:294] input_queue_size: 50\n",
      "[1218 22:06:21 @monitor.py:294] learning_rate: 0.0004\n",
      "[1218 22:06:21 @monitor.py:294] loss/params: 0.014789\n",
      "[1218 22:06:21 @monitor.py:294] loss/total_cost: 0.068221\n",
      "[1218 22:06:21 @monitor.py:294] loss/widths: 0.0065669\n",
      "[1218 22:06:21 @monitor.py:294] validation_loss/params: 0.026446\n",
      "[1218 22:06:21 @monitor.py:294] validation_loss/widths: 0.0074359\n",
      "[1218 22:06:21 @base.py:175] Start Epoch 148 ...\n"
     ]
    },
    {
     "name": "stderr",
     "output_type": "stream",
     "text": [
      "100%|#############################################|70/70[00:01<00:00,52.57it/s]\n"
     ]
    },
    {
     "name": "stdout",
     "output_type": "stream",
     "text": [
      "[1218 22:06:22 @base.py:183] Epoch 148 (global_step 10360) finished, time:1.34 sec.\n",
      "[1218 22:06:22 @saver.py:76] Model saved to ./train_log/linenetFwbVSI2\\model-10360.\n"
     ]
    },
    {
     "name": "stderr",
     "output_type": "stream",
     "text": [
      "100%|############################################|10/10[00:00<00:00,110.82it/s]\n"
     ]
    },
    {
     "name": "stdout",
     "output_type": "stream",
     "text": [
      "[1218 22:06:22 @monitor.py:294] input_queue_size: 50\n",
      "[1218 22:06:22 @monitor.py:294] learning_rate: 0.0004\n",
      "[1218 22:06:22 @monitor.py:294] loss/params: 0.014637\n",
      "[1218 22:06:22 @monitor.py:294] loss/total_cost: 0.067747\n",
      "[1218 22:06:22 @monitor.py:294] loss/widths: 0.0067014\n",
      "[1218 22:06:22 @monitor.py:294] validation_loss/params: 0.025554\n",
      "[1218 22:06:22 @monitor.py:294] validation_loss/widths: 0.0072074\n",
      "[1218 22:06:23 @base.py:175] Start Epoch 149 ...\n"
     ]
    },
    {
     "name": "stderr",
     "output_type": "stream",
     "text": [
      "100%|#############################################|70/70[00:01<00:00,52.37it/s]\n"
     ]
    },
    {
     "name": "stdout",
     "output_type": "stream",
     "text": [
      "[1218 22:06:24 @base.py:183] Epoch 149 (global_step 10430) finished, time:1.34 sec.\n",
      "[1218 22:06:24 @saver.py:76] Model saved to ./train_log/linenetFwbVSI2\\model-10430.\n"
     ]
    },
    {
     "name": "stderr",
     "output_type": "stream",
     "text": [
      "100%|#############################################|10/10[00:00<00:00,89.85it/s]\n"
     ]
    },
    {
     "name": "stdout",
     "output_type": "stream",
     "text": [
      "[1218 22:06:24 @monitor.py:294] input_queue_size: 50\n",
      "[1218 22:06:24 @monitor.py:294] learning_rate: 0.0004\n",
      "[1218 22:06:24 @monitor.py:294] loss/params: 0.014748\n",
      "[1218 22:06:24 @monitor.py:294] loss/total_cost: 0.067952\n",
      "[1218 22:06:24 @monitor.py:294] loss/widths: 0.0064623\n",
      "[1218 22:06:24 @monitor.py:294] validation_loss/params: 0.025517\n",
      "[1218 22:06:24 @monitor.py:294] validation_loss/widths: 0.007148\n",
      "[1218 22:06:24 @base.py:175] Start Epoch 150 ...\n"
     ]
    },
    {
     "name": "stderr",
     "output_type": "stream",
     "text": [
      "100%|#############################################|70/70[00:01<00:00,52.49it/s]\n"
     ]
    },
    {
     "name": "stdout",
     "output_type": "stream",
     "text": [
      "[1218 22:06:26 @base.py:183] Epoch 150 (global_step 10500) finished, time:1.34 sec.\n",
      "[1218 22:06:26 @saver.py:76] Model saved to ./train_log/linenetFwbVSI2\\model-10500.\n"
     ]
    },
    {
     "name": "stderr",
     "output_type": "stream",
     "text": [
      "100%|#############################################|10/10[00:00<00:00,93.21it/s]\n"
     ]
    },
    {
     "name": "stdout",
     "output_type": "stream",
     "text": [
      "[1218 22:06:26 @monitor.py:294] input_queue_size: 50\n",
      "[1218 22:06:26 @monitor.py:294] learning_rate: 0.0004\n",
      "[1218 22:06:26 @monitor.py:294] loss/params: 0.014527\n",
      "[1218 22:06:26 @monitor.py:294] loss/total_cost: 0.067303\n",
      "[1218 22:06:26 @monitor.py:294] loss/widths: 0.0066984\n",
      "[1218 22:06:26 @monitor.py:294] validation_loss/params: 0.026388\n",
      "[1218 22:06:26 @monitor.py:294] validation_loss/widths: 0.0070829\n",
      "[1218 22:06:26 @base.py:175] Start Epoch 151 ...\n"
     ]
    },
    {
     "name": "stderr",
     "output_type": "stream",
     "text": [
      "100%|#############################################|70/70[00:01<00:00,52.69it/s]\n"
     ]
    },
    {
     "name": "stdout",
     "output_type": "stream",
     "text": [
      "[1218 22:06:28 @base.py:183] Epoch 151 (global_step 10570) finished, time:1.33 sec.\n",
      "[1218 22:06:28 @saver.py:76] Model saved to ./train_log/linenetFwbVSI2\\model-10570.\n"
     ]
    },
    {
     "name": "stderr",
     "output_type": "stream",
     "text": [
      "100%|############################################|10/10[00:00<00:00,112.06it/s]\n"
     ]
    },
    {
     "name": "stdout",
     "output_type": "stream",
     "text": [
      "[1218 22:06:28 @monitor.py:294] input_queue_size: 50\n",
      "[1218 22:06:28 @monitor.py:294] learning_rate: 0.0004\n",
      "[1218 22:06:28 @monitor.py:294] loss/params: 0.014344\n",
      "[1218 22:06:28 @monitor.py:294] loss/total_cost: 0.066422\n",
      "[1218 22:06:28 @monitor.py:294] loss/widths: 0.0065498\n",
      "[1218 22:06:28 @monitor.py:294] validation_loss/params: 0.026235\n",
      "[1218 22:06:28 @monitor.py:294] validation_loss/widths: 0.0069144\n",
      "[1218 22:06:28 @base.py:175] Start Epoch 152 ...\n"
     ]
    },
    {
     "name": "stderr",
     "output_type": "stream",
     "text": [
      "100%|#############################################|70/70[00:01<00:00,52.37it/s]\n"
     ]
    },
    {
     "name": "stdout",
     "output_type": "stream",
     "text": [
      "[1218 22:06:29 @base.py:183] Epoch 152 (global_step 10640) finished, time:1.34 sec.\n",
      "[1218 22:06:30 @saver.py:76] Model saved to ./train_log/linenetFwbVSI2\\model-10640.\n"
     ]
    },
    {
     "name": "stderr",
     "output_type": "stream",
     "text": [
      "100%|#############################################|10/10[00:00<00:00,98.78it/s]\n"
     ]
    },
    {
     "name": "stdout",
     "output_type": "stream",
     "text": [
      "[1218 22:06:30 @monitor.py:294] input_queue_size: 50\n",
      "[1218 22:06:30 @monitor.py:294] learning_rate: 0.0004\n",
      "[1218 22:06:30 @monitor.py:294] loss/params: 0.014187\n",
      "[1218 22:06:30 @monitor.py:294] loss/total_cost: 0.065864\n",
      "[1218 22:06:30 @monitor.py:294] loss/widths: 0.0066185\n",
      "[1218 22:06:30 @monitor.py:294] validation_loss/params: 0.02647\n",
      "[1218 22:06:30 @monitor.py:294] validation_loss/widths: 0.0072557\n",
      "[1218 22:06:30 @base.py:175] Start Epoch 153 ...\n"
     ]
    },
    {
     "name": "stderr",
     "output_type": "stream",
     "text": [
      "100%|#############################################|70/70[00:01<00:00,52.77it/s]\n"
     ]
    },
    {
     "name": "stdout",
     "output_type": "stream",
     "text": [
      "[1218 22:06:31 @base.py:183] Epoch 153 (global_step 10710) finished, time:1.33 sec.\n",
      "[1218 22:06:32 @saver.py:76] Model saved to ./train_log/linenetFwbVSI2\\model-10710.\n"
     ]
    },
    {
     "name": "stderr",
     "output_type": "stream",
     "text": [
      "100%|############################################|10/10[00:00<00:00,112.06it/s]\n"
     ]
    },
    {
     "name": "stdout",
     "output_type": "stream",
     "text": [
      "[1218 22:06:32 @monitor.py:294] input_queue_size: 50\n",
      "[1218 22:06:32 @monitor.py:294] learning_rate: 0.0004\n",
      "[1218 22:06:32 @monitor.py:294] loss/params: 0.014087\n",
      "[1218 22:06:32 @monitor.py:294] loss/total_cost: 0.065149\n",
      "[1218 22:06:32 @monitor.py:294] loss/widths: 0.006303\n",
      "[1218 22:06:32 @monitor.py:294] validation_loss/params: 0.026123\n",
      "[1218 22:06:32 @monitor.py:294] validation_loss/widths: 0.0071265\n",
      "[1218 22:06:32 @base.py:175] Start Epoch 154 ...\n"
     ]
    },
    {
     "name": "stderr",
     "output_type": "stream",
     "text": [
      "100%|#############################################|70/70[00:01<00:00,52.97it/s]\n"
     ]
    },
    {
     "name": "stdout",
     "output_type": "stream",
     "text": [
      "[1218 22:06:33 @base.py:183] Epoch 154 (global_step 10780) finished, time:1.33 sec.\n",
      "[1218 22:06:34 @saver.py:76] Model saved to ./train_log/linenetFwbVSI2\\model-10780.\n"
     ]
    },
    {
     "name": "stderr",
     "output_type": "stream",
     "text": [
      "100%|#############################################|10/10[00:00<00:00,96.83it/s]\n"
     ]
    },
    {
     "name": "stdout",
     "output_type": "stream",
     "text": [
      "[1218 22:06:34 @monitor.py:294] input_queue_size: 50\n",
      "[1218 22:06:34 @monitor.py:294] learning_rate: 0.0004\n",
      "[1218 22:06:34 @monitor.py:294] loss/params: 0.013806\n",
      "[1218 22:06:34 @monitor.py:294] loss/total_cost: 0.06415\n",
      "[1218 22:06:34 @monitor.py:294] loss/widths: 0.0064313\n",
      "[1218 22:06:34 @monitor.py:294] validation_loss/params: 0.025899\n",
      "[1218 22:06:34 @monitor.py:294] validation_loss/widths: 0.0069775\n",
      "[1218 22:06:34 @base.py:175] Start Epoch 155 ...\n"
     ]
    },
    {
     "name": "stderr",
     "output_type": "stream",
     "text": [
      "100%|#############################################|70/70[00:01<00:00,52.65it/s]\n"
     ]
    },
    {
     "name": "stdout",
     "output_type": "stream",
     "text": [
      "[1218 22:06:35 @base.py:183] Epoch 155 (global_step 10850) finished, time:1.33 sec.\n",
      "[1218 22:06:35 @saver.py:76] Model saved to ./train_log/linenetFwbVSI2\\model-10850.\n"
     ]
    },
    {
     "name": "stderr",
     "output_type": "stream",
     "text": [
      "100%|############################################|10/10[00:00<00:00,112.03it/s]\n"
     ]
    },
    {
     "name": "stdout",
     "output_type": "stream",
     "text": [
      "[1218 22:06:36 @monitor.py:294] input_queue_size: 50\n",
      "[1218 22:06:36 @monitor.py:294] learning_rate: 0.0004\n",
      "[1218 22:06:36 @monitor.py:294] loss/params: 0.01374\n",
      "[1218 22:06:36 @monitor.py:294] loss/total_cost: 0.063868\n",
      "[1218 22:06:36 @monitor.py:294] loss/widths: 0.0064141\n",
      "[1218 22:06:36 @monitor.py:294] validation_loss/params: 0.026439\n",
      "[1218 22:06:36 @monitor.py:294] validation_loss/widths: 0.007182\n",
      "[1218 22:06:36 @base.py:175] Start Epoch 156 ...\n"
     ]
    },
    {
     "name": "stderr",
     "output_type": "stream",
     "text": [
      "100%|#############################################|70/70[00:01<00:00,52.85it/s]\n"
     ]
    },
    {
     "name": "stdout",
     "output_type": "stream",
     "text": [
      "[1218 22:06:37 @base.py:183] Epoch 156 (global_step 10920) finished, time:1.33 sec.\n",
      "[1218 22:06:37 @saver.py:76] Model saved to ./train_log/linenetFwbVSI2\\model-10920.\n"
     ]
    },
    {
     "name": "stderr",
     "output_type": "stream",
     "text": [
      "100%|#############################################|10/10[00:00<00:00,89.07it/s]\n"
     ]
    },
    {
     "name": "stdout",
     "output_type": "stream",
     "text": [
      "[1218 22:06:38 @monitor.py:294] input_queue_size: 50\n",
      "[1218 22:06:38 @monitor.py:294] learning_rate: 0.0004\n",
      "[1218 22:06:38 @monitor.py:294] loss/params: 0.013573\n",
      "[1218 22:06:38 @monitor.py:294] loss/total_cost: 0.062946\n",
      "[1218 22:06:38 @monitor.py:294] loss/widths: 0.0061583\n",
      "[1218 22:06:38 @monitor.py:294] validation_loss/params: 0.026225\n",
      "[1218 22:06:38 @monitor.py:294] validation_loss/widths: 0.0071149\n",
      "[1218 22:06:38 @base.py:175] Start Epoch 157 ...\n"
     ]
    },
    {
     "name": "stderr",
     "output_type": "stream",
     "text": [
      "100%|#############################################|70/70[00:01<00:00,52.02it/s]\n"
     ]
    },
    {
     "name": "stdout",
     "output_type": "stream",
     "text": [
      "[1218 22:06:39 @base.py:183] Epoch 157 (global_step 10990) finished, time:1.35 sec.\n",
      "[1218 22:06:39 @saver.py:76] Model saved to ./train_log/linenetFwbVSI2\\model-10990.\n"
     ]
    },
    {
     "name": "stderr",
     "output_type": "stream",
     "text": [
      "100%|#############################################|10/10[00:00<00:00,74.99it/s]\n"
     ]
    },
    {
     "name": "stdout",
     "output_type": "stream",
     "text": [
      "[1218 22:06:39 @monitor.py:294] input_queue_size: 50\n",
      "[1218 22:06:39 @monitor.py:294] learning_rate: 0.0004\n",
      "[1218 22:06:39 @monitor.py:294] loss/params: 0.013424\n",
      "[1218 22:06:39 @monitor.py:294] loss/total_cost: 0.062451\n",
      "[1218 22:06:39 @monitor.py:294] loss/widths: 0.0062598\n",
      "[1218 22:06:40 @monitor.py:294] validation_loss/params: 0.026171\n",
      "[1218 22:06:40 @monitor.py:294] validation_loss/widths: 0.0073142\n",
      "[1218 22:06:40 @base.py:175] Start Epoch 158 ...\n"
     ]
    },
    {
     "name": "stderr",
     "output_type": "stream",
     "text": [
      "100%|#############################################|70/70[00:01<00:00,52.26it/s]\n"
     ]
    },
    {
     "name": "stdout",
     "output_type": "stream",
     "text": [
      "[1218 22:06:41 @base.py:183] Epoch 158 (global_step 11060) finished, time:1.34 sec.\n",
      "[1218 22:06:41 @saver.py:76] Model saved to ./train_log/linenetFwbVSI2\\model-11060.\n"
     ]
    },
    {
     "name": "stderr",
     "output_type": "stream",
     "text": [
      "100%|#############################################|10/10[00:00<00:00,85.25it/s]\n"
     ]
    },
    {
     "name": "stdout",
     "output_type": "stream",
     "text": [
      "[1218 22:06:41 @monitor.py:294] input_queue_size: 50\n",
      "[1218 22:06:41 @monitor.py:294] learning_rate: 0.0004\n",
      "[1218 22:06:41 @monitor.py:294] loss/params: 0.013077\n",
      "[1218 22:06:41 @monitor.py:294] loss/total_cost: 0.061189\n",
      "[1218 22:06:41 @monitor.py:294] loss/widths: 0.0063883\n",
      "[1218 22:06:41 @monitor.py:294] validation_loss/params: 0.025617\n",
      "[1218 22:06:41 @monitor.py:294] validation_loss/widths: 0.0078303\n",
      "[1218 22:06:41 @base.py:175] Start Epoch 159 ...\n"
     ]
    },
    {
     "name": "stderr",
     "output_type": "stream",
     "text": [
      "100%|#############################################|70/70[00:01<00:00,52.57it/s]\n"
     ]
    },
    {
     "name": "stdout",
     "output_type": "stream",
     "text": [
      "[1218 22:06:43 @base.py:183] Epoch 159 (global_step 11130) finished, time:1.34 sec.\n",
      "[1218 22:06:43 @saver.py:76] Model saved to ./train_log/linenetFwbVSI2\\model-11130.\n"
     ]
    },
    {
     "name": "stderr",
     "output_type": "stream",
     "text": [
      "100%|#############################################|10/10[00:00<00:00,88.24it/s]\n"
     ]
    },
    {
     "name": "stdout",
     "output_type": "stream",
     "text": [
      "[1218 22:06:43 @monitor.py:294] input_queue_size: 50\n",
      "[1218 22:06:43 @monitor.py:294] learning_rate: 0.0004\n",
      "[1218 22:06:43 @monitor.py:294] loss/params: 0.013052\n",
      "[1218 22:06:43 @monitor.py:294] loss/total_cost: 0.060842\n",
      "[1218 22:06:43 @monitor.py:294] loss/widths: 0.0061408\n",
      "[1218 22:06:43 @monitor.py:294] validation_loss/params: 0.026247\n",
      "[1218 22:06:43 @monitor.py:294] validation_loss/widths: 0.0070138\n",
      "[1218 22:06:43 @base.py:175] Start Epoch 160 ...\n"
     ]
    },
    {
     "name": "stderr",
     "output_type": "stream",
     "text": [
      "100%|#############################################|70/70[00:01<00:00,52.77it/s]\n"
     ]
    },
    {
     "name": "stdout",
     "output_type": "stream",
     "text": [
      "[1218 22:06:45 @base.py:183] Epoch 160 (global_step 11200) finished, time:1.33 sec.\n",
      "[1218 22:06:45 @saver.py:76] Model saved to ./train_log/linenetFwbVSI2\\model-11200.\n"
     ]
    },
    {
     "name": "stderr",
     "output_type": "stream",
     "text": [
      "100%|#############################################|10/10[00:00<00:00,89.83it/s]\n"
     ]
    },
    {
     "name": "stdout",
     "output_type": "stream",
     "text": [
      "[1218 22:06:45 @monitor.py:294] input_queue_size: 50\n",
      "[1218 22:06:45 @monitor.py:294] learning_rate: 0.0004\n",
      "[1218 22:06:45 @monitor.py:294] loss/params: 0.012896\n",
      "[1218 22:06:45 @monitor.py:294] loss/total_cost: 0.060401\n",
      "[1218 22:06:45 @monitor.py:294] loss/widths: 0.0063217\n",
      "[1218 22:06:45 @monitor.py:294] validation_loss/params: 0.026203\n",
      "[1218 22:06:45 @monitor.py:294] validation_loss/widths: 0.0069692\n",
      "[1218 22:06:45 @base.py:175] Start Epoch 161 ...\n"
     ]
    },
    {
     "name": "stderr",
     "output_type": "stream",
     "text": [
      "100%|#############################################|70/70[00:01<00:00,51.64it/s]\n"
     ]
    },
    {
     "name": "stdout",
     "output_type": "stream",
     "text": [
      "[1218 22:06:47 @base.py:183] Epoch 161 (global_step 11270) finished, time:1.36 sec.\n",
      "[1218 22:06:47 @saver.py:76] Model saved to ./train_log/linenetFwbVSI2\\model-11270.\n"
     ]
    },
    {
     "name": "stderr",
     "output_type": "stream",
     "text": [
      "100%|############################################|10/10[00:00<00:00,115.97it/s]\n"
     ]
    },
    {
     "name": "stdout",
     "output_type": "stream",
     "text": [
      "[1218 22:06:47 @monitor.py:294] input_queue_size: 50\n",
      "[1218 22:06:47 @monitor.py:294] learning_rate: 0.0004\n",
      "[1218 22:06:47 @monitor.py:294] loss/params: 0.013016\n",
      "[1218 22:06:47 @monitor.py:294] loss/total_cost: 0.06058\n",
      "[1218 22:06:47 @monitor.py:294] loss/widths: 0.0060233\n",
      "[1218 22:06:47 @monitor.py:294] validation_loss/params: 0.026174\n",
      "[1218 22:06:47 @monitor.py:294] validation_loss/widths: 0.0070551\n",
      "[1218 22:06:47 @base.py:175] Start Epoch 162 ...\n"
     ]
    },
    {
     "name": "stderr",
     "output_type": "stream",
     "text": [
      "100%|#############################################|70/70[00:01<00:00,53.13it/s]\n"
     ]
    },
    {
     "name": "stdout",
     "output_type": "stream",
     "text": [
      "[1218 22:06:48 @base.py:183] Epoch 162 (global_step 11340) finished, time:1.32 sec.\n",
      "[1218 22:06:49 @saver.py:76] Model saved to ./train_log/linenetFwbVSI2\\model-11340.\n"
     ]
    },
    {
     "name": "stderr",
     "output_type": "stream",
     "text": [
      "100%|############################################|10/10[00:00<00:00,113.37it/s]\n"
     ]
    },
    {
     "name": "stdout",
     "output_type": "stream",
     "text": [
      "[1218 22:06:49 @monitor.py:294] input_queue_size: 50\n",
      "[1218 22:06:49 @monitor.py:294] learning_rate: 0.0004\n",
      "[1218 22:06:49 @monitor.py:294] loss/params: 0.012873\n",
      "[1218 22:06:49 @monitor.py:294] loss/total_cost: 0.060238\n",
      "[1218 22:06:49 @monitor.py:294] loss/widths: 0.0062518\n",
      "[1218 22:06:49 @monitor.py:294] validation_loss/params: 0.026734\n",
      "[1218 22:06:49 @monitor.py:294] validation_loss/widths: 0.0073307\n",
      "[1218 22:06:49 @base.py:175] Start Epoch 163 ...\n"
     ]
    },
    {
     "name": "stderr",
     "output_type": "stream",
     "text": [
      "100%|#############################################|70/70[00:01<00:00,52.33it/s]\n"
     ]
    },
    {
     "name": "stdout",
     "output_type": "stream",
     "text": [
      "[1218 22:06:50 @base.py:183] Epoch 163 (global_step 11410) finished, time:1.34 sec.\n",
      "[1218 22:06:51 @saver.py:76] Model saved to ./train_log/linenetFwbVSI2\\model-11410.\n"
     ]
    },
    {
     "name": "stderr",
     "output_type": "stream",
     "text": [
      "100%|#############################################|10/10[00:00<00:00,82.43it/s]\n"
     ]
    },
    {
     "name": "stdout",
     "output_type": "stream",
     "text": [
      "[1218 22:06:51 @monitor.py:294] input_queue_size: 50\n",
      "[1218 22:06:51 @monitor.py:294] learning_rate: 0.0004\n",
      "[1218 22:06:51 @monitor.py:294] loss/params: 0.01266\n",
      "[1218 22:06:51 @monitor.py:294] loss/total_cost: 0.058966\n",
      "[1218 22:06:51 @monitor.py:294] loss/widths: 0.0058328\n",
      "[1218 22:06:51 @monitor.py:294] validation_loss/params: 0.026879\n",
      "[1218 22:06:51 @monitor.py:294] validation_loss/widths: 0.0070141\n",
      "[1218 22:06:51 @base.py:175] Start Epoch 164 ...\n"
     ]
    },
    {
     "name": "stderr",
     "output_type": "stream",
     "text": [
      "100%|#############################################|70/70[00:01<00:00,52.57it/s]\n"
     ]
    },
    {
     "name": "stdout",
     "output_type": "stream",
     "text": [
      "[1218 22:06:52 @base.py:183] Epoch 164 (global_step 11480) finished, time:1.34 sec.\n",
      "[1218 22:06:53 @saver.py:76] Model saved to ./train_log/linenetFwbVSI2\\model-11480.\n"
     ]
    },
    {
     "name": "stderr",
     "output_type": "stream",
     "text": [
      "100%|############################################|10/10[00:00<00:00,112.03it/s]\n"
     ]
    },
    {
     "name": "stdout",
     "output_type": "stream",
     "text": [
      "[1218 22:06:53 @monitor.py:294] input_queue_size: 50\n",
      "[1218 22:06:53 @monitor.py:294] learning_rate: 0.0004\n",
      "[1218 22:06:53 @monitor.py:294] loss/params: 0.012537\n",
      "[1218 22:06:53 @monitor.py:294] loss/total_cost: 0.058613\n",
      "[1218 22:06:53 @monitor.py:294] loss/widths: 0.0059745\n",
      "[1218 22:06:53 @monitor.py:294] validation_loss/params: 0.026572\n",
      "[1218 22:06:53 @monitor.py:294] validation_loss/widths: 0.0069263\n",
      "[1218 22:06:53 @base.py:175] Start Epoch 165 ...\n"
     ]
    },
    {
     "name": "stderr",
     "output_type": "stream",
     "text": [
      "100%|#############################################|70/70[00:01<00:00,52.34it/s]\n"
     ]
    },
    {
     "name": "stdout",
     "output_type": "stream",
     "text": [
      "[1218 22:06:54 @base.py:183] Epoch 165 (global_step 11550) finished, time:1.34 sec.\n",
      "[1218 22:06:54 @saver.py:76] Model saved to ./train_log/linenetFwbVSI2\\model-11550.\n"
     ]
    },
    {
     "name": "stderr",
     "output_type": "stream",
     "text": [
      "100%|############################################|10/10[00:00<00:00,108.41it/s]\n"
     ]
    },
    {
     "name": "stdout",
     "output_type": "stream",
     "text": [
      "[1218 22:06:55 @monitor.py:294] input_queue_size: 50\n",
      "[1218 22:06:55 @monitor.py:294] learning_rate: 0.0004\n",
      "[1218 22:06:55 @monitor.py:294] loss/params: 0.012294\n",
      "[1218 22:06:55 @monitor.py:294] loss/total_cost: 0.057667\n",
      "[1218 22:06:55 @monitor.py:294] loss/widths: 0.0060017\n",
      "[1218 22:06:55 @monitor.py:294] validation_loss/params: 0.02733\n",
      "[1218 22:06:55 @monitor.py:294] validation_loss/widths: 0.0069662\n",
      "[1218 22:06:55 @base.py:175] Start Epoch 166 ...\n"
     ]
    },
    {
     "name": "stderr",
     "output_type": "stream",
     "text": [
      "100%|#############################################|70/70[00:01<00:00,51.67it/s]\n"
     ]
    },
    {
     "name": "stdout",
     "output_type": "stream",
     "text": [
      "[1218 22:06:56 @base.py:183] Epoch 166 (global_step 11620) finished, time:1.36 sec.\n",
      "[1218 22:06:56 @saver.py:76] Model saved to ./train_log/linenetFwbVSI2\\model-11620.\n"
     ]
    },
    {
     "name": "stderr",
     "output_type": "stream",
     "text": [
      "100%|############################################|10/10[00:00<00:00,112.06it/s]\n"
     ]
    },
    {
     "name": "stdout",
     "output_type": "stream",
     "text": [
      "[1218 22:06:56 @monitor.py:294] input_queue_size: 50\n",
      "[1218 22:06:56 @monitor.py:294] learning_rate: 0.0004\n",
      "[1218 22:06:56 @monitor.py:294] loss/params: 0.01215\n",
      "[1218 22:06:56 @monitor.py:294] loss/total_cost: 0.057043\n",
      "[1218 22:06:56 @monitor.py:294] loss/widths: 0.0059515\n",
      "[1218 22:06:56 @monitor.py:294] validation_loss/params: 0.026815\n",
      "[1218 22:06:56 @monitor.py:294] validation_loss/widths: 0.0071814\n",
      "[1218 22:06:56 @base.py:175] Start Epoch 167 ...\n"
     ]
    },
    {
     "name": "stderr",
     "output_type": "stream",
     "text": [
      "100%|#############################################|70/70[00:01<00:00,52.57it/s]\n"
     ]
    },
    {
     "name": "stdout",
     "output_type": "stream",
     "text": [
      "[1218 22:06:58 @base.py:183] Epoch 167 (global_step 11690) finished, time:1.33 sec.\n",
      "[1218 22:06:58 @saver.py:76] Model saved to ./train_log/linenetFwbVSI2\\model-11690.\n"
     ]
    },
    {
     "name": "stderr",
     "output_type": "stream",
     "text": [
      "100%|############################################|10/10[00:00<00:00,105.01it/s]\n"
     ]
    },
    {
     "name": "stdout",
     "output_type": "stream",
     "text": [
      "[1218 22:06:58 @monitor.py:294] input_queue_size: 50\n",
      "[1218 22:06:58 @monitor.py:294] learning_rate: 0.0004\n",
      "[1218 22:06:58 @monitor.py:294] loss/params: 0.01205\n",
      "[1218 22:06:58 @monitor.py:294] loss/total_cost: 0.056606\n",
      "[1218 22:06:58 @monitor.py:294] loss/widths: 0.0059144\n",
      "[1218 22:06:58 @monitor.py:294] validation_loss/params: 0.027651\n",
      "[1218 22:06:58 @monitor.py:294] validation_loss/widths: 0.0070469\n",
      "[1218 22:06:58 @base.py:175] Start Epoch 168 ...\n"
     ]
    },
    {
     "name": "stderr",
     "output_type": "stream",
     "text": [
      "100%|#############################################|70/70[00:01<00:00,52.72it/s]\n"
     ]
    },
    {
     "name": "stdout",
     "output_type": "stream",
     "text": [
      "[1218 22:07:00 @base.py:183] Epoch 168 (global_step 11760) finished, time:1.33 sec.\n",
      "[1218 22:07:00 @saver.py:76] Model saved to ./train_log/linenetFwbVSI2\\model-11760.\n"
     ]
    },
    {
     "name": "stderr",
     "output_type": "stream",
     "text": [
      "100%|#############################################|10/10[00:00<00:00,95.88it/s]\n"
     ]
    },
    {
     "name": "stdout",
     "output_type": "stream",
     "text": [
      "[1218 22:07:00 @monitor.py:294] input_queue_size: 50\n",
      "[1218 22:07:00 @monitor.py:294] learning_rate: 0.0004\n",
      "[1218 22:07:00 @monitor.py:294] loss/params: 0.012057\n",
      "[1218 22:07:00 @monitor.py:294] loss/total_cost: 0.056743\n",
      "[1218 22:07:00 @monitor.py:294] loss/widths: 0.0060269\n",
      "[1218 22:07:00 @monitor.py:294] validation_loss/params: 0.028054\n",
      "[1218 22:07:00 @monitor.py:294] validation_loss/widths: 0.0069498\n",
      "[1218 22:07:00 @base.py:175] Start Epoch 169 ...\n"
     ]
    },
    {
     "name": "stderr",
     "output_type": "stream",
     "text": [
      "100%|#############################################|70/70[00:01<00:00,53.05it/s]\n"
     ]
    },
    {
     "name": "stdout",
     "output_type": "stream",
     "text": [
      "[1218 22:07:02 @base.py:183] Epoch 169 (global_step 11830) finished, time:1.32 sec.\n",
      "[1218 22:07:02 @saver.py:76] Model saved to ./train_log/linenetFwbVSI2\\model-11830.\n"
     ]
    },
    {
     "name": "stderr",
     "output_type": "stream",
     "text": [
      "100%|#############################################|10/10[00:00<00:00,85.98it/s]\n"
     ]
    },
    {
     "name": "stdout",
     "output_type": "stream",
     "text": [
      "[1218 22:07:02 @monitor.py:294] input_queue_size: 50\n",
      "[1218 22:07:02 @monitor.py:294] learning_rate: 0.0004\n",
      "[1218 22:07:02 @monitor.py:294] loss/params: 0.011762\n",
      "[1218 22:07:02 @monitor.py:294] loss/total_cost: 0.055433\n",
      "[1218 22:07:02 @monitor.py:294] loss/widths: 0.0058959\n",
      "[1218 22:07:02 @monitor.py:294] validation_loss/params: 0.028385\n",
      "[1218 22:07:02 @monitor.py:294] validation_loss/widths: 0.0071886\n",
      "[1218 22:07:02 @base.py:175] Start Epoch 170 ...\n"
     ]
    },
    {
     "name": "stderr",
     "output_type": "stream",
     "text": [
      "100%|#############################################|70/70[00:01<00:00,52.06it/s]\n"
     ]
    },
    {
     "name": "stdout",
     "output_type": "stream",
     "text": [
      "[1218 22:07:04 @base.py:183] Epoch 170 (global_step 11900) finished, time:1.35 sec.\n",
      "[1218 22:07:04 @saver.py:76] Model saved to ./train_log/linenetFwbVSI2\\model-11900.\n"
     ]
    },
    {
     "name": "stderr",
     "output_type": "stream",
     "text": [
      "100%|#############################################|10/10[00:00<00:00,88.26it/s]\n"
     ]
    },
    {
     "name": "stdout",
     "output_type": "stream",
     "text": [
      "[1218 22:07:04 @monitor.py:294] input_queue_size: 50\n",
      "[1218 22:07:04 @monitor.py:294] learning_rate: 0.0004\n",
      "[1218 22:07:04 @monitor.py:294] loss/params: 0.011623\n",
      "[1218 22:07:04 @monitor.py:294] loss/total_cost: 0.054901\n",
      "[1218 22:07:04 @monitor.py:294] loss/widths: 0.0059217\n",
      "[1218 22:07:04 @monitor.py:294] validation_loss/params: 0.027017\n",
      "[1218 22:07:04 @monitor.py:294] validation_loss/widths: 0.0070775\n",
      "[1218 22:07:04 @base.py:175] Start Epoch 171 ...\n"
     ]
    },
    {
     "name": "stderr",
     "output_type": "stream",
     "text": [
      "100%|#############################################|70/70[00:01<00:00,52.57it/s]\n"
     ]
    },
    {
     "name": "stdout",
     "output_type": "stream",
     "text": [
      "[1218 22:07:06 @base.py:183] Epoch 171 (global_step 11970) finished, time:1.34 sec.\n",
      "[1218 22:07:06 @saver.py:76] Model saved to ./train_log/linenetFwbVSI2\\model-11970.\n"
     ]
    },
    {
     "name": "stderr",
     "output_type": "stream",
     "text": [
      "100%|############################################|10/10[00:00<00:00,106.10it/s]\n"
     ]
    },
    {
     "name": "stdout",
     "output_type": "stream",
     "text": [
      "[1218 22:07:06 @monitor.py:294] input_queue_size: 50\n",
      "[1218 22:07:06 @monitor.py:294] learning_rate: 0.0004\n",
      "[1218 22:07:06 @monitor.py:294] loss/params: 0.011531\n",
      "[1218 22:07:06 @monitor.py:294] loss/total_cost: 0.05434\n",
      "[1218 22:07:06 @monitor.py:294] loss/widths: 0.0057274\n",
      "[1218 22:07:06 @monitor.py:294] validation_loss/params: 0.026669\n",
      "[1218 22:07:06 @monitor.py:294] validation_loss/widths: 0.0072752\n",
      "[1218 22:07:06 @base.py:175] Start Epoch 172 ...\n"
     ]
    },
    {
     "name": "stderr",
     "output_type": "stream",
     "text": [
      "100%|#############################################|70/70[00:01<00:00,51.91it/s]\n"
     ]
    },
    {
     "name": "stdout",
     "output_type": "stream",
     "text": [
      "[1218 22:07:07 @base.py:183] Epoch 172 (global_step 12040) finished, time:1.35 sec.\n",
      "[1218 22:07:08 @saver.py:76] Model saved to ./train_log/linenetFwbVSI2\\model-12040.\n"
     ]
    },
    {
     "name": "stderr",
     "output_type": "stream",
     "text": [
      "100%|#############################################|10/10[00:00<00:00,94.96it/s]\n"
     ]
    },
    {
     "name": "stdout",
     "output_type": "stream",
     "text": [
      "[1218 22:07:08 @monitor.py:294] input_queue_size: 50\n",
      "[1218 22:07:08 @monitor.py:294] learning_rate: 0.0004\n",
      "[1218 22:07:08 @monitor.py:294] loss/params: 0.011388\n",
      "[1218 22:07:08 @monitor.py:294] loss/total_cost: 0.053814\n",
      "[1218 22:07:08 @monitor.py:294] loss/widths: 0.005774\n",
      "[1218 22:07:08 @monitor.py:294] validation_loss/params: 0.028379\n",
      "[1218 22:07:08 @monitor.py:294] validation_loss/widths: 0.006963\n",
      "[1218 22:07:08 @base.py:175] Start Epoch 173 ...\n"
     ]
    },
    {
     "name": "stderr",
     "output_type": "stream",
     "text": [
      "100%|#############################################|70/70[00:01<00:00,51.98it/s]\n"
     ]
    },
    {
     "name": "stdout",
     "output_type": "stream",
     "text": [
      "[1218 22:07:09 @base.py:183] Epoch 173 (global_step 12110) finished, time:1.35 sec.\n",
      "[1218 22:07:10 @saver.py:76] Model saved to ./train_log/linenetFwbVSI2\\model-12110.\n"
     ]
    },
    {
     "name": "stderr",
     "output_type": "stream",
     "text": [
      "100%|############################################|10/10[00:00<00:00,112.06it/s]\n"
     ]
    },
    {
     "name": "stdout",
     "output_type": "stream",
     "text": [
      "[1218 22:07:10 @monitor.py:294] input_queue_size: 50\n",
      "[1218 22:07:10 @monitor.py:294] learning_rate: 0.0004\n",
      "[1218 22:07:10 @monitor.py:294] loss/params: 0.011225\n",
      "[1218 22:07:10 @monitor.py:294] loss/total_cost: 0.053449\n",
      "[1218 22:07:10 @monitor.py:294] loss/widths: 0.006063\n",
      "[1218 22:07:10 @monitor.py:294] validation_loss/params: 0.027416\n",
      "[1218 22:07:10 @monitor.py:294] validation_loss/widths: 0.0073671\n",
      "[1218 22:07:10 @base.py:175] Start Epoch 174 ...\n"
     ]
    },
    {
     "name": "stderr",
     "output_type": "stream",
     "text": [
      "100%|#############################################|70/70[00:01<00:00,52.53it/s]\n"
     ]
    },
    {
     "name": "stdout",
     "output_type": "stream",
     "text": [
      "[1218 22:07:11 @base.py:183] Epoch 174 (global_step 12180) finished, time:1.34 sec.\n",
      "[1218 22:07:12 @saver.py:76] Model saved to ./train_log/linenetFwbVSI2\\model-12180.\n"
     ]
    },
    {
     "name": "stderr",
     "output_type": "stream",
     "text": [
      "100%|############################################|10/10[00:00<00:00,101.77it/s]\n"
     ]
    },
    {
     "name": "stdout",
     "output_type": "stream",
     "text": [
      "[1218 22:07:12 @monitor.py:294] input_queue_size: 50\n",
      "[1218 22:07:12 @monitor.py:294] learning_rate: 0.0004\n",
      "[1218 22:07:12 @monitor.py:294] loss/params: 0.011537\n",
      "[1218 22:07:12 @monitor.py:294] loss/total_cost: 0.054455\n",
      "[1218 22:07:12 @monitor.py:294] loss/widths: 0.0058195\n",
      "[1218 22:07:12 @monitor.py:294] validation_loss/params: 0.02781\n",
      "[1218 22:07:12 @monitor.py:294] validation_loss/widths: 0.0070208\n",
      "[1218 22:07:12 @base.py:175] Start Epoch 175 ...\n"
     ]
    },
    {
     "name": "stderr",
     "output_type": "stream",
     "text": [
      "100%|#############################################|70/70[00:01<00:00,52.22it/s]\n"
     ]
    },
    {
     "name": "stdout",
     "output_type": "stream",
     "text": [
      "[1218 22:07:13 @base.py:183] Epoch 175 (global_step 12250) finished, time:1.34 sec.\n",
      "[1218 22:07:13 @saver.py:76] Model saved to ./train_log/linenetFwbVSI2\\model-12250.\n"
     ]
    },
    {
     "name": "stderr",
     "output_type": "stream",
     "text": [
      "100%|############################################|10/10[00:00<00:00,106.07it/s]\n"
     ]
    },
    {
     "name": "stdout",
     "output_type": "stream",
     "text": [
      "[1218 22:07:14 @monitor.py:294] input_queue_size: 50\n",
      "[1218 22:07:14 @monitor.py:294] learning_rate: 0.0004\n",
      "[1218 22:07:14 @monitor.py:294] loss/params: 0.011226\n",
      "[1218 22:07:14 @monitor.py:294] loss/total_cost: 0.053177\n",
      "[1218 22:07:14 @monitor.py:294] loss/widths: 0.0057881\n",
      "[1218 22:07:14 @monitor.py:294] validation_loss/params: 0.028821\n",
      "[1218 22:07:14 @monitor.py:294] validation_loss/widths: 0.0071447\n",
      "[1218 22:07:14 @base.py:175] Start Epoch 176 ...\n"
     ]
    },
    {
     "name": "stderr",
     "output_type": "stream",
     "text": [
      "100%|#############################################|70/70[00:01<00:00,52.77it/s]\n"
     ]
    },
    {
     "name": "stdout",
     "output_type": "stream",
     "text": [
      "[1218 22:07:15 @base.py:183] Epoch 176 (global_step 12320) finished, time:1.33 sec.\n",
      "[1218 22:07:15 @saver.py:76] Model saved to ./train_log/linenetFwbVSI2\\model-12320.\n"
     ]
    },
    {
     "name": "stderr",
     "output_type": "stream",
     "text": [
      "100%|############################################|10/10[00:00<00:00,107.24it/s]\n"
     ]
    },
    {
     "name": "stdout",
     "output_type": "stream",
     "text": [
      "[1218 22:07:15 @monitor.py:294] input_queue_size: 50\n",
      "[1218 22:07:15 @monitor.py:294] learning_rate: 0.0004\n",
      "[1218 22:07:15 @monitor.py:294] loss/params: 0.011041\n",
      "[1218 22:07:15 @monitor.py:294] loss/total_cost: 0.052212\n",
      "[1218 22:07:15 @monitor.py:294] loss/widths: 0.005561\n",
      "[1218 22:07:15 @monitor.py:294] validation_loss/params: 0.029044\n",
      "[1218 22:07:15 @monitor.py:294] validation_loss/widths: 0.0070367\n",
      "[1218 22:07:15 @base.py:175] Start Epoch 177 ...\n"
     ]
    },
    {
     "name": "stderr",
     "output_type": "stream",
     "text": [
      "100%|#############################################|70/70[00:01<00:00,50.88it/s]\n"
     ]
    },
    {
     "name": "stdout",
     "output_type": "stream",
     "text": [
      "[1218 22:07:17 @base.py:183] Epoch 177 (global_step 12390) finished, time:1.38 sec.\n",
      "[1218 22:07:17 @saver.py:76] Model saved to ./train_log/linenetFwbVSI2\\model-12390.\n"
     ]
    },
    {
     "name": "stderr",
     "output_type": "stream",
     "text": [
      "100%|############################################|10/10[00:00<00:00,110.82it/s]\n"
     ]
    },
    {
     "name": "stdout",
     "output_type": "stream",
     "text": [
      "[1218 22:07:17 @monitor.py:294] input_queue_size: 50\n",
      "[1218 22:07:17 @monitor.py:294] learning_rate: 0.0004\n",
      "[1218 22:07:17 @monitor.py:294] loss/params: 0.01067\n",
      "[1218 22:07:17 @monitor.py:294] loss/total_cost: 0.050943\n",
      "[1218 22:07:17 @monitor.py:294] loss/widths: 0.0057772\n",
      "[1218 22:07:17 @monitor.py:294] validation_loss/params: 0.029239\n",
      "[1218 22:07:17 @monitor.py:294] validation_loss/widths: 0.0070582\n",
      "[1218 22:07:17 @base.py:175] Start Epoch 178 ...\n"
     ]
    },
    {
     "name": "stderr",
     "output_type": "stream",
     "text": [
      "100%|#############################################|70/70[00:01<00:00,52.49it/s]\n"
     ]
    },
    {
     "name": "stdout",
     "output_type": "stream",
     "text": [
      "[1218 22:07:19 @base.py:183] Epoch 178 (global_step 12460) finished, time:1.34 sec.\n",
      "[1218 22:07:19 @saver.py:76] Model saved to ./train_log/linenetFwbVSI2\\model-12460.\n"
     ]
    },
    {
     "name": "stderr",
     "output_type": "stream",
     "text": [
      "100%|############################################|10/10[00:00<00:00,114.60it/s]\n"
     ]
    },
    {
     "name": "stdout",
     "output_type": "stream",
     "text": [
      "[1218 22:07:19 @monitor.py:294] input_queue_size: 50\n",
      "[1218 22:07:19 @monitor.py:294] learning_rate: 0.0004\n",
      "[1218 22:07:19 @monitor.py:294] loss/params: 0.01073\n",
      "[1218 22:07:19 @monitor.py:294] loss/total_cost: 0.051176\n",
      "[1218 22:07:19 @monitor.py:294] loss/widths: 0.0057724\n",
      "[1218 22:07:19 @monitor.py:294] validation_loss/params: 0.029065\n",
      "[1218 22:07:19 @monitor.py:294] validation_loss/widths: 0.0068775\n",
      "[1218 22:07:19 @base.py:175] Start Epoch 179 ...\n"
     ]
    },
    {
     "name": "stderr",
     "output_type": "stream",
     "text": [
      "100%|#############################################|70/70[00:01<00:00,51.71it/s]\n"
     ]
    },
    {
     "name": "stdout",
     "output_type": "stream",
     "text": [
      "[1218 22:07:21 @base.py:183] Epoch 179 (global_step 12530) finished, time:1.36 sec.\n",
      "[1218 22:07:21 @saver.py:76] Model saved to ./train_log/linenetFwbVSI2\\model-12530.\n"
     ]
    },
    {
     "name": "stderr",
     "output_type": "stream",
     "text": [
      "100%|#############################################|10/10[00:00<00:00,73.88it/s]\n"
     ]
    },
    {
     "name": "stdout",
     "output_type": "stream",
     "text": [
      "[1218 22:07:21 @monitor.py:294] input_queue_size: 50\n",
      "[1218 22:07:21 @monitor.py:294] learning_rate: 0.0004\n",
      "[1218 22:07:21 @monitor.py:294] loss/params: 0.010544\n",
      "[1218 22:07:21 @monitor.py:294] loss/total_cost: 0.050015\n",
      "[1218 22:07:21 @monitor.py:294] loss/widths: 0.0053534\n",
      "[1218 22:07:21 @monitor.py:294] validation_loss/params: 0.028846\n",
      "[1218 22:07:21 @monitor.py:294] validation_loss/widths: 0.0070383\n",
      "[1218 22:07:21 @base.py:175] Start Epoch 180 ...\n"
     ]
    },
    {
     "name": "stderr",
     "output_type": "stream",
     "text": [
      "100%|#############################################|70/70[00:01<00:00,51.91it/s]\n"
     ]
    },
    {
     "name": "stdout",
     "output_type": "stream",
     "text": [
      "[1218 22:07:22 @base.py:183] Epoch 180 (global_step 12600) finished, time:1.35 sec.\n",
      "[1218 22:07:23 @saver.py:76] Model saved to ./train_log/linenetFwbVSI2\\model-12600.\n"
     ]
    },
    {
     "name": "stderr",
     "output_type": "stream",
     "text": [
      "100%|#############################################|10/10[00:00<00:00,88.26it/s]\n"
     ]
    },
    {
     "name": "stdout",
     "output_type": "stream",
     "text": [
      "[1218 22:07:23 @monitor.py:294] input_queue_size: 50\n",
      "[1218 22:07:23 @monitor.py:294] learning_rate: 0.0004\n",
      "[1218 22:07:23 @monitor.py:294] loss/params: 0.010575\n",
      "[1218 22:07:23 @monitor.py:294] loss/total_cost: 0.050521\n",
      "[1218 22:07:23 @monitor.py:294] loss/widths: 0.0057398\n",
      "[1218 22:07:23 @monitor.py:294] validation_loss/params: 0.029013\n",
      "[1218 22:07:23 @monitor.py:294] validation_loss/widths: 0.007417\n",
      "[1218 22:07:23 @base.py:175] Start Epoch 181 ...\n"
     ]
    },
    {
     "name": "stderr",
     "output_type": "stream",
     "text": [
      "100%|#############################################|70/70[00:01<00:00,52.85it/s]\n"
     ]
    },
    {
     "name": "stdout",
     "output_type": "stream",
     "text": [
      "[1218 22:07:24 @base.py:183] Epoch 181 (global_step 12670) finished, time:1.33 sec.\n",
      "[1218 22:07:25 @saver.py:76] Model saved to ./train_log/linenetFwbVSI2\\model-12670.\n"
     ]
    },
    {
     "name": "stderr",
     "output_type": "stream",
     "text": [
      "100%|#############################################|10/10[00:00<00:00,72.80it/s]\n"
     ]
    },
    {
     "name": "stdout",
     "output_type": "stream",
     "text": [
      "[1218 22:07:25 @monitor.py:294] input_queue_size: 50\n",
      "[1218 22:07:25 @monitor.py:294] learning_rate: 0.0004\n",
      "[1218 22:07:25 @monitor.py:294] loss/params: 0.010598\n",
      "[1218 22:07:25 @monitor.py:294] loss/total_cost: 0.050454\n",
      "[1218 22:07:25 @monitor.py:294] loss/widths: 0.0055804\n",
      "[1218 22:07:25 @monitor.py:294] validation_loss/params: 0.028354\n",
      "[1218 22:07:25 @monitor.py:294] validation_loss/widths: 0.0071139\n",
      "[1218 22:07:25 @base.py:175] Start Epoch 182 ...\n"
     ]
    },
    {
     "name": "stderr",
     "output_type": "stream",
     "text": [
      "100%|#############################################|70/70[00:01<00:00,53.09it/s]\n"
     ]
    },
    {
     "name": "stdout",
     "output_type": "stream",
     "text": [
      "[1218 22:07:26 @base.py:183] Epoch 182 (global_step 12740) finished, time:1.32 sec.\n",
      "[1218 22:07:27 @saver.py:76] Model saved to ./train_log/linenetFwbVSI2\\model-12740.\n"
     ]
    },
    {
     "name": "stderr",
     "output_type": "stream",
     "text": [
      "100%|############################################|10/10[00:00<00:00,112.06it/s]\n"
     ]
    },
    {
     "name": "stdout",
     "output_type": "stream",
     "text": [
      "[1218 22:07:27 @monitor.py:294] input_queue_size: 50\n",
      "[1218 22:07:27 @monitor.py:294] learning_rate: 0.0004\n",
      "[1218 22:07:27 @monitor.py:294] loss/params: 0.010315\n",
      "[1218 22:07:27 @monitor.py:294] loss/total_cost: 0.049099\n",
      "[1218 22:07:27 @monitor.py:294] loss/widths: 0.0053576\n",
      "[1218 22:07:27 @monitor.py:294] validation_loss/params: 0.029881\n",
      "[1218 22:07:27 @monitor.py:294] validation_loss/widths: 0.0070973\n",
      "[1218 22:07:27 @base.py:175] Start Epoch 183 ...\n"
     ]
    },
    {
     "name": "stderr",
     "output_type": "stream",
     "text": [
      "100%|#############################################|70/70[00:01<00:00,52.06it/s]\n"
     ]
    },
    {
     "name": "stdout",
     "output_type": "stream",
     "text": [
      "[1218 22:07:28 @base.py:183] Epoch 183 (global_step 12810) finished, time:1.35 sec.\n",
      "[1218 22:07:28 @saver.py:76] Model saved to ./train_log/linenetFwbVSI2\\model-12810.\n"
     ]
    },
    {
     "name": "stderr",
     "output_type": "stream",
     "text": [
      "100%|#############################################|10/10[00:00<00:00,88.26it/s]\n"
     ]
    },
    {
     "name": "stdout",
     "output_type": "stream",
     "text": [
      "[1218 22:07:29 @monitor.py:294] input_queue_size: 50\n",
      "[1218 22:07:29 @monitor.py:294] learning_rate: 0.0004\n",
      "[1218 22:07:29 @monitor.py:294] loss/params: 0.010277\n",
      "[1218 22:07:29 @monitor.py:294] loss/total_cost: 0.048901\n",
      "[1218 22:07:29 @monitor.py:294] loss/widths: 0.0053101\n",
      "[1218 22:07:29 @monitor.py:294] validation_loss/params: 0.029383\n",
      "[1218 22:07:29 @monitor.py:294] validation_loss/widths: 0.0070263\n",
      "[1218 22:07:29 @base.py:175] Start Epoch 184 ...\n"
     ]
    },
    {
     "name": "stderr",
     "output_type": "stream",
     "text": [
      "100%|#############################################|70/70[00:01<00:00,53.05it/s]\n"
     ]
    },
    {
     "name": "stdout",
     "output_type": "stream",
     "text": [
      "[1218 22:07:30 @base.py:183] Epoch 184 (global_step 12880) finished, time:1.32 sec.\n",
      "[1218 22:07:31 @saver.py:76] Model saved to ./train_log/linenetFwbVSI2\\model-12880.\n"
     ]
    },
    {
     "name": "stderr",
     "output_type": "stream",
     "text": [
      "100%|#############################################|10/10[00:00<00:00,84.52it/s]\n"
     ]
    },
    {
     "name": "stdout",
     "output_type": "stream",
     "text": [
      "[1218 22:07:31 @monitor.py:294] input_queue_size: 50\n",
      "[1218 22:07:31 @monitor.py:294] learning_rate: 0.0004\n",
      "[1218 22:07:31 @monitor.py:294] loss/params: 0.010114\n",
      "[1218 22:07:31 @monitor.py:294] loss/total_cost: 0.048522\n",
      "[1218 22:07:31 @monitor.py:294] loss/widths: 0.005585\n",
      "[1218 22:07:31 @monitor.py:294] validation_loss/params: 0.02859\n",
      "[1218 22:07:31 @monitor.py:294] validation_loss/widths: 0.0071251\n",
      "[1218 22:07:31 @base.py:175] Start Epoch 185 ...\n"
     ]
    },
    {
     "name": "stderr",
     "output_type": "stream",
     "text": [
      "100%|#############################################|70/70[00:01<00:00,52.97it/s]\n"
     ]
    },
    {
     "name": "stdout",
     "output_type": "stream",
     "text": [
      "[1218 22:07:32 @base.py:183] Epoch 185 (global_step 12950) finished, time:1.33 sec.\n",
      "[1218 22:07:32 @saver.py:76] Model saved to ./train_log/linenetFwbVSI2\\model-12950.\n"
     ]
    },
    {
     "name": "stderr",
     "output_type": "stream",
     "text": [
      "100%|############################################|10/10[00:00<00:00,113.33it/s]\n"
     ]
    },
    {
     "name": "stdout",
     "output_type": "stream",
     "text": [
      "[1218 22:07:33 @monitor.py:294] input_queue_size: 50\n",
      "[1218 22:07:33 @monitor.py:294] learning_rate: 0.0004\n",
      "[1218 22:07:33 @monitor.py:294] loss/params: 0.010186\n",
      "[1218 22:07:33 @monitor.py:294] loss/total_cost: 0.04889\n",
      "[1218 22:07:33 @monitor.py:294] loss/widths: 0.0056642\n",
      "[1218 22:07:33 @monitor.py:294] validation_loss/params: 0.030156\n",
      "[1218 22:07:33 @monitor.py:294] validation_loss/widths: 0.0071265\n",
      "[1218 22:07:33 @base.py:175] Start Epoch 186 ...\n"
     ]
    },
    {
     "name": "stderr",
     "output_type": "stream",
     "text": [
      "100%|#############################################|70/70[00:01<00:00,52.45it/s]\n"
     ]
    },
    {
     "name": "stdout",
     "output_type": "stream",
     "text": [
      "[1218 22:07:34 @base.py:183] Epoch 186 (global_step 13020) finished, time:1.34 sec.\n",
      "[1218 22:07:34 @saver.py:76] Model saved to ./train_log/linenetFwbVSI2\\model-13020.\n"
     ]
    },
    {
     "name": "stderr",
     "output_type": "stream",
     "text": [
      "100%|############################################|10/10[00:00<00:00,115.97it/s]\n"
     ]
    },
    {
     "name": "stdout",
     "output_type": "stream",
     "text": [
      "[1218 22:07:34 @monitor.py:294] input_queue_size: 50\n",
      "[1218 22:07:34 @monitor.py:294] learning_rate: 0.0004\n",
      "[1218 22:07:34 @monitor.py:294] loss/params: 0.0099029\n",
      "[1218 22:07:34 @monitor.py:294] loss/total_cost: 0.047549\n",
      "[1218 22:07:34 @monitor.py:294] loss/widths: 0.0054576\n",
      "[1218 22:07:34 @monitor.py:294] validation_loss/params: 0.02915\n",
      "[1218 22:07:34 @monitor.py:294] validation_loss/widths: 0.0069951\n",
      "[1218 22:07:34 @base.py:175] Start Epoch 187 ...\n"
     ]
    },
    {
     "name": "stderr",
     "output_type": "stream",
     "text": [
      "100%|#############################################|70/70[00:01<00:00,53.01it/s]\n"
     ]
    },
    {
     "name": "stdout",
     "output_type": "stream",
     "text": [
      "[1218 22:07:36 @base.py:183] Epoch 187 (global_step 13090) finished, time:1.32 sec.\n",
      "[1218 22:07:36 @saver.py:76] Model saved to ./train_log/linenetFwbVSI2\\model-13090.\n"
     ]
    },
    {
     "name": "stderr",
     "output_type": "stream",
     "text": [
      "100%|#############################################|10/10[00:00<00:00,85.96it/s]\n"
     ]
    },
    {
     "name": "stdout",
     "output_type": "stream",
     "text": [
      "[1218 22:07:36 @monitor.py:294] input_queue_size: 50\n",
      "[1218 22:07:36 @monitor.py:294] learning_rate: 0.0004\n",
      "[1218 22:07:36 @monitor.py:294] loss/params: 0.0098521\n",
      "[1218 22:07:36 @monitor.py:294] loss/total_cost: 0.047365\n",
      "[1218 22:07:36 @monitor.py:294] loss/widths: 0.0054774\n",
      "[1218 22:07:36 @monitor.py:294] validation_loss/params: 0.028623\n",
      "[1218 22:07:36 @monitor.py:294] validation_loss/widths: 0.0071536\n",
      "[1218 22:07:36 @base.py:175] Start Epoch 188 ...\n"
     ]
    },
    {
     "name": "stderr",
     "output_type": "stream",
     "text": [
      "100%|#############################################|70/70[00:01<00:00,52.65it/s]\n"
     ]
    },
    {
     "name": "stdout",
     "output_type": "stream",
     "text": [
      "[1218 22:07:38 @base.py:183] Epoch 188 (global_step 13160) finished, time:1.33 sec.\n",
      "[1218 22:07:38 @saver.py:76] Model saved to ./train_log/linenetFwbVSI2\\model-13160.\n"
     ]
    },
    {
     "name": "stderr",
     "output_type": "stream",
     "text": [
      "100%|############################################|10/10[00:00<00:00,115.94it/s]\n"
     ]
    },
    {
     "name": "stdout",
     "output_type": "stream",
     "text": [
      "[1218 22:07:38 @monitor.py:294] input_queue_size: 50\n",
      "[1218 22:07:38 @monitor.py:294] learning_rate: 0.0004\n",
      "[1218 22:07:38 @monitor.py:294] loss/params: 0.0098038\n",
      "[1218 22:07:38 @monitor.py:294] loss/total_cost: 0.047191\n",
      "[1218 22:07:38 @monitor.py:294] loss/widths: 0.0054971\n",
      "[1218 22:07:38 @monitor.py:294] validation_loss/params: 0.030134\n",
      "[1218 22:07:38 @monitor.py:294] validation_loss/widths: 0.0074138\n",
      "[1218 22:07:38 @base.py:175] Start Epoch 189 ...\n"
     ]
    },
    {
     "name": "stderr",
     "output_type": "stream",
     "text": [
      "100%|#############################################|70/70[00:01<00:00,52.49it/s]\n"
     ]
    },
    {
     "name": "stdout",
     "output_type": "stream",
     "text": [
      "[1218 22:07:39 @base.py:183] Epoch 189 (global_step 13230) finished, time:1.34 sec.\n",
      "[1218 22:07:40 @saver.py:76] Model saved to ./train_log/linenetFwbVSI2\\model-13230.\n"
     ]
    },
    {
     "name": "stderr",
     "output_type": "stream",
     "text": [
      "100%|#############################################|10/10[00:00<00:00,94.97it/s]\n"
     ]
    },
    {
     "name": "stdout",
     "output_type": "stream",
     "text": [
      "[1218 22:07:40 @monitor.py:294] input_queue_size: 50\n",
      "[1218 22:07:40 @monitor.py:294] learning_rate: 0.0004\n",
      "[1218 22:07:40 @monitor.py:294] loss/params: 0.0097084\n",
      "[1218 22:07:40 @monitor.py:294] loss/total_cost: 0.046774\n",
      "[1218 22:07:40 @monitor.py:294] loss/widths: 0.0054627\n",
      "[1218 22:07:40 @monitor.py:294] validation_loss/params: 0.029723\n",
      "[1218 22:07:40 @monitor.py:294] validation_loss/widths: 0.0069521\n",
      "[1218 22:07:40 @base.py:175] Start Epoch 190 ...\n"
     ]
    },
    {
     "name": "stderr",
     "output_type": "stream",
     "text": [
      "100%|#############################################|70/70[00:01<00:00,52.18it/s]\n"
     ]
    },
    {
     "name": "stdout",
     "output_type": "stream",
     "text": [
      "[1218 22:07:41 @base.py:183] Epoch 190 (global_step 13300) finished, time:1.38 sec.\n",
      "[1218 22:07:42 @saver.py:76] Model saved to ./train_log/linenetFwbVSI2\\model-13300.\n"
     ]
    },
    {
     "name": "stderr",
     "output_type": "stream",
     "text": [
      "100%|#############################################|10/10[00:00<00:00,94.09it/s]\n"
     ]
    },
    {
     "name": "stdout",
     "output_type": "stream",
     "text": [
      "[1218 22:07:42 @monitor.py:294] input_queue_size: 50\n",
      "[1218 22:07:42 @monitor.py:294] learning_rate: 0.0004\n",
      "[1218 22:07:42 @monitor.py:294] loss/params: 0.0095257\n",
      "[1218 22:07:42 @monitor.py:294] loss/total_cost: 0.045923\n",
      "[1218 22:07:42 @monitor.py:294] loss/widths: 0.005343\n",
      "[1218 22:07:42 @monitor.py:294] validation_loss/params: 0.030595\n",
      "[1218 22:07:42 @monitor.py:294] validation_loss/widths: 0.0088807\n",
      "[1218 22:07:42 @base.py:175] Start Epoch 191 ...\n"
     ]
    },
    {
     "name": "stderr",
     "output_type": "stream",
     "text": [
      "100%|#############################################|70/70[00:01<00:00,52.89it/s]\n"
     ]
    },
    {
     "name": "stdout",
     "output_type": "stream",
     "text": [
      "[1218 22:07:43 @base.py:183] Epoch 191 (global_step 13370) finished, time:1.33 sec.\n",
      "[1218 22:07:44 @saver.py:76] Model saved to ./train_log/linenetFwbVSI2\\model-13370.\n"
     ]
    },
    {
     "name": "stderr",
     "output_type": "stream",
     "text": [
      "100%|############################################|10/10[00:00<00:00,112.06it/s]\n"
     ]
    },
    {
     "name": "stdout",
     "output_type": "stream",
     "text": [
      "[1218 22:07:44 @monitor.py:294] input_queue_size: 50\n",
      "[1218 22:07:44 @monitor.py:294] learning_rate: 0.0004\n",
      "[1218 22:07:44 @monitor.py:294] loss/params: 0.0095695\n",
      "[1218 22:07:44 @monitor.py:294] loss/total_cost: 0.046185\n",
      "[1218 22:07:44 @monitor.py:294] loss/widths: 0.0054299\n",
      "[1218 22:07:44 @monitor.py:294] validation_loss/params: 0.028695\n",
      "[1218 22:07:44 @monitor.py:294] validation_loss/widths: 0.0074197\n",
      "[1218 22:07:44 @base.py:175] Start Epoch 192 ...\n"
     ]
    },
    {
     "name": "stderr",
     "output_type": "stream",
     "text": [
      "100%|#############################################|70/70[00:01<00:00,52.22it/s]\n"
     ]
    },
    {
     "name": "stdout",
     "output_type": "stream",
     "text": [
      "[1218 22:07:45 @base.py:183] Epoch 192 (global_step 13440) finished, time:1.35 sec.\n",
      "[1218 22:07:45 @saver.py:76] Model saved to ./train_log/linenetFwbVSI2\\model-13440.\n"
     ]
    },
    {
     "name": "stderr",
     "output_type": "stream",
     "text": [
      "100%|############################################|10/10[00:00<00:00,108.41it/s]\n"
     ]
    },
    {
     "name": "stdout",
     "output_type": "stream",
     "text": [
      "[1218 22:07:46 @monitor.py:294] input_queue_size: 50\n",
      "[1218 22:07:46 @monitor.py:294] learning_rate: 0.0004\n",
      "[1218 22:07:46 @monitor.py:294] loss/params: 0.0094437\n",
      "[1218 22:07:46 @monitor.py:294] loss/total_cost: 0.045392\n",
      "[1218 22:07:46 @monitor.py:294] loss/widths: 0.0051411\n",
      "[1218 22:07:46 @monitor.py:294] validation_loss/params: 0.029037\n",
      "[1218 22:07:46 @monitor.py:294] validation_loss/widths: 0.0073731\n",
      "[1218 22:07:46 @base.py:175] Start Epoch 193 ...\n"
     ]
    },
    {
     "name": "stderr",
     "output_type": "stream",
     "text": [
      "100%|#############################################|70/70[00:01<00:00,52.49it/s]\n"
     ]
    },
    {
     "name": "stdout",
     "output_type": "stream",
     "text": [
      "[1218 22:07:47 @base.py:183] Epoch 193 (global_step 13510) finished, time:1.34 sec.\n",
      "[1218 22:07:47 @saver.py:76] Model saved to ./train_log/linenetFwbVSI2\\model-13510.\n"
     ]
    },
    {
     "name": "stderr",
     "output_type": "stream",
     "text": [
      "100%|############################################|10/10[00:00<00:00,109.60it/s]\n"
     ]
    },
    {
     "name": "stdout",
     "output_type": "stream",
     "text": [
      "[1218 22:07:48 @monitor.py:294] input_queue_size: 50\n",
      "[1218 22:07:48 @monitor.py:294] learning_rate: 0.0004\n",
      "[1218 22:07:48 @monitor.py:294] loss/params: 0.0093014\n",
      "[1218 22:07:48 @monitor.py:294] loss/total_cost: 0.044966\n",
      "[1218 22:07:48 @monitor.py:294] loss/widths: 0.0052849\n",
      "[1218 22:07:48 @monitor.py:294] validation_loss/params: 0.029308\n",
      "[1218 22:07:48 @monitor.py:294] validation_loss/widths: 0.0075768\n",
      "[1218 22:07:48 @base.py:175] Start Epoch 194 ...\n"
     ]
    },
    {
     "name": "stderr",
     "output_type": "stream",
     "text": [
      "100%|#############################################|70/70[00:01<00:00,52.57it/s]\n"
     ]
    },
    {
     "name": "stdout",
     "output_type": "stream",
     "text": [
      "[1218 22:07:49 @base.py:183] Epoch 194 (global_step 13580) finished, time:1.34 sec.\n",
      "[1218 22:07:49 @saver.py:76] Model saved to ./train_log/linenetFwbVSI2\\model-13580.\n"
     ]
    },
    {
     "name": "stderr",
     "output_type": "stream",
     "text": [
      "100%|#############################################|10/10[00:00<00:00,97.78it/s]\n"
     ]
    },
    {
     "name": "stdout",
     "output_type": "stream",
     "text": [
      "[1218 22:07:49 @monitor.py:294] input_queue_size: 50\n",
      "[1218 22:07:49 @monitor.py:294] learning_rate: 0.0004\n",
      "[1218 22:07:49 @monitor.py:294] loss/params: 0.0092339\n",
      "[1218 22:07:49 @monitor.py:294] loss/total_cost: 0.044619\n",
      "[1218 22:07:49 @monitor.py:294] loss/widths: 0.0052081\n",
      "[1218 22:07:49 @monitor.py:294] validation_loss/params: 0.029648\n",
      "[1218 22:07:49 @monitor.py:294] validation_loss/widths: 0.0071242\n",
      "[1218 22:07:49 @base.py:175] Start Epoch 195 ...\n"
     ]
    },
    {
     "name": "stderr",
     "output_type": "stream",
     "text": [
      "100%|#############################################|70/70[00:01<00:00,51.79it/s]\n"
     ]
    },
    {
     "name": "stdout",
     "output_type": "stream",
     "text": [
      "[1218 22:07:51 @base.py:183] Epoch 195 (global_step 13650) finished, time:1.36 sec.\n",
      "[1218 22:07:51 @saver.py:76] Model saved to ./train_log/linenetFwbVSI2\\model-13650.\n"
     ]
    },
    {
     "name": "stderr",
     "output_type": "stream",
     "text": [
      "100%|#############################################|10/10[00:00<00:00,98.75it/s]\n"
     ]
    },
    {
     "name": "stdout",
     "output_type": "stream",
     "text": [
      "[1218 22:07:51 @monitor.py:294] input_queue_size: 50\n",
      "[1218 22:07:51 @monitor.py:294] learning_rate: 0.0004\n",
      "[1218 22:07:51 @monitor.py:294] loss/params: 0.0090511\n",
      "[1218 22:07:51 @monitor.py:294] loss/total_cost: 0.043789\n",
      "[1218 22:07:51 @monitor.py:294] loss/widths: 0.0051104\n",
      "[1218 22:07:51 @monitor.py:294] validation_loss/params: 0.02914\n",
      "[1218 22:07:51 @monitor.py:294] validation_loss/widths: 0.0072297\n",
      "[1218 22:07:51 @base.py:175] Start Epoch 196 ...\n"
     ]
    },
    {
     "name": "stderr",
     "output_type": "stream",
     "text": [
      "100%|#############################################|70/70[00:01<00:00,52.69it/s]\n"
     ]
    },
    {
     "name": "stdout",
     "output_type": "stream",
     "text": [
      "[1218 22:07:53 @base.py:183] Epoch 196 (global_step 13720) finished, time:1.33 sec.\n",
      "[1218 22:07:53 @saver.py:76] Model saved to ./train_log/linenetFwbVSI2\\model-13720.\n"
     ]
    },
    {
     "name": "stderr",
     "output_type": "stream",
     "text": [
      "100%|#############################################|10/10[00:00<00:00,70.74it/s]\n"
     ]
    },
    {
     "name": "stdout",
     "output_type": "stream",
     "text": [
      "[1218 22:07:53 @monitor.py:294] input_queue_size: 50\n",
      "[1218 22:07:53 @monitor.py:294] learning_rate: 0.0004\n",
      "[1218 22:07:53 @monitor.py:294] loss/params: 0.0090986\n",
      "[1218 22:07:53 @monitor.py:294] loss/total_cost: 0.043951\n",
      "[1218 22:07:53 @monitor.py:294] loss/widths: 0.0050833\n",
      "[1218 22:07:53 @monitor.py:294] validation_loss/params: 0.029269\n",
      "[1218 22:07:53 @monitor.py:294] validation_loss/widths: 0.0076585\n",
      "[1218 22:07:53 @base.py:175] Start Epoch 197 ...\n"
     ]
    },
    {
     "name": "stderr",
     "output_type": "stream",
     "text": [
      "100%|#############################################|70/70[00:01<00:00,52.69it/s]\n"
     ]
    },
    {
     "name": "stdout",
     "output_type": "stream",
     "text": [
      "[1218 22:07:55 @base.py:183] Epoch 197 (global_step 13790) finished, time:1.33 sec.\n",
      "[1218 22:07:55 @saver.py:76] Model saved to ./train_log/linenetFwbVSI2\\model-13790.\n"
     ]
    },
    {
     "name": "stderr",
     "output_type": "stream",
     "text": [
      "100%|#############################################|10/10[00:00<00:00,94.99it/s]\n"
     ]
    },
    {
     "name": "stdout",
     "output_type": "stream",
     "text": [
      "[1218 22:07:55 @monitor.py:294] input_queue_size: 50\n",
      "[1218 22:07:55 @monitor.py:294] learning_rate: 0.0004\n",
      "[1218 22:07:55 @monitor.py:294] loss/params: 0.0090933\n",
      "[1218 22:07:55 @monitor.py:294] loss/total_cost: 0.044155\n",
      "[1218 22:07:55 @monitor.py:294] loss/widths: 0.0053093\n",
      "[1218 22:07:55 @monitor.py:294] validation_loss/params: 0.029504\n",
      "[1218 22:07:55 @monitor.py:294] validation_loss/widths: 0.0080884\n",
      "[1218 22:07:55 @base.py:175] Start Epoch 198 ...\n"
     ]
    },
    {
     "name": "stderr",
     "output_type": "stream",
     "text": [
      "100%|#############################################|70/70[00:01<00:00,52.22it/s]\n"
     ]
    },
    {
     "name": "stdout",
     "output_type": "stream",
     "text": [
      "[1218 22:07:57 @base.py:183] Epoch 198 (global_step 13860) finished, time:1.34 sec.\n",
      "[1218 22:07:57 @saver.py:76] Model saved to ./train_log/linenetFwbVSI2\\model-13860.\n"
     ]
    },
    {
     "name": "stderr",
     "output_type": "stream",
     "text": [
      "100%|############################################|10/10[00:00<00:00,114.64it/s]\n"
     ]
    },
    {
     "name": "stdout",
     "output_type": "stream",
     "text": [
      "[1218 22:07:57 @monitor.py:294] input_queue_size: 50\n",
      "[1218 22:07:57 @monitor.py:294] learning_rate: 0.0004\n",
      "[1218 22:07:57 @monitor.py:294] loss/params: 0.0089088\n",
      "[1218 22:07:57 @monitor.py:294] loss/total_cost: 0.043101\n",
      "[1218 22:07:57 @monitor.py:294] loss/widths: 0.0049938\n",
      "[1218 22:07:57 @monitor.py:294] validation_loss/params: 0.02911\n",
      "[1218 22:07:57 @monitor.py:294] validation_loss/widths: 0.0083663\n",
      "[1218 22:07:57 @base.py:175] Start Epoch 199 ...\n"
     ]
    },
    {
     "name": "stderr",
     "output_type": "stream",
     "text": [
      "100%|#############################################|70/70[00:01<00:00,51.52it/s]\n"
     ]
    },
    {
     "name": "stdout",
     "output_type": "stream",
     "text": [
      "[1218 22:07:58 @base.py:183] Epoch 199 (global_step 13930) finished, time:1.36 sec.\n",
      "[1218 22:07:59 @saver.py:76] Model saved to ./train_log/linenetFwbVSI2\\model-13930.\n"
     ]
    },
    {
     "name": "stderr",
     "output_type": "stream",
     "text": [
      "100%|#############################################|10/10[00:00<00:00,96.83it/s]\n"
     ]
    },
    {
     "name": "stdout",
     "output_type": "stream",
     "text": [
      "[1218 22:07:59 @monitor.py:294] input_queue_size: 50\n",
      "[1218 22:07:59 @monitor.py:294] learning_rate: 0.0004\n",
      "[1218 22:07:59 @monitor.py:294] loss/params: 0.008957\n",
      "[1218 22:07:59 @monitor.py:294] loss/total_cost: 0.043573\n",
      "[1218 22:07:59 @monitor.py:294] loss/widths: 0.0052734\n",
      "[1218 22:07:59 @monitor.py:294] validation_loss/params: 0.029173\n",
      "[1218 22:07:59 @monitor.py:294] validation_loss/widths: 0.0071514\n",
      "[1218 22:07:59 @base.py:175] Start Epoch 200 ...\n"
     ]
    },
    {
     "name": "stderr",
     "output_type": "stream",
     "text": [
      "100%|#############################################|70/70[00:01<00:00,52.61it/s]\n"
     ]
    },
    {
     "name": "stdout",
     "output_type": "stream",
     "text": [
      "[1218 22:08:00 @base.py:183] Epoch 200 (global_step 14000) finished, time:1.33 sec.\n",
      "[1218 22:08:01 @saver.py:76] Model saved to ./train_log/linenetFwbVSI2\\model-14000.\n"
     ]
    },
    {
     "name": "stderr",
     "output_type": "stream",
     "text": [
      "100%|#############################################|10/10[00:00<00:00,67.85it/s]\n"
     ]
    },
    {
     "name": "stdout",
     "output_type": "stream",
     "text": [
      "[1218 22:08:01 @monitor.py:294] input_queue_size: 50\n",
      "[1218 22:08:01 @monitor.py:294] learning_rate: 0.0004\n",
      "[1218 22:08:01 @monitor.py:294] loss/params: 0.0089376\n",
      "[1218 22:08:01 @monitor.py:294] loss/total_cost: 0.043322\n",
      "[1218 22:08:01 @monitor.py:294] loss/widths: 0.005101\n",
      "[1218 22:08:01 @monitor.py:294] validation_loss/params: 0.029812\n",
      "[1218 22:08:01 @monitor.py:294] validation_loss/widths: 0.0095105\n",
      "[1218 22:08:01 @base.py:175] Start Epoch 201 ...\n"
     ]
    },
    {
     "name": "stderr",
     "output_type": "stream",
     "text": [
      "100%|#############################################|70/70[00:01<00:00,52.77it/s]\n"
     ]
    },
    {
     "name": "stdout",
     "output_type": "stream",
     "text": [
      "[1218 22:08:02 @base.py:183] Epoch 201 (global_step 14070) finished, time:1.33 sec.\n",
      "[1218 22:08:03 @saver.py:76] Model saved to ./train_log/linenetFwbVSI2\\model-14070.\n"
     ]
    },
    {
     "name": "stderr",
     "output_type": "stream",
     "text": [
      "100%|############################################|10/10[00:00<00:00,102.82it/s]\n"
     ]
    },
    {
     "name": "stdout",
     "output_type": "stream",
     "text": [
      "[1218 22:08:03 @monitor.py:294] input_queue_size: 50\n",
      "[1218 22:08:03 @monitor.py:294] learning_rate: 0.0004\n",
      "[1218 22:08:03 @monitor.py:294] loss/params: 0.008964\n",
      "[1218 22:08:03 @monitor.py:294] loss/total_cost: 0.043414\n",
      "[1218 22:08:03 @monitor.py:294] loss/widths: 0.005088\n",
      "[1218 22:08:03 @monitor.py:294] validation_loss/params: 0.029927\n",
      "[1218 22:08:03 @monitor.py:294] validation_loss/widths: 0.0082867\n",
      "[1218 22:08:03 @base.py:175] Start Epoch 202 ...\n"
     ]
    },
    {
     "name": "stderr",
     "output_type": "stream",
     "text": [
      "100%|#############################################|70/70[00:01<00:00,52.57it/s]\n"
     ]
    },
    {
     "name": "stdout",
     "output_type": "stream",
     "text": [
      "[1218 22:08:04 @base.py:183] Epoch 202 (global_step 14140) finished, time:1.33 sec.\n",
      "[1218 22:08:05 @saver.py:76] Model saved to ./train_log/linenetFwbVSI2\\model-14140.\n"
     ]
    },
    {
     "name": "stderr",
     "output_type": "stream",
     "text": [
      "100%|############################################|10/10[00:00<00:00,109.60it/s]\n"
     ]
    },
    {
     "name": "stdout",
     "output_type": "stream",
     "text": [
      "[1218 22:08:05 @monitor.py:294] input_queue_size: 50\n",
      "[1218 22:08:05 @monitor.py:294] learning_rate: 0.0004\n",
      "[1218 22:08:05 @monitor.py:294] loss/params: 0.0089067\n",
      "[1218 22:08:05 @monitor.py:294] loss/total_cost: 0.043299\n",
      "[1218 22:08:05 @monitor.py:294] loss/widths: 0.0052026\n",
      "[1218 22:08:05 @monitor.py:294] validation_loss/params: 0.0295\n",
      "[1218 22:08:05 @monitor.py:294] validation_loss/widths: 0.0072453\n",
      "[1218 22:08:05 @base.py:175] Start Epoch 203 ...\n"
     ]
    },
    {
     "name": "stderr",
     "output_type": "stream",
     "text": [
      "100%|#############################################|70/70[00:01<00:00,52.37it/s]\n"
     ]
    },
    {
     "name": "stdout",
     "output_type": "stream",
     "text": [
      "[1218 22:08:06 @base.py:183] Epoch 203 (global_step 14210) finished, time:1.34 sec.\n",
      "[1218 22:08:06 @saver.py:76] Model saved to ./train_log/linenetFwbVSI2\\model-14210.\n"
     ]
    },
    {
     "name": "stderr",
     "output_type": "stream",
     "text": [
      "100%|############################################|10/10[00:00<00:00,108.41it/s]\n"
     ]
    },
    {
     "name": "stdout",
     "output_type": "stream",
     "text": [
      "[1218 22:08:07 @monitor.py:294] input_queue_size: 50\n",
      "[1218 22:08:07 @monitor.py:294] learning_rate: 0.0004\n",
      "[1218 22:08:07 @monitor.py:294] loss/params: 0.0088043\n",
      "[1218 22:08:07 @monitor.py:294] loss/total_cost: 0.042714\n",
      "[1218 22:08:07 @monitor.py:294] loss/widths: 0.0050273\n",
      "[1218 22:08:07 @monitor.py:294] validation_loss/params: 0.030045\n",
      "[1218 22:08:07 @monitor.py:294] validation_loss/widths: 0.0072863\n",
      "[1218 22:08:07 @base.py:175] Start Epoch 204 ...\n"
     ]
    },
    {
     "name": "stderr",
     "output_type": "stream",
     "text": [
      "100%|#############################################|70/70[00:01<00:00,52.49it/s]\n"
     ]
    },
    {
     "name": "stdout",
     "output_type": "stream",
     "text": [
      "[1218 22:08:08 @base.py:183] Epoch 204 (global_step 14280) finished, time:1.34 sec.\n",
      "[1218 22:08:08 @saver.py:76] Model saved to ./train_log/linenetFwbVSI2\\model-14280.\n"
     ]
    },
    {
     "name": "stderr",
     "output_type": "stream",
     "text": [
      "100%|############################################|10/10[00:00<00:00,109.60it/s]\n"
     ]
    },
    {
     "name": "stdout",
     "output_type": "stream",
     "text": [
      "[1218 22:08:08 @monitor.py:294] input_queue_size: 50\n",
      "[1218 22:08:08 @monitor.py:294] learning_rate: 0.0004\n",
      "[1218 22:08:08 @monitor.py:294] loss/params: 0.0087131\n",
      "[1218 22:08:08 @monitor.py:294] loss/total_cost: 0.042431\n",
      "[1218 22:08:08 @monitor.py:294] loss/widths: 0.0051103\n",
      "[1218 22:08:08 @monitor.py:294] validation_loss/params: 0.029523\n",
      "[1218 22:08:08 @monitor.py:294] validation_loss/widths: 0.0069897\n",
      "[1218 22:08:08 @base.py:175] Start Epoch 205 ...\n"
     ]
    },
    {
     "name": "stderr",
     "output_type": "stream",
     "text": [
      "100%|#############################################|70/70[00:01<00:00,53.13it/s]\n"
     ]
    },
    {
     "name": "stdout",
     "output_type": "stream",
     "text": [
      "[1218 22:08:10 @base.py:183] Epoch 205 (global_step 14350) finished, time:1.32 sec.\n",
      "[1218 22:08:10 @saver.py:76] Model saved to ./train_log/linenetFwbVSI2\\model-14350.\n"
     ]
    },
    {
     "name": "stderr",
     "output_type": "stream",
     "text": [
      "100%|############################################|10/10[00:00<00:00,113.37it/s]\n"
     ]
    },
    {
     "name": "stdout",
     "output_type": "stream",
     "text": [
      "[1218 22:08:10 @monitor.py:294] input_queue_size: 50\n",
      "[1218 22:08:10 @monitor.py:294] learning_rate: 0.0004\n",
      "[1218 22:08:10 @monitor.py:294] loss/params: 0.0084916\n",
      "[1218 22:08:10 @monitor.py:294] loss/total_cost: 0.041615\n",
      "[1218 22:08:10 @monitor.py:294] loss/widths: 0.0051812\n",
      "[1218 22:08:10 @monitor.py:294] validation_loss/params: 0.028376\n",
      "[1218 22:08:10 @monitor.py:294] validation_loss/widths: 0.0077084\n",
      "[1218 22:08:10 @base.py:175] Start Epoch 206 ...\n"
     ]
    },
    {
     "name": "stderr",
     "output_type": "stream",
     "text": [
      "100%|#############################################|70/70[00:01<00:00,52.37it/s]\n"
     ]
    },
    {
     "name": "stdout",
     "output_type": "stream",
     "text": [
      "[1218 22:08:12 @base.py:183] Epoch 206 (global_step 14420) finished, time:1.34 sec.\n",
      "[1218 22:08:12 @saver.py:76] Model saved to ./train_log/linenetFwbVSI2\\model-14420.\n"
     ]
    },
    {
     "name": "stderr",
     "output_type": "stream",
     "text": [
      "100%|############################################|10/10[00:00<00:00,104.98it/s]\n"
     ]
    },
    {
     "name": "stdout",
     "output_type": "stream",
     "text": [
      "[1218 22:08:12 @monitor.py:294] input_queue_size: 50\n",
      "[1218 22:08:12 @monitor.py:294] learning_rate: 0.0004\n",
      "[1218 22:08:12 @monitor.py:294] loss/params: 0.0084975\n",
      "[1218 22:08:12 @monitor.py:294] loss/total_cost: 0.0415\n",
      "[1218 22:08:12 @monitor.py:294] loss/widths: 0.0050431\n",
      "[1218 22:08:12 @monitor.py:294] validation_loss/params: 0.029056\n",
      "[1218 22:08:12 @monitor.py:294] validation_loss/widths: 0.0072626\n",
      "[1218 22:08:12 @base.py:175] Start Epoch 207 ...\n"
     ]
    },
    {
     "name": "stderr",
     "output_type": "stream",
     "text": [
      "100%|#############################################|70/70[00:01<00:00,52.06it/s]\n"
     ]
    },
    {
     "name": "stdout",
     "output_type": "stream",
     "text": [
      "[1218 22:08:13 @base.py:183] Epoch 207 (global_step 14490) finished, time:1.35 sec.\n",
      "[1218 22:08:14 @saver.py:76] Model saved to ./train_log/linenetFwbVSI2\\model-14490.\n"
     ]
    },
    {
     "name": "stderr",
     "output_type": "stream",
     "text": [
      "100%|#############################################|10/10[00:00<00:00,85.24it/s]\n"
     ]
    },
    {
     "name": "stdout",
     "output_type": "stream",
     "text": [
      "[1218 22:08:14 @monitor.py:294] input_queue_size: 50\n",
      "[1218 22:08:14 @monitor.py:294] learning_rate: 0.0004\n",
      "[1218 22:08:14 @monitor.py:294] loss/params: 0.0082747\n",
      "[1218 22:08:14 @monitor.py:294] loss/total_cost: 0.040724\n",
      "[1218 22:08:14 @monitor.py:294] loss/widths: 0.0051591\n",
      "[1218 22:08:14 @monitor.py:294] validation_loss/params: 0.029366\n",
      "[1218 22:08:14 @monitor.py:294] validation_loss/widths: 0.0085541\n",
      "[1218 22:08:14 @base.py:175] Start Epoch 208 ...\n"
     ]
    },
    {
     "name": "stderr",
     "output_type": "stream",
     "text": [
      "100%|#############################################|70/70[00:01<00:00,52.22it/s]\n"
     ]
    },
    {
     "name": "stdout",
     "output_type": "stream",
     "text": [
      "[1218 22:08:15 @base.py:183] Epoch 208 (global_step 14560) finished, time:1.34 sec.\n",
      "[1218 22:08:16 @saver.py:76] Model saved to ./train_log/linenetFwbVSI2\\model-14560.\n"
     ]
    },
    {
     "name": "stderr",
     "output_type": "stream",
     "text": [
      "100%|############################################|10/10[00:00<00:00,108.44it/s]\n"
     ]
    },
    {
     "name": "stdout",
     "output_type": "stream",
     "text": [
      "[1218 22:08:16 @monitor.py:294] input_queue_size: 50\n",
      "[1218 22:08:16 @monitor.py:294] learning_rate: 0.0004\n",
      "[1218 22:08:16 @monitor.py:294] loss/params: 0.0083753\n",
      "[1218 22:08:16 @monitor.py:294] loss/total_cost: 0.041008\n",
      "[1218 22:08:16 @monitor.py:294] loss/widths: 0.0050405\n",
      "[1218 22:08:16 @monitor.py:294] validation_loss/params: 0.028531\n",
      "[1218 22:08:16 @monitor.py:294] validation_loss/widths: 0.0071504\n",
      "[1218 22:08:16 @base.py:175] Start Epoch 209 ...\n"
     ]
    },
    {
     "name": "stderr",
     "output_type": "stream",
     "text": [
      "100%|#############################################|70/70[00:01<00:00,52.41it/s]\n"
     ]
    },
    {
     "name": "stdout",
     "output_type": "stream",
     "text": [
      "[1218 22:08:17 @base.py:183] Epoch 209 (global_step 14630) finished, time:1.34 sec.\n",
      "[1218 22:08:18 @saver.py:76] Model saved to ./train_log/linenetFwbVSI2\\model-14630.\n"
     ]
    },
    {
     "name": "stderr",
     "output_type": "stream",
     "text": [
      "100%|############################################|10/10[00:00<00:00,114.67it/s]\n"
     ]
    },
    {
     "name": "stdout",
     "output_type": "stream",
     "text": [
      "[1218 22:08:18 @monitor.py:294] input_queue_size: 50\n",
      "[1218 22:08:18 @monitor.py:294] learning_rate: 0.0004\n",
      "[1218 22:08:18 @monitor.py:294] loss/params: 0.0085778\n",
      "[1218 22:08:18 @monitor.py:294] loss/total_cost: 0.04182\n",
      "[1218 22:08:18 @monitor.py:294] loss/widths: 0.0050432\n",
      "[1218 22:08:18 @monitor.py:294] validation_loss/params: 0.028743\n",
      "[1218 22:08:18 @monitor.py:294] validation_loss/widths: 0.0073341\n",
      "[1218 22:08:18 @base.py:175] Start Epoch 210 ...\n"
     ]
    },
    {
     "name": "stderr",
     "output_type": "stream",
     "text": [
      "100%|#############################################|70/70[00:01<00:00,53.13it/s]\n"
     ]
    },
    {
     "name": "stdout",
     "output_type": "stream",
     "text": [
      "[1218 22:08:19 @base.py:183] Epoch 210 (global_step 14700) finished, time:1.32 sec.\n",
      "[1218 22:08:19 @saver.py:76] Model saved to ./train_log/linenetFwbVSI2\\model-14700.\n"
     ]
    },
    {
     "name": "stderr",
     "output_type": "stream",
     "text": [
      "100%|############################################|10/10[00:00<00:00,107.24it/s]\n"
     ]
    },
    {
     "name": "stdout",
     "output_type": "stream",
     "text": [
      "[1218 22:08:20 @monitor.py:294] input_queue_size: 50\n",
      "[1218 22:08:20 @monitor.py:294] learning_rate: 0.0004\n",
      "[1218 22:08:20 @monitor.py:294] loss/params: 0.0084457\n",
      "[1218 22:08:20 @monitor.py:294] loss/total_cost: 0.041328\n",
      "[1218 22:08:20 @monitor.py:294] loss/widths: 0.0050807\n",
      "[1218 22:08:20 @monitor.py:294] validation_loss/params: 0.028859\n",
      "[1218 22:08:20 @monitor.py:294] validation_loss/widths: 0.0070829\n",
      "[1218 22:08:20 @base.py:175] Start Epoch 211 ...\n"
     ]
    },
    {
     "name": "stderr",
     "output_type": "stream",
     "text": [
      "100%|#############################################|70/70[00:01<00:00,52.73it/s]\n"
     ]
    },
    {
     "name": "stdout",
     "output_type": "stream",
     "text": [
      "[1218 22:08:21 @base.py:183] Epoch 211 (global_step 14770) finished, time:1.33 sec.\n",
      "[1218 22:08:21 @saver.py:76] Model saved to ./train_log/linenetFwbVSI2\\model-14770.\n"
     ]
    },
    {
     "name": "stderr",
     "output_type": "stream",
     "text": [
      "100%|############################################|10/10[00:00<00:00,110.82it/s]\n"
     ]
    },
    {
     "name": "stdout",
     "output_type": "stream",
     "text": [
      "[1218 22:08:21 @monitor.py:294] input_queue_size: 50\n",
      "[1218 22:08:21 @monitor.py:294] learning_rate: 0.0004\n",
      "[1218 22:08:21 @monitor.py:294] loss/params: 0.0081037\n",
      "[1218 22:08:21 @monitor.py:294] loss/total_cost: 0.039737\n",
      "[1218 22:08:21 @monitor.py:294] loss/widths: 0.004858\n",
      "[1218 22:08:21 @monitor.py:294] validation_loss/params: 0.028619\n",
      "[1218 22:08:21 @monitor.py:294] validation_loss/widths: 0.007175\n",
      "[1218 22:08:21 @base.py:175] Start Epoch 212 ...\n"
     ]
    },
    {
     "name": "stderr",
     "output_type": "stream",
     "text": [
      "100%|#############################################|70/70[00:01<00:00,51.49it/s]\n"
     ]
    },
    {
     "name": "stdout",
     "output_type": "stream",
     "text": [
      "[1218 22:08:23 @base.py:183] Epoch 212 (global_step 14840) finished, time:1.36 sec.\n",
      "[1218 22:08:23 @saver.py:76] Model saved to ./train_log/linenetFwbVSI2\\model-14840.\n"
     ]
    },
    {
     "name": "stderr",
     "output_type": "stream",
     "text": [
      "100%|############################################|10/10[00:00<00:00,106.10it/s]\n"
     ]
    },
    {
     "name": "stdout",
     "output_type": "stream",
     "text": [
      "[1218 22:08:23 @monitor.py:294] input_queue_size: 50\n",
      "[1218 22:08:23 @monitor.py:294] learning_rate: 0.0004\n",
      "[1218 22:08:23 @monitor.py:294] loss/params: 0.008127\n",
      "[1218 22:08:23 @monitor.py:294] loss/total_cost: 0.039947\n",
      "[1218 22:08:23 @monitor.py:294] loss/widths: 0.0049753\n",
      "[1218 22:08:23 @monitor.py:294] validation_loss/params: 0.029071\n",
      "[1218 22:08:23 @monitor.py:294] validation_loss/widths: 0.0070088\n",
      "[1218 22:08:23 @base.py:175] Start Epoch 213 ...\n"
     ]
    },
    {
     "name": "stderr",
     "output_type": "stream",
     "text": [
      "100%|#############################################|70/70[00:01<00:00,52.29it/s]\n"
     ]
    },
    {
     "name": "stdout",
     "output_type": "stream",
     "text": [
      "[1218 22:08:25 @base.py:183] Epoch 213 (global_step 14910) finished, time:1.34 sec.\n",
      "[1218 22:08:25 @saver.py:76] Model saved to ./train_log/linenetFwbVSI2\\model-14910.\n"
     ]
    },
    {
     "name": "stderr",
     "output_type": "stream",
     "text": [
      "100%|#############################################|10/10[00:00<00:00,78.53it/s]\n"
     ]
    },
    {
     "name": "stdout",
     "output_type": "stream",
     "text": [
      "[1218 22:08:25 @monitor.py:294] input_queue_size: 50\n",
      "[1218 22:08:25 @monitor.py:294] learning_rate: 0.0004\n",
      "[1218 22:08:25 @monitor.py:294] loss/params: 0.0080051\n",
      "[1218 22:08:25 @monitor.py:294] loss/total_cost: 0.039401\n",
      "[1218 22:08:25 @monitor.py:294] loss/widths: 0.0049183\n",
      "[1218 22:08:25 @monitor.py:294] validation_loss/params: 0.028791\n",
      "[1218 22:08:25 @monitor.py:294] validation_loss/widths: 0.0070715\n",
      "[1218 22:08:25 @base.py:175] Start Epoch 214 ...\n"
     ]
    },
    {
     "name": "stderr",
     "output_type": "stream",
     "text": [
      "100%|#############################################|70/70[00:01<00:00,52.45it/s]\n"
     ]
    },
    {
     "name": "stdout",
     "output_type": "stream",
     "text": [
      "[1218 22:08:27 @base.py:183] Epoch 214 (global_step 14980) finished, time:1.34 sec.\n",
      "[1218 22:08:27 @saver.py:76] Model saved to ./train_log/linenetFwbVSI2\\model-14980.\n"
     ]
    },
    {
     "name": "stderr",
     "output_type": "stream",
     "text": [
      "100%|############################################|10/10[00:00<00:00,113.34it/s]\n"
     ]
    },
    {
     "name": "stdout",
     "output_type": "stream",
     "text": [
      "[1218 22:08:27 @monitor.py:294] input_queue_size: 50\n",
      "[1218 22:08:27 @monitor.py:294] learning_rate: 0.0004\n",
      "[1218 22:08:27 @monitor.py:294] loss/params: 0.0078867\n",
      "[1218 22:08:27 @monitor.py:294] loss/total_cost: 0.038998\n",
      "[1218 22:08:27 @monitor.py:294] loss/widths: 0.0049892\n",
      "[1218 22:08:27 @monitor.py:294] validation_loss/params: 0.028359\n",
      "[1218 22:08:27 @monitor.py:294] validation_loss/widths: 0.0069212\n",
      "[1218 22:08:27 @base.py:175] Start Epoch 215 ...\n"
     ]
    },
    {
     "name": "stderr",
     "output_type": "stream",
     "text": [
      "100%|#############################################|70/70[00:01<00:00,51.87it/s]\n"
     ]
    },
    {
     "name": "stdout",
     "output_type": "stream",
     "text": [
      "[1218 22:08:28 @base.py:183] Epoch 215 (global_step 15050) finished, time:1.35 sec.\n",
      "[1218 22:08:29 @saver.py:76] Model saved to ./train_log/linenetFwbVSI2\\model-15050.\n"
     ]
    },
    {
     "name": "stderr",
     "output_type": "stream",
     "text": [
      "100%|#############################################|10/10[00:00<00:00,98.75it/s]\n"
     ]
    },
    {
     "name": "stdout",
     "output_type": "stream",
     "text": [
      "[1218 22:08:29 @monitor.py:294] input_queue_size: 50\n",
      "[1218 22:08:29 @monitor.py:294] learning_rate: 0.0004\n",
      "[1218 22:08:29 @monitor.py:294] loss/params: 0.0078506\n",
      "[1218 22:08:29 @monitor.py:294] loss/total_cost: 0.038731\n",
      "[1218 22:08:29 @monitor.py:294] loss/widths: 0.0048669\n",
      "[1218 22:08:29 @monitor.py:294] validation_loss/params: 0.028735\n",
      "[1218 22:08:29 @monitor.py:294] validation_loss/widths: 0.0070174\n",
      "[1218 22:08:29 @base.py:175] Start Epoch 216 ...\n"
     ]
    },
    {
     "name": "stderr",
     "output_type": "stream",
     "text": [
      "100%|#############################################|70/70[00:01<00:00,52.30it/s]\n"
     ]
    },
    {
     "name": "stdout",
     "output_type": "stream",
     "text": [
      "[1218 22:08:30 @base.py:183] Epoch 216 (global_step 15120) finished, time:1.34 sec.\n",
      "[1218 22:08:31 @saver.py:76] Model saved to ./train_log/linenetFwbVSI2\\model-15120.\n"
     ]
    },
    {
     "name": "stderr",
     "output_type": "stream",
     "text": [
      "100%|#############################################|10/10[00:00<00:00,69.25it/s]\n"
     ]
    },
    {
     "name": "stdout",
     "output_type": "stream",
     "text": [
      "[1218 22:08:31 @monitor.py:294] input_queue_size: 50\n",
      "[1218 22:08:31 @monitor.py:294] learning_rate: 0.0004\n",
      "[1218 22:08:31 @monitor.py:294] loss/params: 0.0078114\n",
      "[1218 22:08:31 @monitor.py:294] loss/total_cost: 0.038363\n",
      "[1218 22:08:31 @monitor.py:294] loss/widths: 0.0046562\n",
      "[1218 22:08:31 @monitor.py:294] validation_loss/params: 0.028665\n",
      "[1218 22:08:31 @monitor.py:294] validation_loss/widths: 0.0071559\n",
      "[1218 22:08:31 @base.py:175] Start Epoch 217 ...\n"
     ]
    },
    {
     "name": "stderr",
     "output_type": "stream",
     "text": [
      "100%|#############################################|70/70[00:01<00:00,52.37it/s]\n"
     ]
    },
    {
     "name": "stdout",
     "output_type": "stream",
     "text": [
      "[1218 22:08:32 @base.py:183] Epoch 217 (global_step 15190) finished, time:1.34 sec.\n",
      "[1218 22:08:33 @saver.py:76] Model saved to ./train_log/linenetFwbVSI2\\model-15190.\n"
     ]
    },
    {
     "name": "stderr",
     "output_type": "stream",
     "text": [
      "100%|#############################################|10/10[00:00<00:00,99.73it/s]\n"
     ]
    },
    {
     "name": "stdout",
     "output_type": "stream",
     "text": [
      "[1218 22:08:33 @monitor.py:294] input_queue_size: 50\n",
      "[1218 22:08:33 @monitor.py:294] learning_rate: 0.0004\n",
      "[1218 22:08:33 @monitor.py:294] loss/params: 0.0077102\n",
      "[1218 22:08:33 @monitor.py:294] loss/total_cost: 0.038041\n",
      "[1218 22:08:33 @monitor.py:294] loss/widths: 0.0047397\n",
      "[1218 22:08:33 @monitor.py:294] validation_loss/params: 0.028475\n",
      "[1218 22:08:33 @monitor.py:294] validation_loss/widths: 0.0074566\n",
      "[1218 22:08:33 @base.py:175] Start Epoch 218 ...\n"
     ]
    },
    {
     "name": "stderr",
     "output_type": "stream",
     "text": [
      "100%|#############################################|70/70[00:01<00:00,52.65it/s]\n"
     ]
    },
    {
     "name": "stdout",
     "output_type": "stream",
     "text": [
      "[1218 22:08:34 @base.py:183] Epoch 218 (global_step 15260) finished, time:1.33 sec.\n",
      "[1218 22:08:35 @saver.py:76] Model saved to ./train_log/linenetFwbVSI2\\model-15260.\n"
     ]
    },
    {
     "name": "stderr",
     "output_type": "stream",
     "text": [
      "100%|#############################################|10/10[00:00<00:00,89.03it/s]\n"
     ]
    },
    {
     "name": "stdout",
     "output_type": "stream",
     "text": [
      "[1218 22:08:35 @monitor.py:294] input_queue_size: 50\n",
      "[1218 22:08:35 @monitor.py:294] learning_rate: 0.0004\n",
      "[1218 22:08:35 @monitor.py:294] loss/params: 0.0075829\n",
      "[1218 22:08:35 @monitor.py:294] loss/total_cost: 0.037506\n",
      "[1218 22:08:35 @monitor.py:294] loss/widths: 0.0047155\n",
      "[1218 22:08:35 @monitor.py:294] validation_loss/params: 0.028215\n",
      "[1218 22:08:35 @monitor.py:294] validation_loss/widths: 0.0071723\n",
      "[1218 22:08:35 @base.py:175] Start Epoch 219 ...\n"
     ]
    },
    {
     "name": "stderr",
     "output_type": "stream",
     "text": [
      "100%|#############################################|70/70[00:01<00:00,52.81it/s]\n"
     ]
    },
    {
     "name": "stdout",
     "output_type": "stream",
     "text": [
      "[1218 22:08:36 @base.py:183] Epoch 219 (global_step 15330) finished, time:1.33 sec.\n",
      "[1218 22:08:37 @saver.py:76] Model saved to ./train_log/linenetFwbVSI2\\model-15330.\n"
     ]
    },
    {
     "name": "stderr",
     "output_type": "stream",
     "text": [
      "100%|############################################|10/10[00:00<00:00,113.30it/s]\n"
     ]
    },
    {
     "name": "stdout",
     "output_type": "stream",
     "text": [
      "[1218 22:08:37 @monitor.py:294] input_queue_size: 50\n",
      "[1218 22:08:37 @monitor.py:294] learning_rate: 0.0004\n",
      "[1218 22:08:37 @monitor.py:294] loss/params: 0.0076601\n",
      "[1218 22:08:37 @monitor.py:294] loss/total_cost: 0.037998\n",
      "[1218 22:08:37 @monitor.py:294] loss/widths: 0.0048989\n",
      "[1218 22:08:37 @monitor.py:294] validation_loss/params: 0.028543\n",
      "[1218 22:08:37 @monitor.py:294] validation_loss/widths: 0.006933\n",
      "[1218 22:08:37 @base.py:175] Start Epoch 220 ...\n"
     ]
    },
    {
     "name": "stderr",
     "output_type": "stream",
     "text": [
      "100%|#############################################|70/70[00:01<00:00,52.33it/s]\n"
     ]
    },
    {
     "name": "stdout",
     "output_type": "stream",
     "text": [
      "[1218 22:08:38 @base.py:183] Epoch 220 (global_step 15400) finished, time:1.34 sec.\n",
      "[1218 22:08:38 @saver.py:76] Model saved to ./train_log/linenetFwbVSI2\\model-15400.\n"
     ]
    },
    {
     "name": "stderr",
     "output_type": "stream",
     "text": [
      "100%|#############################################|10/10[00:00<00:00,93.21it/s]\n"
     ]
    },
    {
     "name": "stdout",
     "output_type": "stream",
     "text": [
      "[1218 22:08:39 @monitor.py:294] input_queue_size: 50\n",
      "[1218 22:08:39 @monitor.py:294] learning_rate: 0.0004\n",
      "[1218 22:08:39 @monitor.py:294] loss/params: 0.0075217\n",
      "[1218 22:08:39 @monitor.py:294] loss/total_cost: 0.03725\n",
      "[1218 22:08:39 @monitor.py:294] loss/widths: 0.0047046\n",
      "[1218 22:08:39 @monitor.py:294] validation_loss/params: 0.028006\n",
      "[1218 22:08:39 @monitor.py:294] validation_loss/widths: 0.0069177\n",
      "[1218 22:08:39 @base.py:175] Start Epoch 221 ...\n"
     ]
    },
    {
     "name": "stderr",
     "output_type": "stream",
     "text": [
      "100%|#############################################|70/70[00:01<00:00,52.61it/s]\n"
     ]
    },
    {
     "name": "stdout",
     "output_type": "stream",
     "text": [
      "[1218 22:08:40 @base.py:183] Epoch 221 (global_step 15470) finished, time:1.33 sec.\n",
      "[1218 22:08:40 @saver.py:76] Model saved to ./train_log/linenetFwbVSI2\\model-15470.\n"
     ]
    },
    {
     "name": "stderr",
     "output_type": "stream",
     "text": [
      "100%|#############################################|10/10[00:00<00:00,78.53it/s]\n"
     ]
    },
    {
     "name": "stdout",
     "output_type": "stream",
     "text": [
      "[1218 22:08:40 @monitor.py:294] input_queue_size: 50\n",
      "[1218 22:08:40 @monitor.py:294] learning_rate: 0.0004\n",
      "[1218 22:08:41 @monitor.py:294] loss/params: 0.007525\n",
      "[1218 22:08:41 @monitor.py:294] loss/total_cost: 0.037171\n",
      "[1218 22:08:41 @monitor.py:294] loss/widths: 0.0046135\n",
      "[1218 22:08:41 @monitor.py:294] validation_loss/params: 0.02834\n",
      "[1218 22:08:41 @monitor.py:294] validation_loss/widths: 0.0070547\n",
      "[1218 22:08:41 @base.py:175] Start Epoch 222 ...\n"
     ]
    },
    {
     "name": "stderr",
     "output_type": "stream",
     "text": [
      "100%|#############################################|70/70[00:01<00:00,52.45it/s]\n"
     ]
    },
    {
     "name": "stdout",
     "output_type": "stream",
     "text": [
      "[1218 22:08:42 @base.py:183] Epoch 222 (global_step 15540) finished, time:1.34 sec.\n",
      "[1218 22:08:42 @saver.py:76] Model saved to ./train_log/linenetFwbVSI2\\model-15540.\n"
     ]
    },
    {
     "name": "stderr",
     "output_type": "stream",
     "text": [
      "100%|############################################|10/10[00:00<00:00,108.41it/s]\n"
     ]
    },
    {
     "name": "stdout",
     "output_type": "stream",
     "text": [
      "[1218 22:08:42 @monitor.py:294] input_queue_size: 50\n",
      "[1218 22:08:42 @monitor.py:294] learning_rate: 0.0004\n",
      "[1218 22:08:42 @monitor.py:294] loss/params: 0.0074629\n",
      "[1218 22:08:42 @monitor.py:294] loss/total_cost: 0.037259\n",
      "[1218 22:08:42 @monitor.py:294] loss/widths: 0.0049506\n",
      "[1218 22:08:42 @monitor.py:294] validation_loss/params: 0.028421\n",
      "[1218 22:08:42 @monitor.py:294] validation_loss/widths: 0.0069377\n",
      "[1218 22:08:42 @base.py:175] Start Epoch 223 ...\n"
     ]
    },
    {
     "name": "stderr",
     "output_type": "stream",
     "text": [
      "100%|#############################################|70/70[00:01<00:00,52.77it/s]\n"
     ]
    },
    {
     "name": "stdout",
     "output_type": "stream",
     "text": [
      "[1218 22:08:44 @base.py:183] Epoch 223 (global_step 15610) finished, time:1.33 sec.\n",
      "[1218 22:08:44 @saver.py:76] Model saved to ./train_log/linenetFwbVSI2\\model-15610.\n"
     ]
    },
    {
     "name": "stderr",
     "output_type": "stream",
     "text": [
      "100%|#############################################|10/10[00:00<00:00,78.53it/s]\n"
     ]
    },
    {
     "name": "stdout",
     "output_type": "stream",
     "text": [
      "[1218 22:08:44 @monitor.py:294] input_queue_size: 50\n",
      "[1218 22:08:44 @monitor.py:294] learning_rate: 0.0004\n",
      "[1218 22:08:44 @monitor.py:294] loss/params: 0.0072436\n",
      "[1218 22:08:44 @monitor.py:294] loss/total_cost: 0.035948\n",
      "[1218 22:08:44 @monitor.py:294] loss/widths: 0.0045174\n",
      "[1218 22:08:44 @monitor.py:294] validation_loss/params: 0.028256\n",
      "[1218 22:08:44 @monitor.py:294] validation_loss/widths: 0.0071803\n",
      "[1218 22:08:44 @base.py:175] Start Epoch 224 ...\n"
     ]
    },
    {
     "name": "stderr",
     "output_type": "stream",
     "text": [
      "100%|#############################################|70/70[00:01<00:00,52.41it/s]\n"
     ]
    },
    {
     "name": "stdout",
     "output_type": "stream",
     "text": [
      "[1218 22:08:46 @base.py:183] Epoch 224 (global_step 15680) finished, time:1.34 sec.\n",
      "[1218 22:08:46 @saver.py:76] Model saved to ./train_log/linenetFwbVSI2\\model-15680.\n"
     ]
    },
    {
     "name": "stderr",
     "output_type": "stream",
     "text": [
      "100%|#############################################|10/10[00:00<00:00,85.98it/s]\n"
     ]
    },
    {
     "name": "stdout",
     "output_type": "stream",
     "text": [
      "[1218 22:08:46 @monitor.py:294] input_queue_size: 50\n",
      "[1218 22:08:46 @monitor.py:294] learning_rate: 0.0004\n",
      "[1218 22:08:46 @monitor.py:294] loss/params: 0.0073245\n",
      "[1218 22:08:46 @monitor.py:294] loss/total_cost: 0.036521\n",
      "[1218 22:08:46 @monitor.py:294] loss/widths: 0.0047672\n",
      "[1218 22:08:46 @monitor.py:294] validation_loss/params: 0.028668\n",
      "[1218 22:08:46 @monitor.py:294] validation_loss/widths: 0.007232\n",
      "[1218 22:08:46 @base.py:175] Start Epoch 225 ...\n"
     ]
    },
    {
     "name": "stderr",
     "output_type": "stream",
     "text": [
      "100%|#############################################|70/70[00:01<00:00,53.37it/s]\n"
     ]
    },
    {
     "name": "stdout",
     "output_type": "stream",
     "text": [
      "[1218 22:08:48 @base.py:183] Epoch 225 (global_step 15750) finished, time:1.32 sec.\n",
      "[1218 22:08:48 @saver.py:76] Model saved to ./train_log/linenetFwbVSI2\\model-15750.\n"
     ]
    },
    {
     "name": "stderr",
     "output_type": "stream",
     "text": [
      "100%|############################################|10/10[00:00<00:00,112.06it/s]\n"
     ]
    },
    {
     "name": "stdout",
     "output_type": "stream",
     "text": [
      "[1218 22:08:48 @monitor.py:294] input_queue_size: 50\n",
      "[1218 22:08:48 @monitor.py:294] learning_rate: 0.0004\n",
      "[1218 22:08:48 @monitor.py:294] loss/params: 0.0072635\n",
      "[1218 22:08:48 @monitor.py:294] loss/total_cost: 0.036091\n",
      "[1218 22:08:48 @monitor.py:294] loss/widths: 0.0045822\n",
      "[1218 22:08:48 @monitor.py:294] validation_loss/params: 0.02847\n",
      "[1218 22:08:48 @monitor.py:294] validation_loss/widths: 0.0071081\n",
      "[1218 22:08:48 @base.py:175] Start Epoch 226 ...\n"
     ]
    },
    {
     "name": "stderr",
     "output_type": "stream",
     "text": [
      "100%|#############################################|70/70[00:01<00:00,52.41it/s]\n"
     ]
    },
    {
     "name": "stdout",
     "output_type": "stream",
     "text": [
      "[1218 22:08:49 @base.py:183] Epoch 226 (global_step 15820) finished, time:1.34 sec.\n",
      "[1218 22:08:50 @saver.py:76] Model saved to ./train_log/linenetFwbVSI2\\model-15820.\n"
     ]
    },
    {
     "name": "stderr",
     "output_type": "stream",
     "text": [
      "100%|#############################################|10/10[00:00<00:00,73.88it/s]\n"
     ]
    },
    {
     "name": "stdout",
     "output_type": "stream",
     "text": [
      "[1218 22:08:50 @monitor.py:294] input_queue_size: 50\n",
      "[1218 22:08:50 @monitor.py:294] learning_rate: 0.0004\n",
      "[1218 22:08:50 @monitor.py:294] loss/params: 0.0072305\n",
      "[1218 22:08:50 @monitor.py:294] loss/total_cost: 0.035911\n",
      "[1218 22:08:50 @monitor.py:294] loss/widths: 0.0045347\n",
      "[1218 22:08:50 @monitor.py:294] validation_loss/params: 0.02867\n",
      "[1218 22:08:50 @monitor.py:294] validation_loss/widths: 0.006893\n",
      "[1218 22:08:50 @base.py:175] Start Epoch 227 ...\n"
     ]
    },
    {
     "name": "stderr",
     "output_type": "stream",
     "text": [
      "100%|#############################################|70/70[00:01<00:00,52.73it/s]\n"
     ]
    },
    {
     "name": "stdout",
     "output_type": "stream",
     "text": [
      "[1218 22:08:51 @base.py:183] Epoch 227 (global_step 15890) finished, time:1.33 sec.\n",
      "[1218 22:08:52 @saver.py:76] Model saved to ./train_log/linenetFwbVSI2\\model-15890.\n"
     ]
    },
    {
     "name": "stderr",
     "output_type": "stream",
     "text": [
      "100%|#############################################|10/10[00:00<00:00,79.16it/s]\n"
     ]
    },
    {
     "name": "stdout",
     "output_type": "stream",
     "text": [
      "[1218 22:08:52 @monitor.py:294] input_queue_size: 50\n",
      "[1218 22:08:52 @monitor.py:294] learning_rate: 0.0004\n",
      "[1218 22:08:52 @monitor.py:294] loss/params: 0.0070758\n",
      "[1218 22:08:52 @monitor.py:294] loss/total_cost: 0.035429\n",
      "[1218 22:08:52 @monitor.py:294] loss/widths: 0.0046726\n",
      "[1218 22:08:52 @monitor.py:294] validation_loss/params: 0.02908\n",
      "[1218 22:08:52 @monitor.py:294] validation_loss/widths: 0.0072392\n",
      "[1218 22:08:52 @base.py:175] Start Epoch 228 ...\n"
     ]
    },
    {
     "name": "stderr",
     "output_type": "stream",
     "text": [
      "100%|#############################################|70/70[00:01<00:00,52.61it/s]\n"
     ]
    },
    {
     "name": "stdout",
     "output_type": "stream",
     "text": [
      "[1218 22:08:53 @base.py:183] Epoch 228 (global_step 15960) finished, time:1.33 sec.\n",
      "[1218 22:08:54 @saver.py:76] Model saved to ./train_log/linenetFwbVSI2\\model-15960.\n"
     ]
    },
    {
     "name": "stderr",
     "output_type": "stream",
     "text": [
      "100%|#############################################|10/10[00:00<00:00,66.94it/s]\n"
     ]
    },
    {
     "name": "stdout",
     "output_type": "stream",
     "text": [
      "[1218 22:08:54 @monitor.py:294] input_queue_size: 50\n",
      "[1218 22:08:54 @monitor.py:294] learning_rate: 0.0004\n",
      "[1218 22:08:54 @monitor.py:294] loss/params: 0.0070379\n",
      "[1218 22:08:54 @monitor.py:294] loss/total_cost: 0.035335\n",
      "[1218 22:08:54 @monitor.py:294] loss/widths: 0.0047315\n",
      "[1218 22:08:54 @monitor.py:294] validation_loss/params: 0.028673\n",
      "[1218 22:08:54 @monitor.py:294] validation_loss/widths: 0.0069727\n",
      "[1218 22:08:54 @base.py:175] Start Epoch 229 ...\n"
     ]
    },
    {
     "name": "stderr",
     "output_type": "stream",
     "text": [
      "100%|#############################################|70/70[00:01<00:00,52.65it/s]\n"
     ]
    },
    {
     "name": "stdout",
     "output_type": "stream",
     "text": [
      "[1218 22:08:55 @base.py:183] Epoch 229 (global_step 16030) finished, time:1.33 sec.\n",
      "[1218 22:08:56 @saver.py:76] Model saved to ./train_log/linenetFwbVSI2\\model-16030.\n"
     ]
    },
    {
     "name": "stderr",
     "output_type": "stream",
     "text": [
      "100%|#############################################|10/10[00:00<00:00,92.35it/s]\n"
     ]
    },
    {
     "name": "stdout",
     "output_type": "stream",
     "text": [
      "[1218 22:08:56 @monitor.py:294] input_queue_size: 50\n",
      "[1218 22:08:56 @monitor.py:294] learning_rate: 0.0004\n",
      "[1218 22:08:56 @monitor.py:294] loss/params: 0.0071988\n",
      "[1218 22:08:56 @monitor.py:294] loss/total_cost: 0.035701\n",
      "[1218 22:08:56 @monitor.py:294] loss/widths: 0.0044544\n",
      "[1218 22:08:56 @monitor.py:294] validation_loss/params: 0.028658\n",
      "[1218 22:08:56 @monitor.py:294] validation_loss/widths: 0.007052\n",
      "[1218 22:08:56 @base.py:175] Start Epoch 230 ...\n"
     ]
    },
    {
     "name": "stderr",
     "output_type": "stream",
     "text": [
      "100%|#############################################|70/70[00:01<00:00,52.81it/s]\n"
     ]
    },
    {
     "name": "stdout",
     "output_type": "stream",
     "text": [
      "[1218 22:08:57 @base.py:183] Epoch 230 (global_step 16100) finished, time:1.33 sec.\n",
      "[1218 22:08:58 @saver.py:76] Model saved to ./train_log/linenetFwbVSI2\\model-16100.\n"
     ]
    },
    {
     "name": "stderr",
     "output_type": "stream",
     "text": [
      "100%|#############################################|10/10[00:00<00:00,97.80it/s]\n"
     ]
    },
    {
     "name": "stdout",
     "output_type": "stream",
     "text": [
      "[1218 22:08:58 @monitor.py:294] input_queue_size: 50\n",
      "[1218 22:08:58 @monitor.py:294] learning_rate: 0.0004\n",
      "[1218 22:08:58 @monitor.py:294] loss/params: 0.0070371\n",
      "[1218 22:08:58 @monitor.py:294] loss/total_cost: 0.035163\n",
      "[1218 22:08:58 @monitor.py:294] loss/widths: 0.0045633\n",
      "[1218 22:08:58 @monitor.py:294] validation_loss/params: 0.028882\n",
      "[1218 22:08:58 @monitor.py:294] validation_loss/widths: 0.0070245\n",
      "[1218 22:08:58 @base.py:175] Start Epoch 231 ...\n"
     ]
    },
    {
     "name": "stderr",
     "output_type": "stream",
     "text": [
      "100%|#############################################|70/70[00:01<00:00,53.33it/s]\n"
     ]
    },
    {
     "name": "stdout",
     "output_type": "stream",
     "text": [
      "[1218 22:08:59 @base.py:183] Epoch 231 (global_step 16170) finished, time:1.32 sec.\n",
      "[1218 22:09:00 @saver.py:76] Model saved to ./train_log/linenetFwbVSI2\\model-16170.\n"
     ]
    },
    {
     "name": "stderr",
     "output_type": "stream",
     "text": [
      "100%|#############################################|10/10[00:00<00:00,83.11it/s]\n"
     ]
    },
    {
     "name": "stdout",
     "output_type": "stream",
     "text": [
      "[1218 22:09:00 @monitor.py:294] input_queue_size: 50\n",
      "[1218 22:09:00 @monitor.py:294] learning_rate: 0.0004\n",
      "[1218 22:09:00 @monitor.py:294] loss/params: 0.0068541\n",
      "[1218 22:09:00 @monitor.py:294] loss/total_cost: 0.034364\n",
      "[1218 22:09:00 @monitor.py:294] loss/widths: 0.0044968\n",
      "[1218 22:09:00 @monitor.py:294] validation_loss/params: 0.029134\n",
      "[1218 22:09:00 @monitor.py:294] validation_loss/widths: 0.0071861\n",
      "[1218 22:09:00 @base.py:175] Start Epoch 232 ...\n"
     ]
    },
    {
     "name": "stderr",
     "output_type": "stream",
     "text": [
      "100%|#############################################|70/70[00:01<00:00,52.65it/s]\n"
     ]
    },
    {
     "name": "stdout",
     "output_type": "stream",
     "text": [
      "[1218 22:09:01 @base.py:183] Epoch 232 (global_step 16240) finished, time:1.33 sec.\n",
      "[1218 22:09:02 @saver.py:76] Model saved to ./train_log/linenetFwbVSI2\\model-16240.\n"
     ]
    },
    {
     "name": "stderr",
     "output_type": "stream",
     "text": [
      "100%|#############################################|10/10[00:00<00:00,99.73it/s]\n"
     ]
    },
    {
     "name": "stdout",
     "output_type": "stream",
     "text": [
      "[1218 22:09:02 @monitor.py:294] input_queue_size: 50\n",
      "[1218 22:09:02 @monitor.py:294] learning_rate: 0.0004\n",
      "[1218 22:09:02 @monitor.py:294] loss/params: 0.0068211\n",
      "[1218 22:09:02 @monitor.py:294] loss/total_cost: 0.034346\n",
      "[1218 22:09:02 @monitor.py:294] loss/widths: 0.004612\n",
      "[1218 22:09:02 @monitor.py:294] validation_loss/params: 0.028707\n",
      "[1218 22:09:02 @monitor.py:294] validation_loss/widths: 0.0068754\n",
      "[1218 22:09:02 @base.py:175] Start Epoch 233 ...\n"
     ]
    },
    {
     "name": "stderr",
     "output_type": "stream",
     "text": [
      "100%|#############################################|70/70[00:01<00:00,52.65it/s]\n"
     ]
    },
    {
     "name": "stdout",
     "output_type": "stream",
     "text": [
      "[1218 22:09:03 @base.py:183] Epoch 233 (global_step 16310) finished, time:1.33 sec.\n",
      "[1218 22:09:03 @saver.py:76] Model saved to ./train_log/linenetFwbVSI2\\model-16310.\n"
     ]
    },
    {
     "name": "stderr",
     "output_type": "stream",
     "text": [
      "100%|############################################|10/10[00:00<00:00,103.89it/s]\n"
     ]
    },
    {
     "name": "stdout",
     "output_type": "stream",
     "text": [
      "[1218 22:09:04 @monitor.py:294] input_queue_size: 50\n",
      "[1218 22:09:04 @monitor.py:294] learning_rate: 0.0004\n",
      "[1218 22:09:04 @monitor.py:294] loss/params: 0.0068871\n",
      "[1218 22:09:04 @monitor.py:294] loss/total_cost: 0.034259\n",
      "[1218 22:09:04 @monitor.py:294] loss/widths: 0.0042619\n",
      "[1218 22:09:04 @monitor.py:294] validation_loss/params: 0.029323\n",
      "[1218 22:09:04 @monitor.py:294] validation_loss/widths: 0.0073648\n",
      "[1218 22:09:04 @base.py:175] Start Epoch 234 ...\n"
     ]
    },
    {
     "name": "stderr",
     "output_type": "stream",
     "text": [
      "100%|#############################################|70/70[00:01<00:00,52.81it/s]\n"
     ]
    },
    {
     "name": "stdout",
     "output_type": "stream",
     "text": [
      "[1218 22:09:05 @base.py:183] Epoch 234 (global_step 16380) finished, time:1.33 sec.\n",
      "[1218 22:09:05 @saver.py:76] Model saved to ./train_log/linenetFwbVSI2\\model-16380.\n"
     ]
    },
    {
     "name": "stderr",
     "output_type": "stream",
     "text": [
      "100%|#############################################|10/10[00:00<00:00,73.34it/s]\n"
     ]
    },
    {
     "name": "stdout",
     "output_type": "stream",
     "text": [
      "[1218 22:09:06 @monitor.py:294] input_queue_size: 50\n",
      "[1218 22:09:06 @monitor.py:294] learning_rate: 0.0004\n",
      "[1218 22:09:06 @monitor.py:294] loss/params: 0.0068487\n",
      "[1218 22:09:06 @monitor.py:294] loss/total_cost: 0.034058\n",
      "[1218 22:09:06 @monitor.py:294] loss/widths: 0.0042157\n",
      "[1218 22:09:06 @monitor.py:294] validation_loss/params: 0.029246\n",
      "[1218 22:09:06 @monitor.py:294] validation_loss/widths: 0.0072408\n",
      "[1218 22:09:06 @base.py:175] Start Epoch 235 ...\n"
     ]
    },
    {
     "name": "stderr",
     "output_type": "stream",
     "text": [
      "100%|#############################################|70/70[00:01<00:00,52.33it/s]\n"
     ]
    },
    {
     "name": "stdout",
     "output_type": "stream",
     "text": [
      "[1218 22:09:07 @base.py:183] Epoch 235 (global_step 16450) finished, time:1.34 sec.\n",
      "[1218 22:09:07 @saver.py:76] Model saved to ./train_log/linenetFwbVSI2\\model-16450.\n"
     ]
    },
    {
     "name": "stderr",
     "output_type": "stream",
     "text": [
      "100%|#############################################|10/10[00:00<00:00,93.21it/s]\n"
     ]
    },
    {
     "name": "stdout",
     "output_type": "stream",
     "text": [
      "[1218 22:09:07 @monitor.py:294] input_queue_size: 50\n",
      "[1218 22:09:07 @monitor.py:294] learning_rate: 0.0004\n",
      "[1218 22:09:07 @monitor.py:294] loss/params: 0.0066852\n",
      "[1218 22:09:07 @monitor.py:294] loss/total_cost: 0.033585\n",
      "[1218 22:09:07 @monitor.py:294] loss/widths: 0.0043971\n",
      "[1218 22:09:07 @monitor.py:294] validation_loss/params: 0.029033\n",
      "[1218 22:09:07 @monitor.py:294] validation_loss/widths: 0.0071409\n",
      "[1218 22:09:07 @base.py:175] Start Epoch 236 ...\n"
     ]
    },
    {
     "name": "stderr",
     "output_type": "stream",
     "text": [
      "100%|#############################################|70/70[00:01<00:00,51.64it/s]\n"
     ]
    },
    {
     "name": "stdout",
     "output_type": "stream",
     "text": [
      "[1218 22:09:09 @base.py:183] Epoch 236 (global_step 16520) finished, time:1.36 sec.\n",
      "[1218 22:09:09 @saver.py:76] Model saved to ./train_log/linenetFwbVSI2\\model-16520.\n"
     ]
    },
    {
     "name": "stderr",
     "output_type": "stream",
     "text": [
      "100%|############################################|10/10[00:00<00:00,101.77it/s]\n"
     ]
    },
    {
     "name": "stdout",
     "output_type": "stream",
     "text": [
      "[1218 22:09:09 @monitor.py:294] input_queue_size: 50\n",
      "[1218 22:09:09 @monitor.py:294] learning_rate: 0.0004\n",
      "[1218 22:09:09 @monitor.py:294] loss/params: 0.0066513\n",
      "[1218 22:09:09 @monitor.py:294] loss/total_cost: 0.033308\n",
      "[1218 22:09:09 @monitor.py:294] loss/widths: 0.0042568\n",
      "[1218 22:09:09 @monitor.py:294] validation_loss/params: 0.029306\n",
      "[1218 22:09:09 @monitor.py:294] validation_loss/widths: 0.0072118\n",
      "[1218 22:09:09 @base.py:175] Start Epoch 237 ...\n"
     ]
    },
    {
     "name": "stderr",
     "output_type": "stream",
     "text": [
      "100%|#############################################|70/70[00:01<00:00,52.57it/s]\n"
     ]
    },
    {
     "name": "stdout",
     "output_type": "stream",
     "text": [
      "[1218 22:09:11 @base.py:183] Epoch 237 (global_step 16590) finished, time:1.34 sec.\n",
      "[1218 22:09:11 @saver.py:76] Model saved to ./train_log/linenetFwbVSI2\\model-16590.\n"
     ]
    },
    {
     "name": "stderr",
     "output_type": "stream",
     "text": [
      "100%|############################################|10/10[00:00<00:00,110.78it/s]\n"
     ]
    },
    {
     "name": "stdout",
     "output_type": "stream",
     "text": [
      "[1218 22:09:11 @monitor.py:294] input_queue_size: 50\n",
      "[1218 22:09:11 @monitor.py:294] learning_rate: 0.0004\n",
      "[1218 22:09:11 @monitor.py:294] loss/params: 0.0066707\n",
      "[1218 22:09:11 @monitor.py:294] loss/total_cost: 0.033543\n",
      "[1218 22:09:11 @monitor.py:294] loss/widths: 0.0044146\n",
      "[1218 22:09:11 @monitor.py:294] validation_loss/params: 0.029635\n",
      "[1218 22:09:11 @monitor.py:294] validation_loss/widths: 0.0070887\n",
      "[1218 22:09:11 @base.py:175] Start Epoch 238 ...\n"
     ]
    },
    {
     "name": "stderr",
     "output_type": "stream",
     "text": [
      "100%|#############################################|70/70[00:01<00:00,52.30it/s]\n"
     ]
    },
    {
     "name": "stdout",
     "output_type": "stream",
     "text": [
      "[1218 22:09:13 @base.py:183] Epoch 238 (global_step 16660) finished, time:1.34 sec.\n",
      "[1218 22:09:13 @saver.py:76] Model saved to ./train_log/linenetFwbVSI2\\model-16660.\n"
     ]
    },
    {
     "name": "stderr",
     "output_type": "stream",
     "text": [
      "100%|############################################|10/10[00:00<00:00,108.44it/s]\n"
     ]
    },
    {
     "name": "stdout",
     "output_type": "stream",
     "text": [
      "[1218 22:09:13 @monitor.py:294] input_queue_size: 50\n",
      "[1218 22:09:13 @monitor.py:294] learning_rate: 0.0004\n",
      "[1218 22:09:13 @monitor.py:294] loss/params: 0.0066325\n",
      "[1218 22:09:13 @monitor.py:294] loss/total_cost: 0.033282\n",
      "[1218 22:09:13 @monitor.py:294] loss/widths: 0.0043076\n",
      "[1218 22:09:13 @monitor.py:294] validation_loss/params: 0.029788\n",
      "[1218 22:09:13 @monitor.py:294] validation_loss/widths: 0.0070727\n",
      "[1218 22:09:13 @base.py:175] Start Epoch 239 ...\n"
     ]
    },
    {
     "name": "stderr",
     "output_type": "stream",
     "text": [
      "100%|#############################################|70/70[00:01<00:00,52.34it/s]\n"
     ]
    },
    {
     "name": "stdout",
     "output_type": "stream",
     "text": [
      "[1218 22:09:14 @base.py:183] Epoch 239 (global_step 16730) finished, time:1.34 sec.\n",
      "[1218 22:09:15 @saver.py:76] Model saved to ./train_log/linenetFwbVSI2\\model-16730.\n"
     ]
    },
    {
     "name": "stderr",
     "output_type": "stream",
     "text": [
      "100%|############################################|10/10[00:00<00:00,104.98it/s]\n"
     ]
    },
    {
     "name": "stdout",
     "output_type": "stream",
     "text": [
      "[1218 22:09:15 @monitor.py:294] input_queue_size: 50\n",
      "[1218 22:09:15 @monitor.py:294] learning_rate: 0.0004\n",
      "[1218 22:09:15 @monitor.py:294] loss/params: 0.0066528\n",
      "[1218 22:09:15 @monitor.py:294] loss/total_cost: 0.033475\n",
      "[1218 22:09:15 @monitor.py:294] loss/widths: 0.0044192\n",
      "[1218 22:09:15 @monitor.py:294] validation_loss/params: 0.029963\n",
      "[1218 22:09:15 @monitor.py:294] validation_loss/widths: 0.0072636\n",
      "[1218 22:09:15 @base.py:175] Start Epoch 240 ...\n"
     ]
    },
    {
     "name": "stderr",
     "output_type": "stream",
     "text": [
      "100%|#############################################|70/70[00:01<00:00,52.26it/s]\n"
     ]
    },
    {
     "name": "stdout",
     "output_type": "stream",
     "text": [
      "[1218 22:09:16 @base.py:183] Epoch 240 (global_step 16800) finished, time:1.34 sec.\n",
      "[1218 22:09:17 @saver.py:76] Model saved to ./train_log/linenetFwbVSI2\\model-16800.\n"
     ]
    },
    {
     "name": "stderr",
     "output_type": "stream",
     "text": [
      "100%|#############################################|10/10[00:00<00:00,94.99it/s]\n"
     ]
    },
    {
     "name": "stdout",
     "output_type": "stream",
     "text": [
      "[1218 22:09:17 @monitor.py:294] input_queue_size: 50\n",
      "[1218 22:09:17 @monitor.py:294] learning_rate: 0.0004\n",
      "[1218 22:09:17 @monitor.py:294] loss/params: 0.0065743\n",
      "[1218 22:09:17 @monitor.py:294] loss/total_cost: 0.033134\n",
      "[1218 22:09:17 @monitor.py:294] loss/widths: 0.0043929\n",
      "[1218 22:09:17 @monitor.py:294] validation_loss/params: 0.029499\n",
      "[1218 22:09:17 @monitor.py:294] validation_loss/widths: 0.0072132\n",
      "[1218 22:09:17 @base.py:175] Start Epoch 241 ...\n"
     ]
    },
    {
     "name": "stderr",
     "output_type": "stream",
     "text": [
      "100%|#############################################|70/70[00:01<00:00,52.37it/s]\n"
     ]
    },
    {
     "name": "stdout",
     "output_type": "stream",
     "text": [
      "[1218 22:09:18 @base.py:183] Epoch 241 (global_step 16870) finished, time:1.34 sec.\n",
      "[1218 22:09:19 @saver.py:76] Model saved to ./train_log/linenetFwbVSI2\\model-16870.\n"
     ]
    },
    {
     "name": "stderr",
     "output_type": "stream",
     "text": [
      "100%|############################################|10/10[00:00<00:00,110.82it/s]\n"
     ]
    },
    {
     "name": "stdout",
     "output_type": "stream",
     "text": [
      "[1218 22:09:19 @monitor.py:294] input_queue_size: 50\n",
      "[1218 22:09:19 @monitor.py:294] learning_rate: 0.0004\n",
      "[1218 22:09:19 @monitor.py:294] loss/params: 0.0065612\n",
      "[1218 22:09:19 @monitor.py:294] loss/total_cost: 0.033093\n",
      "[1218 22:09:19 @monitor.py:294] loss/widths: 0.0044056\n",
      "[1218 22:09:19 @monitor.py:294] validation_loss/params: 0.030317\n",
      "[1218 22:09:19 @monitor.py:294] validation_loss/widths: 0.0076914\n",
      "[1218 22:09:19 @base.py:175] Start Epoch 242 ...\n"
     ]
    },
    {
     "name": "stderr",
     "output_type": "stream",
     "text": [
      "100%|#############################################|70/70[00:01<00:00,53.33it/s]\n"
     ]
    },
    {
     "name": "stdout",
     "output_type": "stream",
     "text": [
      "[1218 22:09:20 @base.py:183] Epoch 242 (global_step 16940) finished, time:1.32 sec.\n",
      "[1218 22:09:20 @saver.py:76] Model saved to ./train_log/linenetFwbVSI2\\model-16940.\n"
     ]
    },
    {
     "name": "stderr",
     "output_type": "stream",
     "text": [
      "100%|############################################|10/10[00:00<00:00,109.60it/s]\n"
     ]
    },
    {
     "name": "stdout",
     "output_type": "stream",
     "text": [
      "[1218 22:09:20 @monitor.py:294] input_queue_size: 50\n",
      "[1218 22:09:20 @monitor.py:294] learning_rate: 0.0004\n",
      "[1218 22:09:20 @monitor.py:294] loss/params: 0.0065266\n",
      "[1218 22:09:20 @monitor.py:294] loss/total_cost: 0.032825\n",
      "[1218 22:09:20 @monitor.py:294] loss/widths: 0.004277\n",
      "[1218 22:09:20 @monitor.py:294] validation_loss/params: 0.02985\n",
      "[1218 22:09:20 @monitor.py:294] validation_loss/widths: 0.0072162\n",
      "[1218 22:09:20 @base.py:175] Start Epoch 243 ...\n"
     ]
    },
    {
     "name": "stderr",
     "output_type": "stream",
     "text": [
      "100%|#############################################|70/70[00:01<00:00,52.22it/s]\n"
     ]
    },
    {
     "name": "stdout",
     "output_type": "stream",
     "text": [
      "[1218 22:09:22 @base.py:183] Epoch 243 (global_step 17010) finished, time:1.34 sec.\n",
      "[1218 22:09:22 @saver.py:76] Model saved to ./train_log/linenetFwbVSI2\\model-17010.\n"
     ]
    },
    {
     "name": "stderr",
     "output_type": "stream",
     "text": [
      "100%|############################################|10/10[00:00<00:00,114.67it/s]\n"
     ]
    },
    {
     "name": "stdout",
     "output_type": "stream",
     "text": [
      "[1218 22:09:22 @monitor.py:294] input_queue_size: 50\n",
      "[1218 22:09:22 @monitor.py:294] learning_rate: 0.0004\n",
      "[1218 22:09:22 @monitor.py:294] loss/params: 0.0063922\n",
      "[1218 22:09:22 @monitor.py:294] loss/total_cost: 0.032302\n",
      "[1218 22:09:22 @monitor.py:294] loss/widths: 0.0042922\n",
      "[1218 22:09:22 @monitor.py:294] validation_loss/params: 0.030034\n",
      "[1218 22:09:22 @monitor.py:294] validation_loss/widths: 0.0071949\n",
      "[1218 22:09:22 @base.py:175] Start Epoch 244 ...\n"
     ]
    },
    {
     "name": "stderr",
     "output_type": "stream",
     "text": [
      "100%|#############################################|70/70[00:01<00:00,51.79it/s]\n"
     ]
    },
    {
     "name": "stdout",
     "output_type": "stream",
     "text": [
      "[1218 22:09:24 @base.py:183] Epoch 244 (global_step 17080) finished, time:1.35 sec.\n",
      "[1218 22:09:24 @saver.py:76] Model saved to ./train_log/linenetFwbVSI2\\model-17080.\n"
     ]
    },
    {
     "name": "stderr",
     "output_type": "stream",
     "text": [
      "100%|############################################|10/10[00:00<00:00,112.06it/s]\n"
     ]
    },
    {
     "name": "stdout",
     "output_type": "stream",
     "text": [
      "[1218 22:09:24 @monitor.py:294] input_queue_size: 50\n",
      "[1218 22:09:24 @monitor.py:294] learning_rate: 0.0004\n",
      "[1218 22:09:24 @monitor.py:294] loss/params: 0.0063837\n",
      "[1218 22:09:24 @monitor.py:294] loss/total_cost: 0.032228\n",
      "[1218 22:09:24 @monitor.py:294] loss/widths: 0.0042529\n",
      "[1218 22:09:24 @monitor.py:294] validation_loss/params: 0.029678\n",
      "[1218 22:09:24 @monitor.py:294] validation_loss/widths: 0.0071314\n",
      "[1218 22:09:24 @base.py:175] Start Epoch 245 ...\n"
     ]
    },
    {
     "name": "stderr",
     "output_type": "stream",
     "text": [
      "100%|#############################################|70/70[00:01<00:00,52.81it/s]\n"
     ]
    },
    {
     "name": "stdout",
     "output_type": "stream",
     "text": [
      "[1218 22:09:26 @base.py:183] Epoch 245 (global_step 17150) finished, time:1.33 sec.\n",
      "[1218 22:09:26 @saver.py:76] Model saved to ./train_log/linenetFwbVSI2\\model-17150.\n"
     ]
    },
    {
     "name": "stderr",
     "output_type": "stream",
     "text": [
      "100%|############################################|10/10[00:00<00:00,110.81it/s]\n"
     ]
    },
    {
     "name": "stdout",
     "output_type": "stream",
     "text": [
      "[1218 22:09:26 @monitor.py:294] input_queue_size: 50\n",
      "[1218 22:09:26 @monitor.py:294] learning_rate: 0.0004\n",
      "[1218 22:09:26 @monitor.py:294] loss/params: 0.006397\n",
      "[1218 22:09:26 @monitor.py:294] loss/total_cost: 0.032183\n",
      "[1218 22:09:26 @monitor.py:294] loss/widths: 0.0041558\n",
      "[1218 22:09:26 @monitor.py:294] validation_loss/params: 0.029226\n",
      "[1218 22:09:26 @monitor.py:294] validation_loss/widths: 0.0072169\n",
      "[1218 22:09:26 @base.py:175] Start Epoch 246 ...\n"
     ]
    },
    {
     "name": "stderr",
     "output_type": "stream",
     "text": [
      "100%|#############################################|70/70[00:01<00:00,52.89it/s]\n"
     ]
    },
    {
     "name": "stdout",
     "output_type": "stream",
     "text": [
      "[1218 22:09:27 @base.py:183] Epoch 246 (global_step 17220) finished, time:1.33 sec.\n",
      "[1218 22:09:28 @saver.py:76] Model saved to ./train_log/linenetFwbVSI2\\model-17220.\n"
     ]
    },
    {
     "name": "stderr",
     "output_type": "stream",
     "text": [
      "100%|############################################|10/10[00:00<00:00,106.10it/s]\n"
     ]
    },
    {
     "name": "stdout",
     "output_type": "stream",
     "text": [
      "[1218 22:09:28 @monitor.py:294] input_queue_size: 50\n",
      "[1218 22:09:28 @monitor.py:294] learning_rate: 0.0004\n",
      "[1218 22:09:28 @monitor.py:294] loss/params: 0.006333\n",
      "[1218 22:09:28 @monitor.py:294] loss/total_cost: 0.032024\n",
      "[1218 22:09:28 @monitor.py:294] loss/widths: 0.004253\n",
      "[1218 22:09:28 @monitor.py:294] validation_loss/params: 0.029234\n",
      "[1218 22:09:28 @monitor.py:294] validation_loss/widths: 0.0070246\n",
      "[1218 22:09:28 @base.py:175] Start Epoch 247 ...\n"
     ]
    },
    {
     "name": "stderr",
     "output_type": "stream",
     "text": [
      "100%|#############################################|70/70[00:01<00:00,52.73it/s]\n"
     ]
    },
    {
     "name": "stdout",
     "output_type": "stream",
     "text": [
      "[1218 22:09:29 @base.py:183] Epoch 247 (global_step 17290) finished, time:1.33 sec.\n",
      "[1218 22:09:30 @saver.py:76] Model saved to ./train_log/linenetFwbVSI2\\model-17290.\n"
     ]
    },
    {
     "name": "stderr",
     "output_type": "stream",
     "text": [
      "100%|############################################|10/10[00:00<00:00,106.10it/s]\n"
     ]
    },
    {
     "name": "stdout",
     "output_type": "stream",
     "text": [
      "[1218 22:09:30 @monitor.py:294] input_queue_size: 50\n",
      "[1218 22:09:30 @monitor.py:294] learning_rate: 0.0004\n",
      "[1218 22:09:30 @monitor.py:294] loss/params: 0.0063124\n",
      "[1218 22:09:30 @monitor.py:294] loss/total_cost: 0.032081\n",
      "[1218 22:09:30 @monitor.py:294] loss/widths: 0.0043937\n",
      "[1218 22:09:30 @monitor.py:294] validation_loss/params: 0.029552\n",
      "[1218 22:09:30 @monitor.py:294] validation_loss/widths: 0.0070365\n",
      "[1218 22:09:30 @base.py:175] Start Epoch 248 ...\n"
     ]
    },
    {
     "name": "stderr",
     "output_type": "stream",
     "text": [
      "100%|#############################################|70/70[00:01<00:00,47.40it/s]\n"
     ]
    },
    {
     "name": "stdout",
     "output_type": "stream",
     "text": [
      "[1218 22:09:31 @base.py:183] Epoch 248 (global_step 17360) finished, time:1.48 sec.\n",
      "[1218 22:09:32 @saver.py:76] Model saved to ./train_log/linenetFwbVSI2\\model-17360.\n"
     ]
    },
    {
     "name": "stderr",
     "output_type": "stream",
     "text": [
      "100%|#############################################|10/10[00:00<00:00,69.74it/s]\n"
     ]
    },
    {
     "name": "stdout",
     "output_type": "stream",
     "text": [
      "[1218 22:09:32 @monitor.py:294] input_queue_size: 50\n",
      "[1218 22:09:32 @monitor.py:294] learning_rate: 0.0004\n",
      "[1218 22:09:32 @monitor.py:294] loss/params: 0.0062423\n",
      "[1218 22:09:32 @monitor.py:294] loss/total_cost: 0.031786\n",
      "[1218 22:09:32 @monitor.py:294] loss/widths: 0.0043797\n",
      "[1218 22:09:32 @monitor.py:294] validation_loss/params: 0.028843\n",
      "[1218 22:09:32 @monitor.py:294] validation_loss/widths: 0.0072052\n",
      "[1218 22:09:32 @base.py:175] Start Epoch 249 ...\n"
     ]
    },
    {
     "name": "stderr",
     "output_type": "stream",
     "text": [
      "100%|#############################################|70/70[00:01<00:00,51.00it/s]\n"
     ]
    },
    {
     "name": "stdout",
     "output_type": "stream",
     "text": [
      "[1218 22:09:33 @base.py:183] Epoch 249 (global_step 17430) finished, time:1.38 sec.\n",
      "[1218 22:09:34 @saver.py:76] Model saved to ./train_log/linenetFwbVSI2\\model-17430.\n"
     ]
    },
    {
     "name": "stderr",
     "output_type": "stream",
     "text": [
      "100%|############################################|10/10[00:00<00:00,110.82it/s]\n"
     ]
    },
    {
     "name": "stdout",
     "output_type": "stream",
     "text": [
      "[1218 22:09:34 @monitor.py:294] input_queue_size: 50\n",
      "[1218 22:09:34 @monitor.py:294] learning_rate: 0.0004\n",
      "[1218 22:09:34 @monitor.py:294] loss/params: 0.0061788\n",
      "[1218 22:09:34 @monitor.py:294] loss/total_cost: 0.031464\n",
      "[1218 22:09:34 @monitor.py:294] loss/widths: 0.0043119\n",
      "[1218 22:09:34 @monitor.py:294] validation_loss/params: 0.029637\n",
      "[1218 22:09:34 @monitor.py:294] validation_loss/widths: 0.0071567\n",
      "[1218 22:09:34 @base.py:175] Start Epoch 250 ...\n"
     ]
    },
    {
     "name": "stderr",
     "output_type": "stream",
     "text": [
      "100%|#############################################|70/70[00:01<00:00,52.49it/s]\n"
     ]
    },
    {
     "name": "stdout",
     "output_type": "stream",
     "text": [
      "[1218 22:09:35 @base.py:183] Epoch 250 (global_step 17500) finished, time:1.34 sec.\n",
      "[1218 22:09:36 @saver.py:76] Model saved to ./train_log/linenetFwbVSI2\\model-17500.\n"
     ]
    },
    {
     "name": "stderr",
     "output_type": "stream",
     "text": [
      "100%|#############################################|10/10[00:00<00:00,93.21it/s]\n"
     ]
    },
    {
     "name": "stdout",
     "output_type": "stream",
     "text": [
      "[1218 22:09:36 @monitor.py:294] input_queue_size: 50\n",
      "[1218 22:09:36 @monitor.py:294] learning_rate: 0.0004\n",
      "[1218 22:09:36 @monitor.py:294] loss/params: 0.006029\n",
      "[1218 22:09:36 @monitor.py:294] loss/total_cost: 0.030662\n",
      "[1218 22:09:36 @monitor.py:294] loss/widths: 0.0041105\n",
      "[1218 22:09:36 @monitor.py:294] validation_loss/params: 0.029303\n",
      "[1218 22:09:36 @monitor.py:294] validation_loss/widths: 0.0071735\n",
      "[1218 22:09:36 @base.py:175] Start Epoch 251 ...\n"
     ]
    },
    {
     "name": "stderr",
     "output_type": "stream",
     "text": [
      "\r",
      "  0%|                                                      |0/70[00:00<?,?it/s]"
     ]
    },
    {
     "name": "stdout",
     "output_type": "stream",
     "text": [
      "[1218 22:09:36 @base.py:192] Detected Ctrl-C and exiting main loop.\n"
     ]
    },
    {
     "name": "stderr",
     "output_type": "stream",
     "text": [
      " 29%|############8                                |20/70[00:00<00:01,49.37it/s]\n"
     ]
    },
    {
     "name": "stdout",
     "output_type": "stream",
     "text": [
      "[1218 22:09:36 @input_source.py:207] EnqueueThread Exited.\n"
     ]
    }
   ],
   "source": [
    "tf.reset_default_graph()\n",
    "config = tp.TrainConfig(\n",
    "    model=Model(),\n",
    "    dataflow=dataflows['train'],  # the DataFlow instance for training\n",
    "    callbacks=[\n",
    "        tp.ModelSaver(),\n",
    "        tp.MinSaver('loss_params'),\n",
    "        tp.InferenceRunner(\n",
    "            dataflows['val'],\n",
    "            # Calculate both the cost and the error for this DataFlow\n",
    "            [tp.ScalarStats('loss/params'),\n",
    "             tp.ScalarStats('loss/widths')]),\n",
    "    ],\n",
    "    steps_per_epoch=dataflows['train'].size(),\n",
    "    max_epoch=1000,\n",
    ")\n",
    "\n",
    "if LOAD:\n",
    "    config.session_init = tp.SaverRestore(LOAD)\n",
    "\n",
    "tp.QueueInputTrainer(config).train()"
   ]
  },
  {
   "cell_type": "code",
   "execution_count": null,
   "metadata": {
    "collapsed": true
   },
   "outputs": [],
   "source": []
  },
  {
   "cell_type": "code",
   "execution_count": null,
   "metadata": {
    "collapsed": false
   },
   "outputs": [],
   "source": [
    "for i in dataflows['train'].get_data():\n",
    "    q = i\n",
    "    break\n",
    "qm, qp, qw = q\n",
    "import matplotlib.pyplot as plt\n",
    "plt.imshow(qm[2], cmap=plt.cm.gray_r)\n",
    "plt.plot(qp[2, :, 1], qp[2, :, 0], color='red')\n",
    "plt.show()\n",
    "\n",
    "tp."
   ]
  },
  {
   "cell_type": "code",
   "execution_count": null,
   "metadata": {
    "collapsed": true
   },
   "outputs": [],
   "source": [
    "\n",
    "\n",
    "\n",
    "\n",
    "\n",
    "\n",
    "\n",
    "\n",
    "\n",
    "\n",
    "\n",
    "\n",
    "\n",
    "\n",
    "\n",
    "\n",
    "\n",
    "\n"
   ]
  },
  {
   "cell_type": "code",
   "execution_count": null,
   "metadata": {
    "collapsed": true
   },
   "outputs": [],
   "source": []
  }
 ],
 "metadata": {
  "kernelspec": {
   "display_name": "Python 3",
   "language": "python",
   "name": "python3"
  },
  "language_info": {
   "codemirror_mode": {
    "name": "ipython",
    "version": 3
   },
   "file_extension": ".py",
   "mimetype": "text/x-python",
   "name": "python",
   "nbconvert_exporter": "python",
   "pygments_lexer": "ipython3",
   "version": "3.6.0"
  }
 },
 "nbformat": 4,
 "nbformat_minor": 2
}
